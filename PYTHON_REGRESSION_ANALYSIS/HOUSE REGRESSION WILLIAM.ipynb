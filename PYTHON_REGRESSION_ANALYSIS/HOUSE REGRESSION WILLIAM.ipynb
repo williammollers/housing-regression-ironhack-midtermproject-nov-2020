{
 "cells": [
  {
   "cell_type": "markdown",
   "metadata": {},
   "source": [
    "# WILLIAM MOLLERS HOUSING REGRESSION: Mid-Bootcamp Project "
   ]
  },
  {
   "cell_type": "markdown",
   "metadata": {},
   "source": [
    "# 1. Importing tools and data"
   ]
  },
  {
   "cell_type": "code",
   "execution_count": 1,
   "metadata": {},
   "outputs": [],
   "source": [
    "import pandas as pd\n",
    "import numpy as np\n",
    "\n",
    "pd.set_option('display.max_columns', None)\n",
    "\n",
    "\n",
    "import seaborn as sns\n",
    "\n",
    "import matplotlib.pyplot as plt\n",
    "import matplotlib as mpl\n",
    "from matplotlib.colors import BASE_COLORS\n",
    "\n",
    "#importing the tools I will need \n",
    "#other things to potentially add as per the this article:\n",
    "#https://www.kaggle.com/ekami66/detailed-exploratory-data-analysis-with-python "
   ]
  },
  {
   "cell_type": "code",
   "execution_count": 2,
   "metadata": {},
   "outputs": [],
   "source": [
    "# Comment this if the data visualisations doesn't work on your side\n",
    "%matplotlib inline\n",
    "\n",
    "#saw this might be good. Let's see"
   ]
  },
  {
   "cell_type": "code",
   "execution_count": 3,
   "metadata": {},
   "outputs": [],
   "source": [
    "import warnings\n",
    "warnings.filterwarnings('ignore')\n",
    "warnings.filterwarnings(\"ignore\", message=\"numpy.ufunc size changed\")\n"
   ]
  },
  {
   "cell_type": "code",
   "execution_count": 4,
   "metadata": {},
   "outputs": [],
   "source": [
    "df = pd.read_csv('data_mid_bootcamp_project_regression/regression_data_clean2.csv')"
   ]
  },
  {
   "cell_type": "markdown",
   "metadata": {},
   "source": [
    "# 2. Taking a look at the data and provisonally cleaning it up"
   ]
  },
  {
   "cell_type": "markdown",
   "metadata": {},
   "source": [
    "### GOALS: \n",
    "##### Check Shape, Info, Uniques, etc\n",
    "##### To remove duplicates\n",
    "##### To ensure all column names are in the correct format\n",
    "##### Check for typing errors(extreme outliers) and deal with them\n",
    "##### Remove Columns that are not necessary for the model at all (e.g. date)\n",
    "\n",
    "\n",
    "### Technique\n",
    "##### I will examine the data and also clean minor issues. "
   ]
  },
  {
   "cell_type": "code",
   "execution_count": 5,
   "metadata": {},
   "outputs": [
    {
     "data": {
      "text/html": [
       "<div>\n",
       "<style scoped>\n",
       "    .dataframe tbody tr th:only-of-type {\n",
       "        vertical-align: middle;\n",
       "    }\n",
       "\n",
       "    .dataframe tbody tr th {\n",
       "        vertical-align: top;\n",
       "    }\n",
       "\n",
       "    .dataframe thead th {\n",
       "        text-align: right;\n",
       "    }\n",
       "</style>\n",
       "<table border=\"1\" class=\"dataframe\">\n",
       "  <thead>\n",
       "    <tr style=\"text-align: right;\">\n",
       "      <th></th>\n",
       "      <th>id</th>\n",
       "      <th>date</th>\n",
       "      <th>bedrooms</th>\n",
       "      <th>bathrooms</th>\n",
       "      <th>sqft_living</th>\n",
       "      <th>sqft_lot</th>\n",
       "      <th>floors</th>\n",
       "      <th>waterfront</th>\n",
       "      <th>view</th>\n",
       "      <th>condition</th>\n",
       "      <th>grade</th>\n",
       "      <th>sqft_above</th>\n",
       "      <th>sqft_basement</th>\n",
       "      <th>yr_built</th>\n",
       "      <th>yr_renovated</th>\n",
       "      <th>zipcode</th>\n",
       "      <th>lat</th>\n",
       "      <th>long</th>\n",
       "      <th>sqft_living15</th>\n",
       "      <th>sqft_lot15</th>\n",
       "      <th>price</th>\n",
       "    </tr>\n",
       "  </thead>\n",
       "  <tbody>\n",
       "    <tr>\n",
       "      <th>0</th>\n",
       "      <td>7129300520</td>\n",
       "      <td>10/13/14</td>\n",
       "      <td>3</td>\n",
       "      <td>1.00</td>\n",
       "      <td>1180</td>\n",
       "      <td>5650</td>\n",
       "      <td>1.0</td>\n",
       "      <td>0</td>\n",
       "      <td>0</td>\n",
       "      <td>3</td>\n",
       "      <td>7</td>\n",
       "      <td>1180</td>\n",
       "      <td>0</td>\n",
       "      <td>1955</td>\n",
       "      <td>0</td>\n",
       "      <td>98178</td>\n",
       "      <td>47.5112</td>\n",
       "      <td>-122.257</td>\n",
       "      <td>1340</td>\n",
       "      <td>5650</td>\n",
       "      <td>221900</td>\n",
       "    </tr>\n",
       "    <tr>\n",
       "      <th>1</th>\n",
       "      <td>6414100192</td>\n",
       "      <td>12/9/14</td>\n",
       "      <td>3</td>\n",
       "      <td>2.25</td>\n",
       "      <td>2570</td>\n",
       "      <td>7242</td>\n",
       "      <td>2.0</td>\n",
       "      <td>0</td>\n",
       "      <td>0</td>\n",
       "      <td>3</td>\n",
       "      <td>7</td>\n",
       "      <td>2170</td>\n",
       "      <td>400</td>\n",
       "      <td>1951</td>\n",
       "      <td>1991</td>\n",
       "      <td>98125</td>\n",
       "      <td>47.7210</td>\n",
       "      <td>-122.319</td>\n",
       "      <td>1690</td>\n",
       "      <td>7639</td>\n",
       "      <td>538000</td>\n",
       "    </tr>\n",
       "    <tr>\n",
       "      <th>2</th>\n",
       "      <td>5631500400</td>\n",
       "      <td>2/25/15</td>\n",
       "      <td>2</td>\n",
       "      <td>1.00</td>\n",
       "      <td>770</td>\n",
       "      <td>10000</td>\n",
       "      <td>1.0</td>\n",
       "      <td>0</td>\n",
       "      <td>0</td>\n",
       "      <td>3</td>\n",
       "      <td>6</td>\n",
       "      <td>770</td>\n",
       "      <td>0</td>\n",
       "      <td>1933</td>\n",
       "      <td>0</td>\n",
       "      <td>98028</td>\n",
       "      <td>47.7379</td>\n",
       "      <td>-122.233</td>\n",
       "      <td>2720</td>\n",
       "      <td>8062</td>\n",
       "      <td>180000</td>\n",
       "    </tr>\n",
       "    <tr>\n",
       "      <th>3</th>\n",
       "      <td>2487200875</td>\n",
       "      <td>12/9/14</td>\n",
       "      <td>4</td>\n",
       "      <td>3.00</td>\n",
       "      <td>1960</td>\n",
       "      <td>5000</td>\n",
       "      <td>1.0</td>\n",
       "      <td>0</td>\n",
       "      <td>0</td>\n",
       "      <td>5</td>\n",
       "      <td>7</td>\n",
       "      <td>1050</td>\n",
       "      <td>910</td>\n",
       "      <td>1965</td>\n",
       "      <td>0</td>\n",
       "      <td>98136</td>\n",
       "      <td>47.5208</td>\n",
       "      <td>-122.393</td>\n",
       "      <td>1360</td>\n",
       "      <td>5000</td>\n",
       "      <td>604000</td>\n",
       "    </tr>\n",
       "    <tr>\n",
       "      <th>4</th>\n",
       "      <td>1954400510</td>\n",
       "      <td>2/18/15</td>\n",
       "      <td>3</td>\n",
       "      <td>2.00</td>\n",
       "      <td>1680</td>\n",
       "      <td>8080</td>\n",
       "      <td>1.0</td>\n",
       "      <td>0</td>\n",
       "      <td>0</td>\n",
       "      <td>3</td>\n",
       "      <td>8</td>\n",
       "      <td>1680</td>\n",
       "      <td>0</td>\n",
       "      <td>1987</td>\n",
       "      <td>0</td>\n",
       "      <td>98074</td>\n",
       "      <td>47.6168</td>\n",
       "      <td>-122.045</td>\n",
       "      <td>1800</td>\n",
       "      <td>7503</td>\n",
       "      <td>510000</td>\n",
       "    </tr>\n",
       "    <tr>\n",
       "      <th>...</th>\n",
       "      <td>...</td>\n",
       "      <td>...</td>\n",
       "      <td>...</td>\n",
       "      <td>...</td>\n",
       "      <td>...</td>\n",
       "      <td>...</td>\n",
       "      <td>...</td>\n",
       "      <td>...</td>\n",
       "      <td>...</td>\n",
       "      <td>...</td>\n",
       "      <td>...</td>\n",
       "      <td>...</td>\n",
       "      <td>...</td>\n",
       "      <td>...</td>\n",
       "      <td>...</td>\n",
       "      <td>...</td>\n",
       "      <td>...</td>\n",
       "      <td>...</td>\n",
       "      <td>...</td>\n",
       "      <td>...</td>\n",
       "      <td>...</td>\n",
       "    </tr>\n",
       "    <tr>\n",
       "      <th>21592</th>\n",
       "      <td>263000018</td>\n",
       "      <td>5/21/14</td>\n",
       "      <td>3</td>\n",
       "      <td>2.50</td>\n",
       "      <td>1530</td>\n",
       "      <td>1131</td>\n",
       "      <td>3.0</td>\n",
       "      <td>0</td>\n",
       "      <td>0</td>\n",
       "      <td>3</td>\n",
       "      <td>8</td>\n",
       "      <td>1530</td>\n",
       "      <td>0</td>\n",
       "      <td>2009</td>\n",
       "      <td>0</td>\n",
       "      <td>98103</td>\n",
       "      <td>47.6993</td>\n",
       "      <td>-122.346</td>\n",
       "      <td>1530</td>\n",
       "      <td>1509</td>\n",
       "      <td>360000</td>\n",
       "    </tr>\n",
       "    <tr>\n",
       "      <th>21593</th>\n",
       "      <td>6600060120</td>\n",
       "      <td>2/23/15</td>\n",
       "      <td>4</td>\n",
       "      <td>2.50</td>\n",
       "      <td>2310</td>\n",
       "      <td>5813</td>\n",
       "      <td>2.0</td>\n",
       "      <td>0</td>\n",
       "      <td>0</td>\n",
       "      <td>3</td>\n",
       "      <td>8</td>\n",
       "      <td>2310</td>\n",
       "      <td>0</td>\n",
       "      <td>2014</td>\n",
       "      <td>0</td>\n",
       "      <td>98146</td>\n",
       "      <td>47.5107</td>\n",
       "      <td>-122.362</td>\n",
       "      <td>1830</td>\n",
       "      <td>7200</td>\n",
       "      <td>400000</td>\n",
       "    </tr>\n",
       "    <tr>\n",
       "      <th>21594</th>\n",
       "      <td>1523300141</td>\n",
       "      <td>6/23/14</td>\n",
       "      <td>2</td>\n",
       "      <td>0.75</td>\n",
       "      <td>1020</td>\n",
       "      <td>1350</td>\n",
       "      <td>2.0</td>\n",
       "      <td>0</td>\n",
       "      <td>0</td>\n",
       "      <td>3</td>\n",
       "      <td>7</td>\n",
       "      <td>1020</td>\n",
       "      <td>0</td>\n",
       "      <td>2009</td>\n",
       "      <td>0</td>\n",
       "      <td>98144</td>\n",
       "      <td>47.5944</td>\n",
       "      <td>-122.299</td>\n",
       "      <td>1020</td>\n",
       "      <td>2007</td>\n",
       "      <td>402101</td>\n",
       "    </tr>\n",
       "    <tr>\n",
       "      <th>21595</th>\n",
       "      <td>291310100</td>\n",
       "      <td>1/16/15</td>\n",
       "      <td>3</td>\n",
       "      <td>2.50</td>\n",
       "      <td>1600</td>\n",
       "      <td>2388</td>\n",
       "      <td>2.0</td>\n",
       "      <td>0</td>\n",
       "      <td>0</td>\n",
       "      <td>3</td>\n",
       "      <td>8</td>\n",
       "      <td>1600</td>\n",
       "      <td>0</td>\n",
       "      <td>2004</td>\n",
       "      <td>0</td>\n",
       "      <td>98027</td>\n",
       "      <td>47.5345</td>\n",
       "      <td>-122.069</td>\n",
       "      <td>1410</td>\n",
       "      <td>1287</td>\n",
       "      <td>400000</td>\n",
       "    </tr>\n",
       "    <tr>\n",
       "      <th>21596</th>\n",
       "      <td>1523300157</td>\n",
       "      <td>10/15/14</td>\n",
       "      <td>2</td>\n",
       "      <td>0.75</td>\n",
       "      <td>1020</td>\n",
       "      <td>1076</td>\n",
       "      <td>2.0</td>\n",
       "      <td>0</td>\n",
       "      <td>0</td>\n",
       "      <td>3</td>\n",
       "      <td>7</td>\n",
       "      <td>1020</td>\n",
       "      <td>0</td>\n",
       "      <td>2008</td>\n",
       "      <td>0</td>\n",
       "      <td>98144</td>\n",
       "      <td>47.5941</td>\n",
       "      <td>-122.299</td>\n",
       "      <td>1020</td>\n",
       "      <td>1357</td>\n",
       "      <td>325000</td>\n",
       "    </tr>\n",
       "  </tbody>\n",
       "</table>\n",
       "<p>21597 rows × 21 columns</p>\n",
       "</div>"
      ],
      "text/plain": [
       "               id      date  bedrooms  bathrooms  sqft_living  sqft_lot  \\\n",
       "0      7129300520  10/13/14         3       1.00         1180      5650   \n",
       "1      6414100192   12/9/14         3       2.25         2570      7242   \n",
       "2      5631500400   2/25/15         2       1.00          770     10000   \n",
       "3      2487200875   12/9/14         4       3.00         1960      5000   \n",
       "4      1954400510   2/18/15         3       2.00         1680      8080   \n",
       "...           ...       ...       ...        ...          ...       ...   \n",
       "21592   263000018   5/21/14         3       2.50         1530      1131   \n",
       "21593  6600060120   2/23/15         4       2.50         2310      5813   \n",
       "21594  1523300141   6/23/14         2       0.75         1020      1350   \n",
       "21595   291310100   1/16/15         3       2.50         1600      2388   \n",
       "21596  1523300157  10/15/14         2       0.75         1020      1076   \n",
       "\n",
       "       floors  waterfront  view  condition  grade  sqft_above  sqft_basement  \\\n",
       "0         1.0           0     0          3      7        1180              0   \n",
       "1         2.0           0     0          3      7        2170            400   \n",
       "2         1.0           0     0          3      6         770              0   \n",
       "3         1.0           0     0          5      7        1050            910   \n",
       "4         1.0           0     0          3      8        1680              0   \n",
       "...       ...         ...   ...        ...    ...         ...            ...   \n",
       "21592     3.0           0     0          3      8        1530              0   \n",
       "21593     2.0           0     0          3      8        2310              0   \n",
       "21594     2.0           0     0          3      7        1020              0   \n",
       "21595     2.0           0     0          3      8        1600              0   \n",
       "21596     2.0           0     0          3      7        1020              0   \n",
       "\n",
       "       yr_built  yr_renovated  zipcode      lat     long  sqft_living15  \\\n",
       "0          1955             0    98178  47.5112 -122.257           1340   \n",
       "1          1951          1991    98125  47.7210 -122.319           1690   \n",
       "2          1933             0    98028  47.7379 -122.233           2720   \n",
       "3          1965             0    98136  47.5208 -122.393           1360   \n",
       "4          1987             0    98074  47.6168 -122.045           1800   \n",
       "...         ...           ...      ...      ...      ...            ...   \n",
       "21592      2009             0    98103  47.6993 -122.346           1530   \n",
       "21593      2014             0    98146  47.5107 -122.362           1830   \n",
       "21594      2009             0    98144  47.5944 -122.299           1020   \n",
       "21595      2004             0    98027  47.5345 -122.069           1410   \n",
       "21596      2008             0    98144  47.5941 -122.299           1020   \n",
       "\n",
       "       sqft_lot15   price  \n",
       "0            5650  221900  \n",
       "1            7639  538000  \n",
       "2            8062  180000  \n",
       "3            5000  604000  \n",
       "4            7503  510000  \n",
       "...           ...     ...  \n",
       "21592        1509  360000  \n",
       "21593        7200  400000  \n",
       "21594        2007  402101  \n",
       "21595        1287  400000  \n",
       "21596        1357  325000  \n",
       "\n",
       "[21597 rows x 21 columns]"
      ]
     },
     "execution_count": 5,
     "metadata": {},
     "output_type": "execute_result"
    }
   ],
   "source": [
    "df"
   ]
  },
  {
   "cell_type": "code",
   "execution_count": 6,
   "metadata": {},
   "outputs": [
    {
     "data": {
      "text/plain": [
       "(21597, 21)"
      ]
     },
     "execution_count": 6,
     "metadata": {},
     "output_type": "execute_result"
    }
   ],
   "source": [
    "df.shape"
   ]
  },
  {
   "cell_type": "code",
   "execution_count": 7,
   "metadata": {},
   "outputs": [
    {
     "name": "stdout",
     "output_type": "stream",
     "text": [
      "<class 'pandas.core.frame.DataFrame'>\n",
      "RangeIndex: 21597 entries, 0 to 21596\n",
      "Data columns (total 21 columns):\n",
      " #   Column         Non-Null Count  Dtype  \n",
      "---  ------         --------------  -----  \n",
      " 0   id             21597 non-null  int64  \n",
      " 1   date           21597 non-null  object \n",
      " 2   bedrooms       21597 non-null  int64  \n",
      " 3   bathrooms      21597 non-null  float64\n",
      " 4   sqft_living    21597 non-null  int64  \n",
      " 5   sqft_lot       21597 non-null  int64  \n",
      " 6   floors         21597 non-null  float64\n",
      " 7   waterfront     21597 non-null  int64  \n",
      " 8   view           21597 non-null  int64  \n",
      " 9   condition      21597 non-null  int64  \n",
      " 10  grade          21597 non-null  int64  \n",
      " 11  sqft_above     21597 non-null  int64  \n",
      " 12  sqft_basement  21597 non-null  int64  \n",
      " 13  yr_built       21597 non-null  int64  \n",
      " 14  yr_renovated   21597 non-null  int64  \n",
      " 15  zipcode        21597 non-null  int64  \n",
      " 16  lat            21597 non-null  float64\n",
      " 17  long           21597 non-null  float64\n",
      " 18  sqft_living15  21597 non-null  int64  \n",
      " 19  sqft_lot15     21597 non-null  int64  \n",
      " 20  price          21597 non-null  int64  \n",
      "dtypes: float64(4), int64(16), object(1)\n",
      "memory usage: 3.5+ MB\n"
     ]
    }
   ],
   "source": [
    "df.info()"
   ]
  },
  {
   "cell_type": "markdown",
   "metadata": {},
   "source": [
    "All columns were imported successfully and all column names are already lowercase and with _ where necessary. No need to change anything there. \n",
    "\n",
    "We can also see that the date column is an object, let's convert this to datetime, as it may be relevant for\n",
    "further cleaning. "
   ]
  },
  {
   "cell_type": "markdown",
   "metadata": {},
   "source": [
    "# Changing the date to datetime. "
   ]
  },
  {
   "cell_type": "code",
   "execution_count": 8,
   "metadata": {},
   "outputs": [],
   "source": [
    "df['date'] = pd.to_datetime(df['date'])\n"
   ]
  },
  {
   "cell_type": "code",
   "execution_count": 9,
   "metadata": {},
   "outputs": [
    {
     "name": "stdout",
     "output_type": "stream",
     "text": [
      "<class 'pandas.core.frame.DataFrame'>\n",
      "RangeIndex: 21597 entries, 0 to 21596\n",
      "Data columns (total 21 columns):\n",
      " #   Column         Non-Null Count  Dtype         \n",
      "---  ------         --------------  -----         \n",
      " 0   id             21597 non-null  int64         \n",
      " 1   date           21597 non-null  datetime64[ns]\n",
      " 2   bedrooms       21597 non-null  int64         \n",
      " 3   bathrooms      21597 non-null  float64       \n",
      " 4   sqft_living    21597 non-null  int64         \n",
      " 5   sqft_lot       21597 non-null  int64         \n",
      " 6   floors         21597 non-null  float64       \n",
      " 7   waterfront     21597 non-null  int64         \n",
      " 8   view           21597 non-null  int64         \n",
      " 9   condition      21597 non-null  int64         \n",
      " 10  grade          21597 non-null  int64         \n",
      " 11  sqft_above     21597 non-null  int64         \n",
      " 12  sqft_basement  21597 non-null  int64         \n",
      " 13  yr_built       21597 non-null  int64         \n",
      " 14  yr_renovated   21597 non-null  int64         \n",
      " 15  zipcode        21597 non-null  int64         \n",
      " 16  lat            21597 non-null  float64       \n",
      " 17  long           21597 non-null  float64       \n",
      " 18  sqft_living15  21597 non-null  int64         \n",
      " 19  sqft_lot15     21597 non-null  int64         \n",
      " 20  price          21597 non-null  int64         \n",
      "dtypes: datetime64[ns](1), float64(4), int64(16)\n",
      "memory usage: 3.5 MB\n"
     ]
    }
   ],
   "source": [
    "df.info()\n",
    "#seems to have worked. Fantastic!"
   ]
  },
  {
   "cell_type": "markdown",
   "metadata": {},
   "source": [
    "# Checking for uniques, to see where we might have duplicates"
   ]
  },
  {
   "cell_type": "code",
   "execution_count": 10,
   "metadata": {},
   "outputs": [
    {
     "data": {
      "text/plain": [
       "id               21420\n",
       "date               372\n",
       "bedrooms            12\n",
       "bathrooms           29\n",
       "sqft_living       1034\n",
       "sqft_lot          9776\n",
       "floors               6\n",
       "waterfront           2\n",
       "view                 5\n",
       "condition            5\n",
       "grade               11\n",
       "sqft_above         942\n",
       "sqft_basement      306\n",
       "yr_built           116\n",
       "yr_renovated        70\n",
       "zipcode             70\n",
       "lat               5033\n",
       "long               751\n",
       "sqft_living15      777\n",
       "sqft_lot15        8682\n",
       "price             3622\n",
       "dtype: int64"
      ]
     },
     "execution_count": 10,
     "metadata": {},
     "output_type": "execute_result"
    }
   ],
   "source": [
    "df.nunique()"
   ]
  },
  {
   "cell_type": "markdown",
   "metadata": {},
   "source": [
    "### We do indeed have some duplicates, 177 of them, which we can see by the id column. \n",
    "\n",
    "### We can also see that we have 4 columns that are very similar: sqft_living, sqft_lot, sqft_living15, sqft_lot15. \n",
    "I assume that the 15s are newer data and I will drop the older data in the next step. "
   ]
  },
  {
   "cell_type": "markdown",
   "metadata": {},
   "source": [
    "### For now, however, let us make sure about the duplicate values "
   ]
  },
  {
   "cell_type": "code",
   "execution_count": 11,
   "metadata": {},
   "outputs": [],
   "source": [
    "df = df.sort_values(by=['id', 'date'])"
   ]
  },
  {
   "cell_type": "code",
   "execution_count": 12,
   "metadata": {
    "scrolled": true
   },
   "outputs": [
    {
     "data": {
      "text/html": [
       "<div>\n",
       "<style scoped>\n",
       "    .dataframe tbody tr th:only-of-type {\n",
       "        vertical-align: middle;\n",
       "    }\n",
       "\n",
       "    .dataframe tbody tr th {\n",
       "        vertical-align: top;\n",
       "    }\n",
       "\n",
       "    .dataframe thead th {\n",
       "        text-align: right;\n",
       "    }\n",
       "</style>\n",
       "<table border=\"1\" class=\"dataframe\">\n",
       "  <thead>\n",
       "    <tr style=\"text-align: right;\">\n",
       "      <th></th>\n",
       "      <th>id</th>\n",
       "      <th>date</th>\n",
       "      <th>bedrooms</th>\n",
       "      <th>bathrooms</th>\n",
       "      <th>sqft_living</th>\n",
       "      <th>sqft_lot</th>\n",
       "      <th>floors</th>\n",
       "      <th>waterfront</th>\n",
       "      <th>view</th>\n",
       "      <th>condition</th>\n",
       "      <th>grade</th>\n",
       "      <th>sqft_above</th>\n",
       "      <th>sqft_basement</th>\n",
       "      <th>yr_built</th>\n",
       "      <th>yr_renovated</th>\n",
       "      <th>zipcode</th>\n",
       "      <th>lat</th>\n",
       "      <th>long</th>\n",
       "      <th>sqft_living15</th>\n",
       "      <th>sqft_lot15</th>\n",
       "      <th>price</th>\n",
       "    </tr>\n",
       "  </thead>\n",
       "  <tbody>\n",
       "    <tr>\n",
       "      <th>2494</th>\n",
       "      <td>1000102</td>\n",
       "      <td>2014-09-16</td>\n",
       "      <td>6</td>\n",
       "      <td>3.00</td>\n",
       "      <td>2400</td>\n",
       "      <td>9373</td>\n",
       "      <td>2.0</td>\n",
       "      <td>0</td>\n",
       "      <td>0</td>\n",
       "      <td>3</td>\n",
       "      <td>7</td>\n",
       "      <td>2400</td>\n",
       "      <td>0</td>\n",
       "      <td>1991</td>\n",
       "      <td>0</td>\n",
       "      <td>98002</td>\n",
       "      <td>47.3262</td>\n",
       "      <td>-122.214</td>\n",
       "      <td>2060</td>\n",
       "      <td>7316</td>\n",
       "      <td>280000</td>\n",
       "    </tr>\n",
       "    <tr>\n",
       "      <th>2495</th>\n",
       "      <td>1000102</td>\n",
       "      <td>2015-04-22</td>\n",
       "      <td>6</td>\n",
       "      <td>3.00</td>\n",
       "      <td>2400</td>\n",
       "      <td>9373</td>\n",
       "      <td>2.0</td>\n",
       "      <td>0</td>\n",
       "      <td>0</td>\n",
       "      <td>3</td>\n",
       "      <td>7</td>\n",
       "      <td>2400</td>\n",
       "      <td>0</td>\n",
       "      <td>1991</td>\n",
       "      <td>0</td>\n",
       "      <td>98002</td>\n",
       "      <td>47.3262</td>\n",
       "      <td>-122.214</td>\n",
       "      <td>2060</td>\n",
       "      <td>7316</td>\n",
       "      <td>300000</td>\n",
       "    </tr>\n",
       "    <tr>\n",
       "      <th>6729</th>\n",
       "      <td>1200019</td>\n",
       "      <td>2014-05-08</td>\n",
       "      <td>4</td>\n",
       "      <td>1.75</td>\n",
       "      <td>2060</td>\n",
       "      <td>26036</td>\n",
       "      <td>1.0</td>\n",
       "      <td>0</td>\n",
       "      <td>0</td>\n",
       "      <td>4</td>\n",
       "      <td>8</td>\n",
       "      <td>1160</td>\n",
       "      <td>900</td>\n",
       "      <td>1947</td>\n",
       "      <td>0</td>\n",
       "      <td>98166</td>\n",
       "      <td>47.4444</td>\n",
       "      <td>-122.351</td>\n",
       "      <td>2590</td>\n",
       "      <td>21891</td>\n",
       "      <td>647500</td>\n",
       "    </tr>\n",
       "    <tr>\n",
       "      <th>8404</th>\n",
       "      <td>1200021</td>\n",
       "      <td>2014-08-11</td>\n",
       "      <td>3</td>\n",
       "      <td>1.00</td>\n",
       "      <td>1460</td>\n",
       "      <td>43000</td>\n",
       "      <td>1.0</td>\n",
       "      <td>0</td>\n",
       "      <td>0</td>\n",
       "      <td>3</td>\n",
       "      <td>7</td>\n",
       "      <td>1460</td>\n",
       "      <td>0</td>\n",
       "      <td>1952</td>\n",
       "      <td>0</td>\n",
       "      <td>98166</td>\n",
       "      <td>47.4434</td>\n",
       "      <td>-122.347</td>\n",
       "      <td>2250</td>\n",
       "      <td>20023</td>\n",
       "      <td>400000</td>\n",
       "    </tr>\n",
       "    <tr>\n",
       "      <th>8800</th>\n",
       "      <td>2800031</td>\n",
       "      <td>2015-04-01</td>\n",
       "      <td>3</td>\n",
       "      <td>1.00</td>\n",
       "      <td>1430</td>\n",
       "      <td>7599</td>\n",
       "      <td>1.5</td>\n",
       "      <td>0</td>\n",
       "      <td>0</td>\n",
       "      <td>4</td>\n",
       "      <td>6</td>\n",
       "      <td>1010</td>\n",
       "      <td>420</td>\n",
       "      <td>1930</td>\n",
       "      <td>0</td>\n",
       "      <td>98168</td>\n",
       "      <td>47.4783</td>\n",
       "      <td>-122.265</td>\n",
       "      <td>1290</td>\n",
       "      <td>10320</td>\n",
       "      <td>235000</td>\n",
       "    </tr>\n",
       "    <tr>\n",
       "      <th>...</th>\n",
       "      <td>...</td>\n",
       "      <td>...</td>\n",
       "      <td>...</td>\n",
       "      <td>...</td>\n",
       "      <td>...</td>\n",
       "      <td>...</td>\n",
       "      <td>...</td>\n",
       "      <td>...</td>\n",
       "      <td>...</td>\n",
       "      <td>...</td>\n",
       "      <td>...</td>\n",
       "      <td>...</td>\n",
       "      <td>...</td>\n",
       "      <td>...</td>\n",
       "      <td>...</td>\n",
       "      <td>...</td>\n",
       "      <td>...</td>\n",
       "      <td>...</td>\n",
       "      <td>...</td>\n",
       "      <td>...</td>\n",
       "      <td>...</td>\n",
       "    </tr>\n",
       "    <tr>\n",
       "      <th>16723</th>\n",
       "      <td>9842300095</td>\n",
       "      <td>2014-07-25</td>\n",
       "      <td>5</td>\n",
       "      <td>2.00</td>\n",
       "      <td>1600</td>\n",
       "      <td>4168</td>\n",
       "      <td>1.5</td>\n",
       "      <td>0</td>\n",
       "      <td>0</td>\n",
       "      <td>3</td>\n",
       "      <td>7</td>\n",
       "      <td>1600</td>\n",
       "      <td>0</td>\n",
       "      <td>1927</td>\n",
       "      <td>0</td>\n",
       "      <td>98126</td>\n",
       "      <td>47.5297</td>\n",
       "      <td>-122.381</td>\n",
       "      <td>1190</td>\n",
       "      <td>4168</td>\n",
       "      <td>365000</td>\n",
       "    </tr>\n",
       "    <tr>\n",
       "      <th>3257</th>\n",
       "      <td>9842300485</td>\n",
       "      <td>2015-03-11</td>\n",
       "      <td>2</td>\n",
       "      <td>1.00</td>\n",
       "      <td>1040</td>\n",
       "      <td>7372</td>\n",
       "      <td>1.0</td>\n",
       "      <td>0</td>\n",
       "      <td>0</td>\n",
       "      <td>5</td>\n",
       "      <td>7</td>\n",
       "      <td>840</td>\n",
       "      <td>200</td>\n",
       "      <td>1939</td>\n",
       "      <td>0</td>\n",
       "      <td>98126</td>\n",
       "      <td>47.5285</td>\n",
       "      <td>-122.378</td>\n",
       "      <td>1930</td>\n",
       "      <td>5150</td>\n",
       "      <td>380000</td>\n",
       "    </tr>\n",
       "    <tr>\n",
       "      <th>7614</th>\n",
       "      <td>9842300540</td>\n",
       "      <td>2014-06-24</td>\n",
       "      <td>3</td>\n",
       "      <td>1.00</td>\n",
       "      <td>1100</td>\n",
       "      <td>4128</td>\n",
       "      <td>1.0</td>\n",
       "      <td>0</td>\n",
       "      <td>0</td>\n",
       "      <td>4</td>\n",
       "      <td>7</td>\n",
       "      <td>720</td>\n",
       "      <td>380</td>\n",
       "      <td>1942</td>\n",
       "      <td>0</td>\n",
       "      <td>98126</td>\n",
       "      <td>47.5296</td>\n",
       "      <td>-122.379</td>\n",
       "      <td>1510</td>\n",
       "      <td>4538</td>\n",
       "      <td>339000</td>\n",
       "    </tr>\n",
       "    <tr>\n",
       "      <th>20963</th>\n",
       "      <td>9895000040</td>\n",
       "      <td>2014-07-03</td>\n",
       "      <td>2</td>\n",
       "      <td>1.75</td>\n",
       "      <td>1410</td>\n",
       "      <td>1005</td>\n",
       "      <td>1.5</td>\n",
       "      <td>0</td>\n",
       "      <td>0</td>\n",
       "      <td>3</td>\n",
       "      <td>9</td>\n",
       "      <td>900</td>\n",
       "      <td>510</td>\n",
       "      <td>2011</td>\n",
       "      <td>0</td>\n",
       "      <td>98027</td>\n",
       "      <td>47.5446</td>\n",
       "      <td>-122.018</td>\n",
       "      <td>1440</td>\n",
       "      <td>1188</td>\n",
       "      <td>399900</td>\n",
       "    </tr>\n",
       "    <tr>\n",
       "      <th>15937</th>\n",
       "      <td>9900000190</td>\n",
       "      <td>2014-10-30</td>\n",
       "      <td>3</td>\n",
       "      <td>1.00</td>\n",
       "      <td>1320</td>\n",
       "      <td>8100</td>\n",
       "      <td>1.0</td>\n",
       "      <td>0</td>\n",
       "      <td>0</td>\n",
       "      <td>3</td>\n",
       "      <td>6</td>\n",
       "      <td>880</td>\n",
       "      <td>440</td>\n",
       "      <td>1943</td>\n",
       "      <td>0</td>\n",
       "      <td>98166</td>\n",
       "      <td>47.4697</td>\n",
       "      <td>-122.351</td>\n",
       "      <td>1000</td>\n",
       "      <td>8100</td>\n",
       "      <td>268950</td>\n",
       "    </tr>\n",
       "  </tbody>\n",
       "</table>\n",
       "<p>21597 rows × 21 columns</p>\n",
       "</div>"
      ],
      "text/plain": [
       "               id       date  bedrooms  bathrooms  sqft_living  sqft_lot  \\\n",
       "2494      1000102 2014-09-16         6       3.00         2400      9373   \n",
       "2495      1000102 2015-04-22         6       3.00         2400      9373   \n",
       "6729      1200019 2014-05-08         4       1.75         2060     26036   \n",
       "8404      1200021 2014-08-11         3       1.00         1460     43000   \n",
       "8800      2800031 2015-04-01         3       1.00         1430      7599   \n",
       "...           ...        ...       ...        ...          ...       ...   \n",
       "16723  9842300095 2014-07-25         5       2.00         1600      4168   \n",
       "3257   9842300485 2015-03-11         2       1.00         1040      7372   \n",
       "7614   9842300540 2014-06-24         3       1.00         1100      4128   \n",
       "20963  9895000040 2014-07-03         2       1.75         1410      1005   \n",
       "15937  9900000190 2014-10-30         3       1.00         1320      8100   \n",
       "\n",
       "       floors  waterfront  view  condition  grade  sqft_above  sqft_basement  \\\n",
       "2494      2.0           0     0          3      7        2400              0   \n",
       "2495      2.0           0     0          3      7        2400              0   \n",
       "6729      1.0           0     0          4      8        1160            900   \n",
       "8404      1.0           0     0          3      7        1460              0   \n",
       "8800      1.5           0     0          4      6        1010            420   \n",
       "...       ...         ...   ...        ...    ...         ...            ...   \n",
       "16723     1.5           0     0          3      7        1600              0   \n",
       "3257      1.0           0     0          5      7         840            200   \n",
       "7614      1.0           0     0          4      7         720            380   \n",
       "20963     1.5           0     0          3      9         900            510   \n",
       "15937     1.0           0     0          3      6         880            440   \n",
       "\n",
       "       yr_built  yr_renovated  zipcode      lat     long  sqft_living15  \\\n",
       "2494       1991             0    98002  47.3262 -122.214           2060   \n",
       "2495       1991             0    98002  47.3262 -122.214           2060   \n",
       "6729       1947             0    98166  47.4444 -122.351           2590   \n",
       "8404       1952             0    98166  47.4434 -122.347           2250   \n",
       "8800       1930             0    98168  47.4783 -122.265           1290   \n",
       "...         ...           ...      ...      ...      ...            ...   \n",
       "16723      1927             0    98126  47.5297 -122.381           1190   \n",
       "3257       1939             0    98126  47.5285 -122.378           1930   \n",
       "7614       1942             0    98126  47.5296 -122.379           1510   \n",
       "20963      2011             0    98027  47.5446 -122.018           1440   \n",
       "15937      1943             0    98166  47.4697 -122.351           1000   \n",
       "\n",
       "       sqft_lot15   price  \n",
       "2494         7316  280000  \n",
       "2495         7316  300000  \n",
       "6729        21891  647500  \n",
       "8404        20023  400000  \n",
       "8800        10320  235000  \n",
       "...           ...     ...  \n",
       "16723        4168  365000  \n",
       "3257         5150  380000  \n",
       "7614         4538  339000  \n",
       "20963        1188  399900  \n",
       "15937        8100  268950  \n",
       "\n",
       "[21597 rows x 21 columns]"
      ]
     },
     "execution_count": 12,
     "metadata": {},
     "output_type": "execute_result"
    }
   ],
   "source": [
    "df\n"
   ]
  },
  {
   "cell_type": "markdown",
   "metadata": {},
   "source": [
    "Seems as if the date is chronological and the first id is already duplicated, but with later dates, i.e. the property was sold twice. \n",
    "I have decided to only keep the most recent sale date, as for my later processing in Tableau, this may lead to issues if I have the same id twice and it is also good practice in general (I think ;) )"
   ]
  },
  {
   "cell_type": "code",
   "execution_count": 13,
   "metadata": {},
   "outputs": [
    {
     "data": {
      "text/plain": [
       "2494      True\n",
       "2495     False\n",
       "6729     False\n",
       "8404     False\n",
       "8800     False\n",
       "         ...  \n",
       "16723    False\n",
       "3257     False\n",
       "7614     False\n",
       "20963    False\n",
       "15937    False\n",
       "Length: 21597, dtype: bool"
      ]
     },
     "execution_count": 13,
     "metadata": {},
     "output_type": "execute_result"
    }
   ],
   "source": [
    "df.duplicated(subset = 'id', keep = 'last')\n",
    "#here we can see the older record gets sorted out. Perfect!"
   ]
  },
  {
   "cell_type": "code",
   "execution_count": 14,
   "metadata": {},
   "outputs": [],
   "source": [
    "df.drop_duplicates(subset = 'id', keep =  'last', inplace = True)"
   ]
  },
  {
   "cell_type": "code",
   "execution_count": 15,
   "metadata": {},
   "outputs": [
    {
     "data": {
      "text/html": [
       "<div>\n",
       "<style scoped>\n",
       "    .dataframe tbody tr th:only-of-type {\n",
       "        vertical-align: middle;\n",
       "    }\n",
       "\n",
       "    .dataframe tbody tr th {\n",
       "        vertical-align: top;\n",
       "    }\n",
       "\n",
       "    .dataframe thead th {\n",
       "        text-align: right;\n",
       "    }\n",
       "</style>\n",
       "<table border=\"1\" class=\"dataframe\">\n",
       "  <thead>\n",
       "    <tr style=\"text-align: right;\">\n",
       "      <th></th>\n",
       "      <th>id</th>\n",
       "      <th>date</th>\n",
       "      <th>bedrooms</th>\n",
       "      <th>bathrooms</th>\n",
       "      <th>sqft_living</th>\n",
       "      <th>sqft_lot</th>\n",
       "      <th>floors</th>\n",
       "      <th>waterfront</th>\n",
       "      <th>view</th>\n",
       "      <th>condition</th>\n",
       "      <th>grade</th>\n",
       "      <th>sqft_above</th>\n",
       "      <th>sqft_basement</th>\n",
       "      <th>yr_built</th>\n",
       "      <th>yr_renovated</th>\n",
       "      <th>zipcode</th>\n",
       "      <th>lat</th>\n",
       "      <th>long</th>\n",
       "      <th>sqft_living15</th>\n",
       "      <th>sqft_lot15</th>\n",
       "      <th>price</th>\n",
       "    </tr>\n",
       "  </thead>\n",
       "  <tbody>\n",
       "    <tr>\n",
       "      <th>2495</th>\n",
       "      <td>1000102</td>\n",
       "      <td>2015-04-22</td>\n",
       "      <td>6</td>\n",
       "      <td>3.00</td>\n",
       "      <td>2400</td>\n",
       "      <td>9373</td>\n",
       "      <td>2.0</td>\n",
       "      <td>0</td>\n",
       "      <td>0</td>\n",
       "      <td>3</td>\n",
       "      <td>7</td>\n",
       "      <td>2400</td>\n",
       "      <td>0</td>\n",
       "      <td>1991</td>\n",
       "      <td>0</td>\n",
       "      <td>98002</td>\n",
       "      <td>47.3262</td>\n",
       "      <td>-122.214</td>\n",
       "      <td>2060</td>\n",
       "      <td>7316</td>\n",
       "      <td>300000</td>\n",
       "    </tr>\n",
       "    <tr>\n",
       "      <th>6729</th>\n",
       "      <td>1200019</td>\n",
       "      <td>2014-05-08</td>\n",
       "      <td>4</td>\n",
       "      <td>1.75</td>\n",
       "      <td>2060</td>\n",
       "      <td>26036</td>\n",
       "      <td>1.0</td>\n",
       "      <td>0</td>\n",
       "      <td>0</td>\n",
       "      <td>4</td>\n",
       "      <td>8</td>\n",
       "      <td>1160</td>\n",
       "      <td>900</td>\n",
       "      <td>1947</td>\n",
       "      <td>0</td>\n",
       "      <td>98166</td>\n",
       "      <td>47.4444</td>\n",
       "      <td>-122.351</td>\n",
       "      <td>2590</td>\n",
       "      <td>21891</td>\n",
       "      <td>647500</td>\n",
       "    </tr>\n",
       "    <tr>\n",
       "      <th>8404</th>\n",
       "      <td>1200021</td>\n",
       "      <td>2014-08-11</td>\n",
       "      <td>3</td>\n",
       "      <td>1.00</td>\n",
       "      <td>1460</td>\n",
       "      <td>43000</td>\n",
       "      <td>1.0</td>\n",
       "      <td>0</td>\n",
       "      <td>0</td>\n",
       "      <td>3</td>\n",
       "      <td>7</td>\n",
       "      <td>1460</td>\n",
       "      <td>0</td>\n",
       "      <td>1952</td>\n",
       "      <td>0</td>\n",
       "      <td>98166</td>\n",
       "      <td>47.4434</td>\n",
       "      <td>-122.347</td>\n",
       "      <td>2250</td>\n",
       "      <td>20023</td>\n",
       "      <td>400000</td>\n",
       "    </tr>\n",
       "    <tr>\n",
       "      <th>8800</th>\n",
       "      <td>2800031</td>\n",
       "      <td>2015-04-01</td>\n",
       "      <td>3</td>\n",
       "      <td>1.00</td>\n",
       "      <td>1430</td>\n",
       "      <td>7599</td>\n",
       "      <td>1.5</td>\n",
       "      <td>0</td>\n",
       "      <td>0</td>\n",
       "      <td>4</td>\n",
       "      <td>6</td>\n",
       "      <td>1010</td>\n",
       "      <td>420</td>\n",
       "      <td>1930</td>\n",
       "      <td>0</td>\n",
       "      <td>98168</td>\n",
       "      <td>47.4783</td>\n",
       "      <td>-122.265</td>\n",
       "      <td>1290</td>\n",
       "      <td>10320</td>\n",
       "      <td>235000</td>\n",
       "    </tr>\n",
       "    <tr>\n",
       "      <th>3553</th>\n",
       "      <td>3600057</td>\n",
       "      <td>2015-03-19</td>\n",
       "      <td>4</td>\n",
       "      <td>2.00</td>\n",
       "      <td>1650</td>\n",
       "      <td>3504</td>\n",
       "      <td>1.0</td>\n",
       "      <td>0</td>\n",
       "      <td>0</td>\n",
       "      <td>3</td>\n",
       "      <td>7</td>\n",
       "      <td>760</td>\n",
       "      <td>890</td>\n",
       "      <td>1951</td>\n",
       "      <td>2013</td>\n",
       "      <td>98144</td>\n",
       "      <td>47.5803</td>\n",
       "      <td>-122.294</td>\n",
       "      <td>1480</td>\n",
       "      <td>3504</td>\n",
       "      <td>402500</td>\n",
       "    </tr>\n",
       "    <tr>\n",
       "      <th>...</th>\n",
       "      <td>...</td>\n",
       "      <td>...</td>\n",
       "      <td>...</td>\n",
       "      <td>...</td>\n",
       "      <td>...</td>\n",
       "      <td>...</td>\n",
       "      <td>...</td>\n",
       "      <td>...</td>\n",
       "      <td>...</td>\n",
       "      <td>...</td>\n",
       "      <td>...</td>\n",
       "      <td>...</td>\n",
       "      <td>...</td>\n",
       "      <td>...</td>\n",
       "      <td>...</td>\n",
       "      <td>...</td>\n",
       "      <td>...</td>\n",
       "      <td>...</td>\n",
       "      <td>...</td>\n",
       "      <td>...</td>\n",
       "      <td>...</td>\n",
       "    </tr>\n",
       "    <tr>\n",
       "      <th>16723</th>\n",
       "      <td>9842300095</td>\n",
       "      <td>2014-07-25</td>\n",
       "      <td>5</td>\n",
       "      <td>2.00</td>\n",
       "      <td>1600</td>\n",
       "      <td>4168</td>\n",
       "      <td>1.5</td>\n",
       "      <td>0</td>\n",
       "      <td>0</td>\n",
       "      <td>3</td>\n",
       "      <td>7</td>\n",
       "      <td>1600</td>\n",
       "      <td>0</td>\n",
       "      <td>1927</td>\n",
       "      <td>0</td>\n",
       "      <td>98126</td>\n",
       "      <td>47.5297</td>\n",
       "      <td>-122.381</td>\n",
       "      <td>1190</td>\n",
       "      <td>4168</td>\n",
       "      <td>365000</td>\n",
       "    </tr>\n",
       "    <tr>\n",
       "      <th>3257</th>\n",
       "      <td>9842300485</td>\n",
       "      <td>2015-03-11</td>\n",
       "      <td>2</td>\n",
       "      <td>1.00</td>\n",
       "      <td>1040</td>\n",
       "      <td>7372</td>\n",
       "      <td>1.0</td>\n",
       "      <td>0</td>\n",
       "      <td>0</td>\n",
       "      <td>5</td>\n",
       "      <td>7</td>\n",
       "      <td>840</td>\n",
       "      <td>200</td>\n",
       "      <td>1939</td>\n",
       "      <td>0</td>\n",
       "      <td>98126</td>\n",
       "      <td>47.5285</td>\n",
       "      <td>-122.378</td>\n",
       "      <td>1930</td>\n",
       "      <td>5150</td>\n",
       "      <td>380000</td>\n",
       "    </tr>\n",
       "    <tr>\n",
       "      <th>7614</th>\n",
       "      <td>9842300540</td>\n",
       "      <td>2014-06-24</td>\n",
       "      <td>3</td>\n",
       "      <td>1.00</td>\n",
       "      <td>1100</td>\n",
       "      <td>4128</td>\n",
       "      <td>1.0</td>\n",
       "      <td>0</td>\n",
       "      <td>0</td>\n",
       "      <td>4</td>\n",
       "      <td>7</td>\n",
       "      <td>720</td>\n",
       "      <td>380</td>\n",
       "      <td>1942</td>\n",
       "      <td>0</td>\n",
       "      <td>98126</td>\n",
       "      <td>47.5296</td>\n",
       "      <td>-122.379</td>\n",
       "      <td>1510</td>\n",
       "      <td>4538</td>\n",
       "      <td>339000</td>\n",
       "    </tr>\n",
       "    <tr>\n",
       "      <th>20963</th>\n",
       "      <td>9895000040</td>\n",
       "      <td>2014-07-03</td>\n",
       "      <td>2</td>\n",
       "      <td>1.75</td>\n",
       "      <td>1410</td>\n",
       "      <td>1005</td>\n",
       "      <td>1.5</td>\n",
       "      <td>0</td>\n",
       "      <td>0</td>\n",
       "      <td>3</td>\n",
       "      <td>9</td>\n",
       "      <td>900</td>\n",
       "      <td>510</td>\n",
       "      <td>2011</td>\n",
       "      <td>0</td>\n",
       "      <td>98027</td>\n",
       "      <td>47.5446</td>\n",
       "      <td>-122.018</td>\n",
       "      <td>1440</td>\n",
       "      <td>1188</td>\n",
       "      <td>399900</td>\n",
       "    </tr>\n",
       "    <tr>\n",
       "      <th>15937</th>\n",
       "      <td>9900000190</td>\n",
       "      <td>2014-10-30</td>\n",
       "      <td>3</td>\n",
       "      <td>1.00</td>\n",
       "      <td>1320</td>\n",
       "      <td>8100</td>\n",
       "      <td>1.0</td>\n",
       "      <td>0</td>\n",
       "      <td>0</td>\n",
       "      <td>3</td>\n",
       "      <td>6</td>\n",
       "      <td>880</td>\n",
       "      <td>440</td>\n",
       "      <td>1943</td>\n",
       "      <td>0</td>\n",
       "      <td>98166</td>\n",
       "      <td>47.4697</td>\n",
       "      <td>-122.351</td>\n",
       "      <td>1000</td>\n",
       "      <td>8100</td>\n",
       "      <td>268950</td>\n",
       "    </tr>\n",
       "  </tbody>\n",
       "</table>\n",
       "<p>21420 rows × 21 columns</p>\n",
       "</div>"
      ],
      "text/plain": [
       "               id       date  bedrooms  bathrooms  sqft_living  sqft_lot  \\\n",
       "2495      1000102 2015-04-22         6       3.00         2400      9373   \n",
       "6729      1200019 2014-05-08         4       1.75         2060     26036   \n",
       "8404      1200021 2014-08-11         3       1.00         1460     43000   \n",
       "8800      2800031 2015-04-01         3       1.00         1430      7599   \n",
       "3553      3600057 2015-03-19         4       2.00         1650      3504   \n",
       "...           ...        ...       ...        ...          ...       ...   \n",
       "16723  9842300095 2014-07-25         5       2.00         1600      4168   \n",
       "3257   9842300485 2015-03-11         2       1.00         1040      7372   \n",
       "7614   9842300540 2014-06-24         3       1.00         1100      4128   \n",
       "20963  9895000040 2014-07-03         2       1.75         1410      1005   \n",
       "15937  9900000190 2014-10-30         3       1.00         1320      8100   \n",
       "\n",
       "       floors  waterfront  view  condition  grade  sqft_above  sqft_basement  \\\n",
       "2495      2.0           0     0          3      7        2400              0   \n",
       "6729      1.0           0     0          4      8        1160            900   \n",
       "8404      1.0           0     0          3      7        1460              0   \n",
       "8800      1.5           0     0          4      6        1010            420   \n",
       "3553      1.0           0     0          3      7         760            890   \n",
       "...       ...         ...   ...        ...    ...         ...            ...   \n",
       "16723     1.5           0     0          3      7        1600              0   \n",
       "3257      1.0           0     0          5      7         840            200   \n",
       "7614      1.0           0     0          4      7         720            380   \n",
       "20963     1.5           0     0          3      9         900            510   \n",
       "15937     1.0           0     0          3      6         880            440   \n",
       "\n",
       "       yr_built  yr_renovated  zipcode      lat     long  sqft_living15  \\\n",
       "2495       1991             0    98002  47.3262 -122.214           2060   \n",
       "6729       1947             0    98166  47.4444 -122.351           2590   \n",
       "8404       1952             0    98166  47.4434 -122.347           2250   \n",
       "8800       1930             0    98168  47.4783 -122.265           1290   \n",
       "3553       1951          2013    98144  47.5803 -122.294           1480   \n",
       "...         ...           ...      ...      ...      ...            ...   \n",
       "16723      1927             0    98126  47.5297 -122.381           1190   \n",
       "3257       1939             0    98126  47.5285 -122.378           1930   \n",
       "7614       1942             0    98126  47.5296 -122.379           1510   \n",
       "20963      2011             0    98027  47.5446 -122.018           1440   \n",
       "15937      1943             0    98166  47.4697 -122.351           1000   \n",
       "\n",
       "       sqft_lot15   price  \n",
       "2495         7316  300000  \n",
       "6729        21891  647500  \n",
       "8404        20023  400000  \n",
       "8800        10320  235000  \n",
       "3553         3504  402500  \n",
       "...           ...     ...  \n",
       "16723        4168  365000  \n",
       "3257         5150  380000  \n",
       "7614         4538  339000  \n",
       "20963        1188  399900  \n",
       "15937        8100  268950  \n",
       "\n",
       "[21420 rows x 21 columns]"
      ]
     },
     "execution_count": 15,
     "metadata": {},
     "output_type": "execute_result"
    }
   ],
   "source": [
    "df\n",
    "#the drop has worked(21420 instead of 21597 records) and I wanted to modify the DF, hence inplace = True. "
   ]
  },
  {
   "cell_type": "markdown",
   "metadata": {},
   "source": [
    "I can take another id that was duplicated (I know this from my prior exploration in Excel) and check if there are 2 left or not... "
   ]
  },
  {
   "cell_type": "code",
   "execution_count": 16,
   "metadata": {},
   "outputs": [
    {
     "data": {
      "text/html": [
       "<div>\n",
       "<style scoped>\n",
       "    .dataframe tbody tr th:only-of-type {\n",
       "        vertical-align: middle;\n",
       "    }\n",
       "\n",
       "    .dataframe tbody tr th {\n",
       "        vertical-align: top;\n",
       "    }\n",
       "\n",
       "    .dataframe thead th {\n",
       "        text-align: right;\n",
       "    }\n",
       "</style>\n",
       "<table border=\"1\" class=\"dataframe\">\n",
       "  <thead>\n",
       "    <tr style=\"text-align: right;\">\n",
       "      <th></th>\n",
       "      <th>id</th>\n",
       "      <th>date</th>\n",
       "      <th>bedrooms</th>\n",
       "      <th>bathrooms</th>\n",
       "      <th>sqft_living</th>\n",
       "      <th>sqft_lot</th>\n",
       "      <th>floors</th>\n",
       "      <th>waterfront</th>\n",
       "      <th>view</th>\n",
       "      <th>condition</th>\n",
       "      <th>grade</th>\n",
       "      <th>sqft_above</th>\n",
       "      <th>sqft_basement</th>\n",
       "      <th>yr_built</th>\n",
       "      <th>yr_renovated</th>\n",
       "      <th>zipcode</th>\n",
       "      <th>lat</th>\n",
       "      <th>long</th>\n",
       "      <th>sqft_living15</th>\n",
       "      <th>sqft_lot15</th>\n",
       "      <th>price</th>\n",
       "    </tr>\n",
       "  </thead>\n",
       "  <tbody>\n",
       "    <tr>\n",
       "      <th>824</th>\n",
       "      <td>726049190</td>\n",
       "      <td>2015-02-18</td>\n",
       "      <td>3</td>\n",
       "      <td>1.0</td>\n",
       "      <td>1810</td>\n",
       "      <td>7200</td>\n",
       "      <td>1.0</td>\n",
       "      <td>0</td>\n",
       "      <td>0</td>\n",
       "      <td>4</td>\n",
       "      <td>7</td>\n",
       "      <td>1130</td>\n",
       "      <td>680</td>\n",
       "      <td>1954</td>\n",
       "      <td>0</td>\n",
       "      <td>98133</td>\n",
       "      <td>47.7493</td>\n",
       "      <td>-122.351</td>\n",
       "      <td>1810</td>\n",
       "      <td>8100</td>\n",
       "      <td>431000</td>\n",
       "    </tr>\n",
       "  </tbody>\n",
       "</table>\n",
       "</div>"
      ],
      "text/plain": [
       "            id       date  bedrooms  bathrooms  sqft_living  sqft_lot  floors  \\\n",
       "824  726049190 2015-02-18         3        1.0         1810      7200     1.0   \n",
       "\n",
       "     waterfront  view  condition  grade  sqft_above  sqft_basement  yr_built  \\\n",
       "824           0     0          4      7        1130            680      1954   \n",
       "\n",
       "     yr_renovated  zipcode      lat     long  sqft_living15  sqft_lot15  \\\n",
       "824             0    98133  47.7493 -122.351           1810        8100   \n",
       "\n",
       "      price  \n",
       "824  431000  "
      ]
     },
     "execution_count": 16,
     "metadata": {},
     "output_type": "execute_result"
    }
   ],
   "source": [
    "df[df['id'] == 726049190]"
   ]
  },
  {
   "cell_type": "markdown",
   "metadata": {},
   "source": [
    "The older date was indeed removed and of course I cannot be 100% sure that this was correct for all 177 records unless I go through the data by hand, but considering the date sorting, I would say that it is very likely to be okay. "
   ]
  },
  {
   "cell_type": "markdown",
   "metadata": {},
   "source": [
    "# Now I  check for NaN values per column\n"
   ]
  },
  {
   "cell_type": "code",
   "execution_count": 17,
   "metadata": {},
   "outputs": [
    {
     "data": {
      "text/plain": [
       "id               0\n",
       "date             0\n",
       "bedrooms         0\n",
       "bathrooms        0\n",
       "sqft_living      0\n",
       "sqft_lot         0\n",
       "floors           0\n",
       "waterfront       0\n",
       "view             0\n",
       "condition        0\n",
       "grade            0\n",
       "sqft_above       0\n",
       "sqft_basement    0\n",
       "yr_built         0\n",
       "yr_renovated     0\n",
       "zipcode          0\n",
       "lat              0\n",
       "long             0\n",
       "sqft_living15    0\n",
       "sqft_lot15       0\n",
       "price            0\n",
       "dtype: int64"
      ]
     },
     "execution_count": 17,
     "metadata": {},
     "output_type": "execute_result"
    }
   ],
   "source": [
    "#Check NaN values total\n",
    "\n",
    "df.isna().sum()"
   ]
  },
  {
   "cell_type": "code",
   "execution_count": 18,
   "metadata": {},
   "outputs": [
    {
     "data": {
      "text/plain": [
       "id               0.0\n",
       "date             0.0\n",
       "bedrooms         0.0\n",
       "bathrooms        0.0\n",
       "sqft_living      0.0\n",
       "sqft_lot         0.0\n",
       "floors           0.0\n",
       "waterfront       0.0\n",
       "view             0.0\n",
       "condition        0.0\n",
       "grade            0.0\n",
       "sqft_above       0.0\n",
       "sqft_basement    0.0\n",
       "yr_built         0.0\n",
       "yr_renovated     0.0\n",
       "zipcode          0.0\n",
       "lat              0.0\n",
       "long             0.0\n",
       "sqft_living15    0.0\n",
       "sqft_lot15       0.0\n",
       "price            0.0\n",
       "dtype: float64"
      ]
     },
     "execution_count": 18,
     "metadata": {},
     "output_type": "execute_result"
    }
   ],
   "source": [
    "# Check NaNs (Percentage)\n",
    "df.isna().sum()/len(df)"
   ]
  },
  {
   "cell_type": "code",
   "execution_count": 19,
   "metadata": {},
   "outputs": [],
   "source": [
    "df.dropna(inplace = True)"
   ]
  },
  {
   "cell_type": "code",
   "execution_count": 20,
   "metadata": {},
   "outputs": [
    {
     "data": {
      "text/plain": [
       "(21420, 21)"
      ]
     },
     "execution_count": 20,
     "metadata": {},
     "output_type": "execute_result"
    }
   ],
   "source": [
    "df.shape"
   ]
  },
  {
   "cell_type": "code",
   "execution_count": 21,
   "metadata": {},
   "outputs": [
    {
     "data": {
      "text/html": [
       "<div>\n",
       "<style scoped>\n",
       "    .dataframe tbody tr th:only-of-type {\n",
       "        vertical-align: middle;\n",
       "    }\n",
       "\n",
       "    .dataframe tbody tr th {\n",
       "        vertical-align: top;\n",
       "    }\n",
       "\n",
       "    .dataframe thead th {\n",
       "        text-align: right;\n",
       "    }\n",
       "</style>\n",
       "<table border=\"1\" class=\"dataframe\">\n",
       "  <thead>\n",
       "    <tr style=\"text-align: right;\">\n",
       "      <th></th>\n",
       "      <th>id</th>\n",
       "      <th>bedrooms</th>\n",
       "      <th>bathrooms</th>\n",
       "      <th>sqft_living</th>\n",
       "      <th>sqft_lot</th>\n",
       "      <th>floors</th>\n",
       "      <th>waterfront</th>\n",
       "      <th>view</th>\n",
       "      <th>condition</th>\n",
       "      <th>grade</th>\n",
       "      <th>sqft_above</th>\n",
       "      <th>sqft_basement</th>\n",
       "      <th>yr_built</th>\n",
       "      <th>yr_renovated</th>\n",
       "      <th>zipcode</th>\n",
       "      <th>lat</th>\n",
       "      <th>long</th>\n",
       "      <th>sqft_living15</th>\n",
       "      <th>sqft_lot15</th>\n",
       "      <th>price</th>\n",
       "    </tr>\n",
       "  </thead>\n",
       "  <tbody>\n",
       "    <tr>\n",
       "      <th>count</th>\n",
       "      <td>2.142000e+04</td>\n",
       "      <td>21420.000000</td>\n",
       "      <td>21420.000000</td>\n",
       "      <td>21420.000000</td>\n",
       "      <td>2.142000e+04</td>\n",
       "      <td>21420.000000</td>\n",
       "      <td>21420.000000</td>\n",
       "      <td>21420.000000</td>\n",
       "      <td>21420.000000</td>\n",
       "      <td>21420.000000</td>\n",
       "      <td>21420.000000</td>\n",
       "      <td>21420.000000</td>\n",
       "      <td>21420.000000</td>\n",
       "      <td>21420.000000</td>\n",
       "      <td>21420.00000</td>\n",
       "      <td>21420.000000</td>\n",
       "      <td>21420.000000</td>\n",
       "      <td>21420.000000</td>\n",
       "      <td>21420.000000</td>\n",
       "      <td>2.142000e+04</td>\n",
       "    </tr>\n",
       "    <tr>\n",
       "      <th>mean</th>\n",
       "      <td>4.580940e+09</td>\n",
       "      <td>3.373950</td>\n",
       "      <td>2.118429</td>\n",
       "      <td>2083.132633</td>\n",
       "      <td>1.512804e+04</td>\n",
       "      <td>1.495985</td>\n",
       "      <td>0.007610</td>\n",
       "      <td>0.235107</td>\n",
       "      <td>3.410784</td>\n",
       "      <td>7.662792</td>\n",
       "      <td>1791.170215</td>\n",
       "      <td>291.962418</td>\n",
       "      <td>1971.092997</td>\n",
       "      <td>84.793091</td>\n",
       "      <td>98077.87437</td>\n",
       "      <td>47.560197</td>\n",
       "      <td>-122.213784</td>\n",
       "      <td>1988.384080</td>\n",
       "      <td>12775.718161</td>\n",
       "      <td>5.418614e+05</td>\n",
       "    </tr>\n",
       "    <tr>\n",
       "      <th>std</th>\n",
       "      <td>2.876761e+09</td>\n",
       "      <td>0.925405</td>\n",
       "      <td>0.768720</td>\n",
       "      <td>918.808412</td>\n",
       "      <td>4.153080e+04</td>\n",
       "      <td>0.540081</td>\n",
       "      <td>0.086903</td>\n",
       "      <td>0.767165</td>\n",
       "      <td>0.650035</td>\n",
       "      <td>1.171971</td>\n",
       "      <td>828.692965</td>\n",
       "      <td>442.875502</td>\n",
       "      <td>29.387141</td>\n",
       "      <td>402.574626</td>\n",
       "      <td>53.47748</td>\n",
       "      <td>0.138589</td>\n",
       "      <td>0.140791</td>\n",
       "      <td>685.537057</td>\n",
       "      <td>27345.621867</td>\n",
       "      <td>3.675569e+05</td>\n",
       "    </tr>\n",
       "    <tr>\n",
       "      <th>min</th>\n",
       "      <td>1.000102e+06</td>\n",
       "      <td>1.000000</td>\n",
       "      <td>0.500000</td>\n",
       "      <td>370.000000</td>\n",
       "      <td>5.200000e+02</td>\n",
       "      <td>1.000000</td>\n",
       "      <td>0.000000</td>\n",
       "      <td>0.000000</td>\n",
       "      <td>1.000000</td>\n",
       "      <td>3.000000</td>\n",
       "      <td>370.000000</td>\n",
       "      <td>0.000000</td>\n",
       "      <td>1900.000000</td>\n",
       "      <td>0.000000</td>\n",
       "      <td>98001.00000</td>\n",
       "      <td>47.155900</td>\n",
       "      <td>-122.519000</td>\n",
       "      <td>399.000000</td>\n",
       "      <td>651.000000</td>\n",
       "      <td>7.800000e+04</td>\n",
       "    </tr>\n",
       "    <tr>\n",
       "      <th>25%</th>\n",
       "      <td>2.123537e+09</td>\n",
       "      <td>3.000000</td>\n",
       "      <td>1.750000</td>\n",
       "      <td>1430.000000</td>\n",
       "      <td>5.040000e+03</td>\n",
       "      <td>1.000000</td>\n",
       "      <td>0.000000</td>\n",
       "      <td>0.000000</td>\n",
       "      <td>3.000000</td>\n",
       "      <td>7.000000</td>\n",
       "      <td>1200.000000</td>\n",
       "      <td>0.000000</td>\n",
       "      <td>1952.000000</td>\n",
       "      <td>0.000000</td>\n",
       "      <td>98033.00000</td>\n",
       "      <td>47.471200</td>\n",
       "      <td>-122.328000</td>\n",
       "      <td>1490.000000</td>\n",
       "      <td>5100.000000</td>\n",
       "      <td>3.249500e+05</td>\n",
       "    </tr>\n",
       "    <tr>\n",
       "      <th>50%</th>\n",
       "      <td>3.904921e+09</td>\n",
       "      <td>3.000000</td>\n",
       "      <td>2.250000</td>\n",
       "      <td>1920.000000</td>\n",
       "      <td>7.614000e+03</td>\n",
       "      <td>1.500000</td>\n",
       "      <td>0.000000</td>\n",
       "      <td>0.000000</td>\n",
       "      <td>3.000000</td>\n",
       "      <td>7.000000</td>\n",
       "      <td>1560.000000</td>\n",
       "      <td>0.000000</td>\n",
       "      <td>1975.000000</td>\n",
       "      <td>0.000000</td>\n",
       "      <td>98065.00000</td>\n",
       "      <td>47.572100</td>\n",
       "      <td>-122.230000</td>\n",
       "      <td>1840.000000</td>\n",
       "      <td>7620.000000</td>\n",
       "      <td>4.505500e+05</td>\n",
       "    </tr>\n",
       "    <tr>\n",
       "      <th>75%</th>\n",
       "      <td>7.308900e+09</td>\n",
       "      <td>4.000000</td>\n",
       "      <td>2.500000</td>\n",
       "      <td>2550.000000</td>\n",
       "      <td>1.069050e+04</td>\n",
       "      <td>2.000000</td>\n",
       "      <td>0.000000</td>\n",
       "      <td>0.000000</td>\n",
       "      <td>4.000000</td>\n",
       "      <td>8.000000</td>\n",
       "      <td>2220.000000</td>\n",
       "      <td>560.000000</td>\n",
       "      <td>1997.000000</td>\n",
       "      <td>0.000000</td>\n",
       "      <td>98117.00000</td>\n",
       "      <td>47.678100</td>\n",
       "      <td>-122.125000</td>\n",
       "      <td>2370.000000</td>\n",
       "      <td>10086.250000</td>\n",
       "      <td>6.450000e+05</td>\n",
       "    </tr>\n",
       "    <tr>\n",
       "      <th>max</th>\n",
       "      <td>9.900000e+09</td>\n",
       "      <td>33.000000</td>\n",
       "      <td>8.000000</td>\n",
       "      <td>13540.000000</td>\n",
       "      <td>1.651359e+06</td>\n",
       "      <td>3.500000</td>\n",
       "      <td>1.000000</td>\n",
       "      <td>4.000000</td>\n",
       "      <td>5.000000</td>\n",
       "      <td>13.000000</td>\n",
       "      <td>9410.000000</td>\n",
       "      <td>4820.000000</td>\n",
       "      <td>2015.000000</td>\n",
       "      <td>2015.000000</td>\n",
       "      <td>98199.00000</td>\n",
       "      <td>47.777600</td>\n",
       "      <td>-121.315000</td>\n",
       "      <td>6210.000000</td>\n",
       "      <td>871200.000000</td>\n",
       "      <td>7.700000e+06</td>\n",
       "    </tr>\n",
       "  </tbody>\n",
       "</table>\n",
       "</div>"
      ],
      "text/plain": [
       "                 id      bedrooms     bathrooms   sqft_living      sqft_lot  \\\n",
       "count  2.142000e+04  21420.000000  21420.000000  21420.000000  2.142000e+04   \n",
       "mean   4.580940e+09      3.373950      2.118429   2083.132633  1.512804e+04   \n",
       "std    2.876761e+09      0.925405      0.768720    918.808412  4.153080e+04   \n",
       "min    1.000102e+06      1.000000      0.500000    370.000000  5.200000e+02   \n",
       "25%    2.123537e+09      3.000000      1.750000   1430.000000  5.040000e+03   \n",
       "50%    3.904921e+09      3.000000      2.250000   1920.000000  7.614000e+03   \n",
       "75%    7.308900e+09      4.000000      2.500000   2550.000000  1.069050e+04   \n",
       "max    9.900000e+09     33.000000      8.000000  13540.000000  1.651359e+06   \n",
       "\n",
       "             floors    waterfront          view     condition         grade  \\\n",
       "count  21420.000000  21420.000000  21420.000000  21420.000000  21420.000000   \n",
       "mean       1.495985      0.007610      0.235107      3.410784      7.662792   \n",
       "std        0.540081      0.086903      0.767165      0.650035      1.171971   \n",
       "min        1.000000      0.000000      0.000000      1.000000      3.000000   \n",
       "25%        1.000000      0.000000      0.000000      3.000000      7.000000   \n",
       "50%        1.500000      0.000000      0.000000      3.000000      7.000000   \n",
       "75%        2.000000      0.000000      0.000000      4.000000      8.000000   \n",
       "max        3.500000      1.000000      4.000000      5.000000     13.000000   \n",
       "\n",
       "         sqft_above  sqft_basement      yr_built  yr_renovated      zipcode  \\\n",
       "count  21420.000000   21420.000000  21420.000000  21420.000000  21420.00000   \n",
       "mean    1791.170215     291.962418   1971.092997     84.793091  98077.87437   \n",
       "std      828.692965     442.875502     29.387141    402.574626     53.47748   \n",
       "min      370.000000       0.000000   1900.000000      0.000000  98001.00000   \n",
       "25%     1200.000000       0.000000   1952.000000      0.000000  98033.00000   \n",
       "50%     1560.000000       0.000000   1975.000000      0.000000  98065.00000   \n",
       "75%     2220.000000     560.000000   1997.000000      0.000000  98117.00000   \n",
       "max     9410.000000    4820.000000   2015.000000   2015.000000  98199.00000   \n",
       "\n",
       "                lat          long  sqft_living15     sqft_lot15         price  \n",
       "count  21420.000000  21420.000000   21420.000000   21420.000000  2.142000e+04  \n",
       "mean      47.560197   -122.213784    1988.384080   12775.718161  5.418614e+05  \n",
       "std        0.138589      0.140791     685.537057   27345.621867  3.675569e+05  \n",
       "min       47.155900   -122.519000     399.000000     651.000000  7.800000e+04  \n",
       "25%       47.471200   -122.328000    1490.000000    5100.000000  3.249500e+05  \n",
       "50%       47.572100   -122.230000    1840.000000    7620.000000  4.505500e+05  \n",
       "75%       47.678100   -122.125000    2370.000000   10086.250000  6.450000e+05  \n",
       "max       47.777600   -121.315000    6210.000000  871200.000000  7.700000e+06  "
      ]
     },
     "execution_count": 21,
     "metadata": {},
     "output_type": "execute_result"
    }
   ],
   "source": [
    "df.describe()\n"
   ]
  },
  {
   "cell_type": "markdown",
   "metadata": {},
   "source": [
    "### Have we really got 0 NaNs? \n",
    "\n",
    "It appears so, as no rows were removed in our processing. \n",
    "\n",
    "Well we do have some zeros, but these are not NaNs, in fact they appear to act like Booleans, e.g. waterfront 0 = False and 1 = True and not like numeric values.\n",
    "in total there are four columns which have zeros:\n",
    "\n",
    "waterfront, view, sqft_basement & yr_renovated \n",
    "\n",
    "These could all be converted into ***Boolean*** categorical data types, but that will happen further down. \n",
    "\n",
    "We also have some ***Outliers*** that will be dealt with later (cf. bathrooms, bedrooms, grade) \n"
   ]
  },
  {
   "cell_type": "markdown",
   "metadata": {},
   "source": [
    "Now Let's plot all the columns so we can see what other weird things we might have"
   ]
  },
  {
   "cell_type": "code",
   "execution_count": 22,
   "metadata": {},
   "outputs": [
    {
     "data": {
      "image/png": "[encoded data removed]",
      "text/plain": [
       "<Figure size 1152x1440 with 20 Axes>"
      ]
     },
     "metadata": {
      "needs_background": "light"
     },
     "output_type": "display_data"
    }
   ],
   "source": [
    "df.hist(figsize=(16, 20), bins=50, xlabelsize=8, ylabelsize=8);"
   ]
  },
  {
   "cell_type": "markdown",
   "metadata": {},
   "source": [
    "# SUMMARY AND TO-DO-LIST AFTER FIRST CHECK OF THE DATA\n",
    "\n",
    "## Cleaning\n",
    "\n",
    "***GENERAL***\n",
    "\n",
    "- All columns are written without spaces and in lower case, so there is no need to change the names\n",
    "- Date has been converted to a date format\n",
    "\n",
    "***DROPPING***\n",
    "\n",
    "- We can drop the column **date**, because it refers to the date of sale and all the dates are within a year of each other. This will not add any value. If, however, the sales were over 50 years, then this would be relevant because of inflation. \n",
    "- Furthermore sqft_living and sqft_lot can be dropped, since we'll keep the newest values found in sqft_living15 and sqft_lot15.\n",
    "- Lat, Long and zipcode won't be needed for my analysis in python. \n",
    "\n",
    "***DATA TYPES***\n",
    "\n",
    "- We can change multiple columns into a boolean format: \n",
    "waterfront = already boolean, perfect. \n",
    "sqft_basement, yr_renovated and view. \n",
    "\n",
    "- All features except from date were numerical, but the reality is that some of them are categorical:\n",
    "\n",
    "\n",
    "\n",
    "## Wrangling\n",
    "\n",
    "***OUTLIERS AND BUCKETING***\n",
    "\n",
    "- Deal with **outliers** in bedrooms, bathrooms and floors\n",
    "\n",
    "- Keep only one of condition and grade TBC\n",
    "\n",
    "## Testing\n",
    "\n",
    "- I will aim to do 2 Iterations of cleaning: \n",
    "1st: with minimal cleaning \n",
    "2nd: with 1.5*IQR as the basis for cleaning\n",
    "3rd: with \n",
    "\n",
    "- Within each iteration I will do three separate tests\n",
    "1. With all remaining columns\n",
    "2. With only those that are at least 0.45 correlated to price\n",
    "3. With only those that are at least 0.45 correlated to price and less than 0.75 correlated to each other. \n",
    "\n",
    "- Making sure that I create a separate test for properties that are valued at or above 650k \n",
    "Here I will do the same iterations as above, but then will also list some qualitative explanations. "
   ]
  },
  {
   "cell_type": "markdown",
   "metadata": {},
   "source": [
    "#### Dropping unnecessary Columns"
   ]
  },
  {
   "cell_type": "code",
   "execution_count": 23,
   "metadata": {},
   "outputs": [],
   "source": [
    "df.drop(['id','date', 'sqft_living', 'sqft_lot', 'lat', 'long', 'zipcode'], axis=1, inplace=True)"
   ]
  },
  {
   "cell_type": "markdown",
   "metadata": {},
   "source": [
    "#### Changing data types"
   ]
  },
  {
   "cell_type": "code",
   "execution_count": 24,
   "metadata": {},
   "outputs": [],
   "source": [
    "df = df.astype({'sqft_basement': 'bool' ,'yr_renovated': 'bool', 'view': 'bool'})"
   ]
  },
  {
   "cell_type": "code",
   "execution_count": 25,
   "metadata": {},
   "outputs": [
    {
     "data": {
      "text/html": [
       "<div>\n",
       "<style scoped>\n",
       "    .dataframe tbody tr th:only-of-type {\n",
       "        vertical-align: middle;\n",
       "    }\n",
       "\n",
       "    .dataframe tbody tr th {\n",
       "        vertical-align: top;\n",
       "    }\n",
       "\n",
       "    .dataframe thead th {\n",
       "        text-align: right;\n",
       "    }\n",
       "</style>\n",
       "<table border=\"1\" class=\"dataframe\">\n",
       "  <thead>\n",
       "    <tr style=\"text-align: right;\">\n",
       "      <th></th>\n",
       "      <th>bedrooms</th>\n",
       "      <th>bathrooms</th>\n",
       "      <th>floors</th>\n",
       "      <th>waterfront</th>\n",
       "      <th>view</th>\n",
       "      <th>condition</th>\n",
       "      <th>grade</th>\n",
       "      <th>sqft_above</th>\n",
       "      <th>sqft_basement</th>\n",
       "      <th>yr_built</th>\n",
       "      <th>yr_renovated</th>\n",
       "      <th>sqft_living15</th>\n",
       "      <th>sqft_lot15</th>\n",
       "      <th>price</th>\n",
       "    </tr>\n",
       "  </thead>\n",
       "  <tbody>\n",
       "    <tr>\n",
       "      <th>2495</th>\n",
       "      <td>6</td>\n",
       "      <td>3.00</td>\n",
       "      <td>2.0</td>\n",
       "      <td>0</td>\n",
       "      <td>False</td>\n",
       "      <td>3</td>\n",
       "      <td>7</td>\n",
       "      <td>2400</td>\n",
       "      <td>False</td>\n",
       "      <td>1991</td>\n",
       "      <td>False</td>\n",
       "      <td>2060</td>\n",
       "      <td>7316</td>\n",
       "      <td>300000</td>\n",
       "    </tr>\n",
       "    <tr>\n",
       "      <th>6729</th>\n",
       "      <td>4</td>\n",
       "      <td>1.75</td>\n",
       "      <td>1.0</td>\n",
       "      <td>0</td>\n",
       "      <td>False</td>\n",
       "      <td>4</td>\n",
       "      <td>8</td>\n",
       "      <td>1160</td>\n",
       "      <td>True</td>\n",
       "      <td>1947</td>\n",
       "      <td>False</td>\n",
       "      <td>2590</td>\n",
       "      <td>21891</td>\n",
       "      <td>647500</td>\n",
       "    </tr>\n",
       "    <tr>\n",
       "      <th>8404</th>\n",
       "      <td>3</td>\n",
       "      <td>1.00</td>\n",
       "      <td>1.0</td>\n",
       "      <td>0</td>\n",
       "      <td>False</td>\n",
       "      <td>3</td>\n",
       "      <td>7</td>\n",
       "      <td>1460</td>\n",
       "      <td>False</td>\n",
       "      <td>1952</td>\n",
       "      <td>False</td>\n",
       "      <td>2250</td>\n",
       "      <td>20023</td>\n",
       "      <td>400000</td>\n",
       "    </tr>\n",
       "    <tr>\n",
       "      <th>8800</th>\n",
       "      <td>3</td>\n",
       "      <td>1.00</td>\n",
       "      <td>1.5</td>\n",
       "      <td>0</td>\n",
       "      <td>False</td>\n",
       "      <td>4</td>\n",
       "      <td>6</td>\n",
       "      <td>1010</td>\n",
       "      <td>True</td>\n",
       "      <td>1930</td>\n",
       "      <td>False</td>\n",
       "      <td>1290</td>\n",
       "      <td>10320</td>\n",
       "      <td>235000</td>\n",
       "    </tr>\n",
       "    <tr>\n",
       "      <th>3553</th>\n",
       "      <td>4</td>\n",
       "      <td>2.00</td>\n",
       "      <td>1.0</td>\n",
       "      <td>0</td>\n",
       "      <td>False</td>\n",
       "      <td>3</td>\n",
       "      <td>7</td>\n",
       "      <td>760</td>\n",
       "      <td>True</td>\n",
       "      <td>1951</td>\n",
       "      <td>True</td>\n",
       "      <td>1480</td>\n",
       "      <td>3504</td>\n",
       "      <td>402500</td>\n",
       "    </tr>\n",
       "  </tbody>\n",
       "</table>\n",
       "</div>"
      ],
      "text/plain": [
       "      bedrooms  bathrooms  floors  waterfront   view  condition  grade  \\\n",
       "2495         6       3.00     2.0           0  False          3      7   \n",
       "6729         4       1.75     1.0           0  False          4      8   \n",
       "8404         3       1.00     1.0           0  False          3      7   \n",
       "8800         3       1.00     1.5           0  False          4      6   \n",
       "3553         4       2.00     1.0           0  False          3      7   \n",
       "\n",
       "      sqft_above  sqft_basement  yr_built  yr_renovated  sqft_living15  \\\n",
       "2495        2400          False      1991         False           2060   \n",
       "6729        1160           True      1947         False           2590   \n",
       "8404        1460          False      1952         False           2250   \n",
       "8800        1010           True      1930         False           1290   \n",
       "3553         760           True      1951          True           1480   \n",
       "\n",
       "      sqft_lot15   price  \n",
       "2495        7316  300000  \n",
       "6729       21891  647500  \n",
       "8404       20023  400000  \n",
       "8800       10320  235000  \n",
       "3553        3504  402500  "
      ]
     },
     "execution_count": 25,
     "metadata": {},
     "output_type": "execute_result"
    }
   ],
   "source": [
    "df.head()"
   ]
  },
  {
   "cell_type": "code",
   "execution_count": 26,
   "metadata": {},
   "outputs": [],
   "source": [
    "df = df.astype({'sqft_basement': 'int64' ,'yr_renovated': 'int64', 'view': 'int64'})"
   ]
  },
  {
   "cell_type": "code",
   "execution_count": 27,
   "metadata": {},
   "outputs": [
    {
     "data": {
      "text/html": [
       "<div>\n",
       "<style scoped>\n",
       "    .dataframe tbody tr th:only-of-type {\n",
       "        vertical-align: middle;\n",
       "    }\n",
       "\n",
       "    .dataframe tbody tr th {\n",
       "        vertical-align: top;\n",
       "    }\n",
       "\n",
       "    .dataframe thead th {\n",
       "        text-align: right;\n",
       "    }\n",
       "</style>\n",
       "<table border=\"1\" class=\"dataframe\">\n",
       "  <thead>\n",
       "    <tr style=\"text-align: right;\">\n",
       "      <th></th>\n",
       "      <th>bedrooms</th>\n",
       "      <th>bathrooms</th>\n",
       "      <th>floors</th>\n",
       "      <th>waterfront</th>\n",
       "      <th>view</th>\n",
       "      <th>condition</th>\n",
       "      <th>grade</th>\n",
       "      <th>sqft_above</th>\n",
       "      <th>sqft_basement</th>\n",
       "      <th>yr_built</th>\n",
       "      <th>yr_renovated</th>\n",
       "      <th>sqft_living15</th>\n",
       "      <th>sqft_lot15</th>\n",
       "      <th>price</th>\n",
       "    </tr>\n",
       "  </thead>\n",
       "  <tbody>\n",
       "    <tr>\n",
       "      <th>2495</th>\n",
       "      <td>6</td>\n",
       "      <td>3.00</td>\n",
       "      <td>2.0</td>\n",
       "      <td>0</td>\n",
       "      <td>0</td>\n",
       "      <td>3</td>\n",
       "      <td>7</td>\n",
       "      <td>2400</td>\n",
       "      <td>0</td>\n",
       "      <td>1991</td>\n",
       "      <td>0</td>\n",
       "      <td>2060</td>\n",
       "      <td>7316</td>\n",
       "      <td>300000</td>\n",
       "    </tr>\n",
       "    <tr>\n",
       "      <th>6729</th>\n",
       "      <td>4</td>\n",
       "      <td>1.75</td>\n",
       "      <td>1.0</td>\n",
       "      <td>0</td>\n",
       "      <td>0</td>\n",
       "      <td>4</td>\n",
       "      <td>8</td>\n",
       "      <td>1160</td>\n",
       "      <td>1</td>\n",
       "      <td>1947</td>\n",
       "      <td>0</td>\n",
       "      <td>2590</td>\n",
       "      <td>21891</td>\n",
       "      <td>647500</td>\n",
       "    </tr>\n",
       "    <tr>\n",
       "      <th>8404</th>\n",
       "      <td>3</td>\n",
       "      <td>1.00</td>\n",
       "      <td>1.0</td>\n",
       "      <td>0</td>\n",
       "      <td>0</td>\n",
       "      <td>3</td>\n",
       "      <td>7</td>\n",
       "      <td>1460</td>\n",
       "      <td>0</td>\n",
       "      <td>1952</td>\n",
       "      <td>0</td>\n",
       "      <td>2250</td>\n",
       "      <td>20023</td>\n",
       "      <td>400000</td>\n",
       "    </tr>\n",
       "    <tr>\n",
       "      <th>8800</th>\n",
       "      <td>3</td>\n",
       "      <td>1.00</td>\n",
       "      <td>1.5</td>\n",
       "      <td>0</td>\n",
       "      <td>0</td>\n",
       "      <td>4</td>\n",
       "      <td>6</td>\n",
       "      <td>1010</td>\n",
       "      <td>1</td>\n",
       "      <td>1930</td>\n",
       "      <td>0</td>\n",
       "      <td>1290</td>\n",
       "      <td>10320</td>\n",
       "      <td>235000</td>\n",
       "    </tr>\n",
       "    <tr>\n",
       "      <th>3553</th>\n",
       "      <td>4</td>\n",
       "      <td>2.00</td>\n",
       "      <td>1.0</td>\n",
       "      <td>0</td>\n",
       "      <td>0</td>\n",
       "      <td>3</td>\n",
       "      <td>7</td>\n",
       "      <td>760</td>\n",
       "      <td>1</td>\n",
       "      <td>1951</td>\n",
       "      <td>1</td>\n",
       "      <td>1480</td>\n",
       "      <td>3504</td>\n",
       "      <td>402500</td>\n",
       "    </tr>\n",
       "  </tbody>\n",
       "</table>\n",
       "</div>"
      ],
      "text/plain": [
       "      bedrooms  bathrooms  floors  waterfront  view  condition  grade  \\\n",
       "2495         6       3.00     2.0           0     0          3      7   \n",
       "6729         4       1.75     1.0           0     0          4      8   \n",
       "8404         3       1.00     1.0           0     0          3      7   \n",
       "8800         3       1.00     1.5           0     0          4      6   \n",
       "3553         4       2.00     1.0           0     0          3      7   \n",
       "\n",
       "      sqft_above  sqft_basement  yr_built  yr_renovated  sqft_living15  \\\n",
       "2495        2400              0      1991             0           2060   \n",
       "6729        1160              1      1947             0           2590   \n",
       "8404        1460              0      1952             0           2250   \n",
       "8800        1010              1      1930             0           1290   \n",
       "3553         760              1      1951             1           1480   \n",
       "\n",
       "      sqft_lot15   price  \n",
       "2495        7316  300000  \n",
       "6729       21891  647500  \n",
       "8404       20023  400000  \n",
       "8800       10320  235000  \n",
       "3553        3504  402500  "
      ]
     },
     "execution_count": 27,
     "metadata": {},
     "output_type": "execute_result"
    }
   ],
   "source": [
    "df.head()"
   ]
  },
  {
   "cell_type": "code",
   "execution_count": 28,
   "metadata": {},
   "outputs": [
    {
     "name": "stdout",
     "output_type": "stream",
     "text": [
      "<class 'pandas.core.frame.DataFrame'>\n",
      "Int64Index: 21420 entries, 2495 to 15937\n",
      "Data columns (total 14 columns):\n",
      " #   Column         Non-Null Count  Dtype  \n",
      "---  ------         --------------  -----  \n",
      " 0   bedrooms       21420 non-null  int64  \n",
      " 1   bathrooms      21420 non-null  float64\n",
      " 2   floors         21420 non-null  float64\n",
      " 3   waterfront     21420 non-null  int64  \n",
      " 4   view           21420 non-null  int64  \n",
      " 5   condition      21420 non-null  int64  \n",
      " 6   grade          21420 non-null  int64  \n",
      " 7   sqft_above     21420 non-null  int64  \n",
      " 8   sqft_basement  21420 non-null  int64  \n",
      " 9   yr_built       21420 non-null  int64  \n",
      " 10  yr_renovated   21420 non-null  int64  \n",
      " 11  sqft_living15  21420 non-null  int64  \n",
      " 12  sqft_lot15     21420 non-null  int64  \n",
      " 13  price          21420 non-null  int64  \n",
      "dtypes: float64(2), int64(12)\n",
      "memory usage: 2.5 MB\n"
     ]
    }
   ],
   "source": [
    "df.info()"
   ]
  },
  {
   "cell_type": "markdown",
   "metadata": {},
   "source": [
    "# Removing crazy outliers"
   ]
  },
  {
   "cell_type": "markdown",
   "metadata": {},
   "source": [
    "#### Bedrooms \n",
    "I spotted an outlier in the bedrooms column from the describe that I did above. \n",
    "\n",
    "I checked in SQL to see what the other elements of the row are and compared to other properties of a similar size, this bedroom number would appear to be a typing error. Just from looking in SQL there should be between 3-4 bedrooms in that property. I think I will replace this 33 value with 3, assuming that the second 3 was a typing error.\n",
    "\n",
    "The living space of the property is 150sqm, which cannot accommodate 33 bedrooms. That would be less than 5sqm per bedroom and not include a bathroom, kitchen or any other space. This seems 99% impossible. Not to mention that it's sale price, 640k was very similar to other properties of a similar size and rating level with 3-4 bedrooms.\n",
    "\n",
    "Now let's replace that value. "
   ]
  },
  {
   "cell_type": "code",
   "execution_count": 29,
   "metadata": {},
   "outputs": [],
   "source": [
    "df['bedrooms'] = df['bedrooms'].replace([33],3)"
   ]
  },
  {
   "cell_type": "code",
   "execution_count": 30,
   "metadata": {},
   "outputs": [
    {
     "data": {
      "text/plain": [
       "3     9732\n",
       "4     6849\n",
       "2     2736\n",
       "5     1586\n",
       "6      265\n",
       "1      191\n",
       "7       38\n",
       "8       13\n",
       "9        6\n",
       "10       3\n",
       "11       1\n",
       "Name: bedrooms, dtype: int64"
      ]
     },
     "execution_count": 30,
     "metadata": {},
     "output_type": "execute_result"
    }
   ],
   "source": [
    "df['bedrooms'].value_counts()\n",
    "#And it is gone!"
   ]
  },
  {
   "cell_type": "markdown",
   "metadata": {},
   "source": [
    "As we can see from the above two value counts, the 33 was indeed replaced successfully. "
   ]
  },
  {
   "cell_type": "markdown",
   "metadata": {},
   "source": [
    "### NB: more 'normal' cleaning will happen in the 2nd iteration of the model. \n"
   ]
  },
  {
   "cell_type": "markdown",
   "metadata": {},
   "source": [
    "# Correlation \n"
   ]
  },
  {
   "cell_type": "code",
   "execution_count": 31,
   "metadata": {},
   "outputs": [
    {
     "data": {
      "text/html": [
       "<div>\n",
       "<style scoped>\n",
       "    .dataframe tbody tr th:only-of-type {\n",
       "        vertical-align: middle;\n",
       "    }\n",
       "\n",
       "    .dataframe tbody tr th {\n",
       "        vertical-align: top;\n",
       "    }\n",
       "\n",
       "    .dataframe thead th {\n",
       "        text-align: right;\n",
       "    }\n",
       "</style>\n",
       "<table border=\"1\" class=\"dataframe\">\n",
       "  <thead>\n",
       "    <tr style=\"text-align: right;\">\n",
       "      <th></th>\n",
       "      <th>bedrooms</th>\n",
       "      <th>bathrooms</th>\n",
       "      <th>floors</th>\n",
       "      <th>waterfront</th>\n",
       "      <th>view</th>\n",
       "      <th>condition</th>\n",
       "      <th>grade</th>\n",
       "      <th>sqft_above</th>\n",
       "      <th>sqft_basement</th>\n",
       "      <th>yr_built</th>\n",
       "      <th>yr_renovated</th>\n",
       "      <th>sqft_living15</th>\n",
       "      <th>sqft_lot15</th>\n",
       "      <th>price</th>\n",
       "    </tr>\n",
       "  </thead>\n",
       "  <tbody>\n",
       "    <tr>\n",
       "      <th>bedrooms</th>\n",
       "      <td>1.000000</td>\n",
       "      <td>0.528917</td>\n",
       "      <td>0.183570</td>\n",
       "      <td>-0.006976</td>\n",
       "      <td>0.082937</td>\n",
       "      <td>0.022743</td>\n",
       "      <td>0.367750</td>\n",
       "      <td>0.493566</td>\n",
       "      <td>0.163512</td>\n",
       "      <td>0.160365</td>\n",
       "      <td>0.018452</td>\n",
       "      <td>0.406240</td>\n",
       "      <td>0.031787</td>\n",
       "      <td>0.316910</td>\n",
       "    </tr>\n",
       "    <tr>\n",
       "      <th>bathrooms</th>\n",
       "      <td>0.528917</td>\n",
       "      <td>1.000000</td>\n",
       "      <td>0.501803</td>\n",
       "      <td>0.063734</td>\n",
       "      <td>0.177035</td>\n",
       "      <td>-0.129362</td>\n",
       "      <td>0.665587</td>\n",
       "      <td>0.686328</td>\n",
       "      <td>0.162598</td>\n",
       "      <td>0.506252</td>\n",
       "      <td>0.050431</td>\n",
       "      <td>0.569453</td>\n",
       "      <td>0.087760</td>\n",
       "      <td>0.525215</td>\n",
       "    </tr>\n",
       "    <tr>\n",
       "      <th>floors</th>\n",
       "      <td>0.183570</td>\n",
       "      <td>0.501803</td>\n",
       "      <td>1.000000</td>\n",
       "      <td>0.023530</td>\n",
       "      <td>0.015937</td>\n",
       "      <td>-0.266859</td>\n",
       "      <td>0.458091</td>\n",
       "      <td>0.522751</td>\n",
       "      <td>-0.257003</td>\n",
       "      <td>0.488935</td>\n",
       "      <td>0.005638</td>\n",
       "      <td>0.279071</td>\n",
       "      <td>-0.011367</td>\n",
       "      <td>0.254972</td>\n",
       "    </tr>\n",
       "    <tr>\n",
       "      <th>waterfront</th>\n",
       "      <td>-0.006976</td>\n",
       "      <td>0.063734</td>\n",
       "      <td>0.023530</td>\n",
       "      <td>1.000000</td>\n",
       "      <td>0.264628</td>\n",
       "      <td>0.016564</td>\n",
       "      <td>0.082955</td>\n",
       "      <td>0.072055</td>\n",
       "      <td>0.037306</td>\n",
       "      <td>-0.026529</td>\n",
       "      <td>0.093427</td>\n",
       "      <td>0.086602</td>\n",
       "      <td>0.030772</td>\n",
       "      <td>0.266995</td>\n",
       "    </tr>\n",
       "    <tr>\n",
       "      <th>view</th>\n",
       "      <td>0.082937</td>\n",
       "      <td>0.177035</td>\n",
       "      <td>0.015937</td>\n",
       "      <td>0.264628</td>\n",
       "      <td>1.000000</td>\n",
       "      <td>0.046621</td>\n",
       "      <td>0.236392</td>\n",
       "      <td>0.152514</td>\n",
       "      <td>0.194494</td>\n",
       "      <td>-0.064695</td>\n",
       "      <td>0.094831</td>\n",
       "      <td>0.272532</td>\n",
       "      <td>0.064839</td>\n",
       "      <td>0.358451</td>\n",
       "    </tr>\n",
       "    <tr>\n",
       "      <th>condition</th>\n",
       "      <td>0.022743</td>\n",
       "      <td>-0.129362</td>\n",
       "      <td>-0.266859</td>\n",
       "      <td>0.016564</td>\n",
       "      <td>0.046621</td>\n",
       "      <td>1.000000</td>\n",
       "      <td>-0.150508</td>\n",
       "      <td>-0.161483</td>\n",
       "      <td>0.135687</td>\n",
       "      <td>-0.365129</td>\n",
       "      <td>-0.060826</td>\n",
       "      <td>-0.095256</td>\n",
       "      <td>-0.003450</td>\n",
       "      <td>0.034219</td>\n",
       "    </tr>\n",
       "    <tr>\n",
       "      <th>grade</th>\n",
       "      <td>0.367750</td>\n",
       "      <td>0.665587</td>\n",
       "      <td>0.458091</td>\n",
       "      <td>0.082955</td>\n",
       "      <td>0.236392</td>\n",
       "      <td>-0.150508</td>\n",
       "      <td>1.000000</td>\n",
       "      <td>0.756221</td>\n",
       "      <td>0.049801</td>\n",
       "      <td>0.446235</td>\n",
       "      <td>0.013798</td>\n",
       "      <td>0.713178</td>\n",
       "      <td>0.120056</td>\n",
       "      <td>0.666835</td>\n",
       "    </tr>\n",
       "    <tr>\n",
       "      <th>sqft_above</th>\n",
       "      <td>0.493566</td>\n",
       "      <td>0.686328</td>\n",
       "      <td>0.522751</td>\n",
       "      <td>0.072055</td>\n",
       "      <td>0.152514</td>\n",
       "      <td>-0.161483</td>\n",
       "      <td>0.756221</td>\n",
       "      <td>1.000000</td>\n",
       "      <td>-0.212242</td>\n",
       "      <td>0.422977</td>\n",
       "      <td>0.022524</td>\n",
       "      <td>0.731887</td>\n",
       "      <td>0.194445</td>\n",
       "      <td>0.604424</td>\n",
       "    </tr>\n",
       "    <tr>\n",
       "      <th>sqft_basement</th>\n",
       "      <td>0.163512</td>\n",
       "      <td>0.162598</td>\n",
       "      <td>-0.257003</td>\n",
       "      <td>0.037306</td>\n",
       "      <td>0.194494</td>\n",
       "      <td>0.135687</td>\n",
       "      <td>0.049801</td>\n",
       "      <td>-0.212242</td>\n",
       "      <td>1.000000</td>\n",
       "      <td>-0.168879</td>\n",
       "      <td>0.048927</td>\n",
       "      <td>0.042617</td>\n",
       "      <td>-0.040553</td>\n",
       "      <td>0.180120</td>\n",
       "    </tr>\n",
       "    <tr>\n",
       "      <th>yr_built</th>\n",
       "      <td>0.160365</td>\n",
       "      <td>0.506252</td>\n",
       "      <td>0.488935</td>\n",
       "      <td>-0.026529</td>\n",
       "      <td>-0.064695</td>\n",
       "      <td>-0.365129</td>\n",
       "      <td>0.446235</td>\n",
       "      <td>0.422977</td>\n",
       "      <td>-0.168879</td>\n",
       "      <td>1.000000</td>\n",
       "      <td>-0.226053</td>\n",
       "      <td>0.324715</td>\n",
       "      <td>0.070125</td>\n",
       "      <td>0.051012</td>\n",
       "    </tr>\n",
       "    <tr>\n",
       "      <th>yr_renovated</th>\n",
       "      <td>0.018452</td>\n",
       "      <td>0.050431</td>\n",
       "      <td>0.005638</td>\n",
       "      <td>0.093427</td>\n",
       "      <td>0.094831</td>\n",
       "      <td>-0.060826</td>\n",
       "      <td>0.013798</td>\n",
       "      <td>0.022524</td>\n",
       "      <td>0.048927</td>\n",
       "      <td>-0.226053</td>\n",
       "      <td>1.000000</td>\n",
       "      <td>-0.002777</td>\n",
       "      <td>0.008029</td>\n",
       "      <td>0.126371</td>\n",
       "    </tr>\n",
       "    <tr>\n",
       "      <th>sqft_living15</th>\n",
       "      <td>0.406240</td>\n",
       "      <td>0.569453</td>\n",
       "      <td>0.279071</td>\n",
       "      <td>0.086602</td>\n",
       "      <td>0.272532</td>\n",
       "      <td>-0.095256</td>\n",
       "      <td>0.713178</td>\n",
       "      <td>0.731887</td>\n",
       "      <td>0.042617</td>\n",
       "      <td>0.324715</td>\n",
       "      <td>-0.002777</td>\n",
       "      <td>1.000000</td>\n",
       "      <td>0.182765</td>\n",
       "      <td>0.583792</td>\n",
       "    </tr>\n",
       "    <tr>\n",
       "      <th>sqft_lot15</th>\n",
       "      <td>0.031787</td>\n",
       "      <td>0.087760</td>\n",
       "      <td>-0.011367</td>\n",
       "      <td>0.030772</td>\n",
       "      <td>0.064839</td>\n",
       "      <td>-0.003450</td>\n",
       "      <td>0.120056</td>\n",
       "      <td>0.194445</td>\n",
       "      <td>-0.040553</td>\n",
       "      <td>0.070125</td>\n",
       "      <td>0.008029</td>\n",
       "      <td>0.182765</td>\n",
       "      <td>1.000000</td>\n",
       "      <td>0.082045</td>\n",
       "    </tr>\n",
       "    <tr>\n",
       "      <th>price</th>\n",
       "      <td>0.316910</td>\n",
       "      <td>0.525215</td>\n",
       "      <td>0.254972</td>\n",
       "      <td>0.266995</td>\n",
       "      <td>0.358451</td>\n",
       "      <td>0.034219</td>\n",
       "      <td>0.666835</td>\n",
       "      <td>0.604424</td>\n",
       "      <td>0.180120</td>\n",
       "      <td>0.051012</td>\n",
       "      <td>0.126371</td>\n",
       "      <td>0.583792</td>\n",
       "      <td>0.082045</td>\n",
       "      <td>1.000000</td>\n",
       "    </tr>\n",
       "  </tbody>\n",
       "</table>\n",
       "</div>"
      ],
      "text/plain": [
       "               bedrooms  bathrooms    floors  waterfront      view  condition  \\\n",
       "bedrooms       1.000000   0.528917  0.183570   -0.006976  0.082937   0.022743   \n",
       "bathrooms      0.528917   1.000000  0.501803    0.063734  0.177035  -0.129362   \n",
       "floors         0.183570   0.501803  1.000000    0.023530  0.015937  -0.266859   \n",
       "waterfront    -0.006976   0.063734  0.023530    1.000000  0.264628   0.016564   \n",
       "view           0.082937   0.177035  0.015937    0.264628  1.000000   0.046621   \n",
       "condition      0.022743  -0.129362 -0.266859    0.016564  0.046621   1.000000   \n",
       "grade          0.367750   0.665587  0.458091    0.082955  0.236392  -0.150508   \n",
       "sqft_above     0.493566   0.686328  0.522751    0.072055  0.152514  -0.161483   \n",
       "sqft_basement  0.163512   0.162598 -0.257003    0.037306  0.194494   0.135687   \n",
       "yr_built       0.160365   0.506252  0.488935   -0.026529 -0.064695  -0.365129   \n",
       "yr_renovated   0.018452   0.050431  0.005638    0.093427  0.094831  -0.060826   \n",
       "sqft_living15  0.406240   0.569453  0.279071    0.086602  0.272532  -0.095256   \n",
       "sqft_lot15     0.031787   0.087760 -0.011367    0.030772  0.064839  -0.003450   \n",
       "price          0.316910   0.525215  0.254972    0.266995  0.358451   0.034219   \n",
       "\n",
       "                  grade  sqft_above  sqft_basement  yr_built  yr_renovated  \\\n",
       "bedrooms       0.367750    0.493566       0.163512  0.160365      0.018452   \n",
       "bathrooms      0.665587    0.686328       0.162598  0.506252      0.050431   \n",
       "floors         0.458091    0.522751      -0.257003  0.488935      0.005638   \n",
       "waterfront     0.082955    0.072055       0.037306 -0.026529      0.093427   \n",
       "view           0.236392    0.152514       0.194494 -0.064695      0.094831   \n",
       "condition     -0.150508   -0.161483       0.135687 -0.365129     -0.060826   \n",
       "grade          1.000000    0.756221       0.049801  0.446235      0.013798   \n",
       "sqft_above     0.756221    1.000000      -0.212242  0.422977      0.022524   \n",
       "sqft_basement  0.049801   -0.212242       1.000000 -0.168879      0.048927   \n",
       "yr_built       0.446235    0.422977      -0.168879  1.000000     -0.226053   \n",
       "yr_renovated   0.013798    0.022524       0.048927 -0.226053      1.000000   \n",
       "sqft_living15  0.713178    0.731887       0.042617  0.324715     -0.002777   \n",
       "sqft_lot15     0.120056    0.194445      -0.040553  0.070125      0.008029   \n",
       "price          0.666835    0.604424       0.180120  0.051012      0.126371   \n",
       "\n",
       "               sqft_living15  sqft_lot15     price  \n",
       "bedrooms            0.406240    0.031787  0.316910  \n",
       "bathrooms           0.569453    0.087760  0.525215  \n",
       "floors              0.279071   -0.011367  0.254972  \n",
       "waterfront          0.086602    0.030772  0.266995  \n",
       "view                0.272532    0.064839  0.358451  \n",
       "condition          -0.095256   -0.003450  0.034219  \n",
       "grade               0.713178    0.120056  0.666835  \n",
       "sqft_above          0.731887    0.194445  0.604424  \n",
       "sqft_basement       0.042617   -0.040553  0.180120  \n",
       "yr_built            0.324715    0.070125  0.051012  \n",
       "yr_renovated       -0.002777    0.008029  0.126371  \n",
       "sqft_living15       1.000000    0.182765  0.583792  \n",
       "sqft_lot15          0.182765    1.000000  0.082045  \n",
       "price               0.583792    0.082045  1.000000  "
      ]
     },
     "execution_count": 31,
     "metadata": {},
     "output_type": "execute_result"
    }
   ],
   "source": [
    "df.corr()\n"
   ]
  },
  {
   "cell_type": "code",
   "execution_count": 32,
   "metadata": {},
   "outputs": [
    {
     "data": {
      "image/png": "[encoded data removed]",
      "text/plain": [
       "<Figure size 720x576 with 2 Axes>"
      ]
     },
     "metadata": {
      "needs_background": "light"
     },
     "output_type": "display_data"
    }
   ],
   "source": [
    "mask=np.zeros_like(df.corr())\n",
    "mask[np.triu_indices_from(mask)]=True\n",
    "fig, ax=plt.subplots(figsize=(10, 8))\n",
    "ax=sns.heatmap(df.corr(), mask=mask, annot=True, fmt='.1g')\n",
    "plt.show()"
   ]
  },
  {
   "cell_type": "markdown",
   "metadata": {},
   "source": [
    "We can see that grade affects the price the most.\n",
    "\n",
    "Followed by sqft_above, sqft_living15 and bathrooms. \n",
    "\n"
   ]
  },
  {
   "cell_type": "markdown",
   "metadata": {},
   "source": [
    "# 1st ITERATION"
   ]
  },
  {
   "cell_type": "markdown",
   "metadata": {},
   "source": [
    "The idea is to see how more cleaning / wrangling affects the models, so the first iteration is with 0 additional cleaning to the above. "
   ]
  },
  {
   "cell_type": "markdown",
   "metadata": {},
   "source": [
    "# ***ITERATION 1, TEST 1***: \n",
    "no more cleaning or removal, max columns. "
   ]
  },
  {
   "cell_type": "code",
   "execution_count": 33,
   "metadata": {},
   "outputs": [],
   "source": [
    "X=df.drop('price', axis=1)\n",
    "y=df.price"
   ]
  },
  {
   "cell_type": "code",
   "execution_count": 34,
   "metadata": {},
   "outputs": [
    {
     "data": {
      "text/plain": [
       "bedrooms           int64\n",
       "bathrooms        float64\n",
       "floors           float64\n",
       "waterfront         int64\n",
       "view               int64\n",
       "condition          int64\n",
       "grade              int64\n",
       "sqft_above         int64\n",
       "sqft_basement      int64\n",
       "yr_built           int64\n",
       "yr_renovated       int64\n",
       "sqft_living15      int64\n",
       "sqft_lot15         int64\n",
       "dtype: object"
      ]
     },
     "execution_count": 34,
     "metadata": {},
     "output_type": "execute_result"
    }
   ],
   "source": [
    "X.dtypes"
   ]
  },
  {
   "cell_type": "code",
   "execution_count": 35,
   "metadata": {},
   "outputs": [
    {
     "data": {
      "text/html": [
       "<div>\n",
       "<style scoped>\n",
       "    .dataframe tbody tr th:only-of-type {\n",
       "        vertical-align: middle;\n",
       "    }\n",
       "\n",
       "    .dataframe tbody tr th {\n",
       "        vertical-align: top;\n",
       "    }\n",
       "\n",
       "    .dataframe thead th {\n",
       "        text-align: right;\n",
       "    }\n",
       "</style>\n",
       "<table border=\"1\" class=\"dataframe\">\n",
       "  <thead>\n",
       "    <tr style=\"text-align: right;\">\n",
       "      <th></th>\n",
       "      <th>bedrooms</th>\n",
       "      <th>bathrooms</th>\n",
       "      <th>floors</th>\n",
       "      <th>waterfront</th>\n",
       "      <th>view</th>\n",
       "      <th>condition</th>\n",
       "      <th>grade</th>\n",
       "      <th>sqft_above</th>\n",
       "      <th>sqft_basement</th>\n",
       "      <th>yr_built</th>\n",
       "      <th>yr_renovated</th>\n",
       "      <th>sqft_living15</th>\n",
       "      <th>sqft_lot15</th>\n",
       "    </tr>\n",
       "  </thead>\n",
       "  <tbody>\n",
       "    <tr>\n",
       "      <th>2495</th>\n",
       "      <td>6</td>\n",
       "      <td>3.00</td>\n",
       "      <td>2.0</td>\n",
       "      <td>0</td>\n",
       "      <td>0</td>\n",
       "      <td>3</td>\n",
       "      <td>7</td>\n",
       "      <td>2400</td>\n",
       "      <td>0</td>\n",
       "      <td>1991</td>\n",
       "      <td>0</td>\n",
       "      <td>2060</td>\n",
       "      <td>7316</td>\n",
       "    </tr>\n",
       "    <tr>\n",
       "      <th>6729</th>\n",
       "      <td>4</td>\n",
       "      <td>1.75</td>\n",
       "      <td>1.0</td>\n",
       "      <td>0</td>\n",
       "      <td>0</td>\n",
       "      <td>4</td>\n",
       "      <td>8</td>\n",
       "      <td>1160</td>\n",
       "      <td>1</td>\n",
       "      <td>1947</td>\n",
       "      <td>0</td>\n",
       "      <td>2590</td>\n",
       "      <td>21891</td>\n",
       "    </tr>\n",
       "    <tr>\n",
       "      <th>8404</th>\n",
       "      <td>3</td>\n",
       "      <td>1.00</td>\n",
       "      <td>1.0</td>\n",
       "      <td>0</td>\n",
       "      <td>0</td>\n",
       "      <td>3</td>\n",
       "      <td>7</td>\n",
       "      <td>1460</td>\n",
       "      <td>0</td>\n",
       "      <td>1952</td>\n",
       "      <td>0</td>\n",
       "      <td>2250</td>\n",
       "      <td>20023</td>\n",
       "    </tr>\n",
       "    <tr>\n",
       "      <th>8800</th>\n",
       "      <td>3</td>\n",
       "      <td>1.00</td>\n",
       "      <td>1.5</td>\n",
       "      <td>0</td>\n",
       "      <td>0</td>\n",
       "      <td>4</td>\n",
       "      <td>6</td>\n",
       "      <td>1010</td>\n",
       "      <td>1</td>\n",
       "      <td>1930</td>\n",
       "      <td>0</td>\n",
       "      <td>1290</td>\n",
       "      <td>10320</td>\n",
       "    </tr>\n",
       "    <tr>\n",
       "      <th>3553</th>\n",
       "      <td>4</td>\n",
       "      <td>2.00</td>\n",
       "      <td>1.0</td>\n",
       "      <td>0</td>\n",
       "      <td>0</td>\n",
       "      <td>3</td>\n",
       "      <td>7</td>\n",
       "      <td>760</td>\n",
       "      <td>1</td>\n",
       "      <td>1951</td>\n",
       "      <td>1</td>\n",
       "      <td>1480</td>\n",
       "      <td>3504</td>\n",
       "    </tr>\n",
       "  </tbody>\n",
       "</table>\n",
       "</div>"
      ],
      "text/plain": [
       "      bedrooms  bathrooms  floors  waterfront  view  condition  grade  \\\n",
       "2495         6       3.00     2.0           0     0          3      7   \n",
       "6729         4       1.75     1.0           0     0          4      8   \n",
       "8404         3       1.00     1.0           0     0          3      7   \n",
       "8800         3       1.00     1.5           0     0          4      6   \n",
       "3553         4       2.00     1.0           0     0          3      7   \n",
       "\n",
       "      sqft_above  sqft_basement  yr_built  yr_renovated  sqft_living15  \\\n",
       "2495        2400              0      1991             0           2060   \n",
       "6729        1160              1      1947             0           2590   \n",
       "8404        1460              0      1952             0           2250   \n",
       "8800        1010              1      1930             0           1290   \n",
       "3553         760              1      1951             1           1480   \n",
       "\n",
       "      sqft_lot15  \n",
       "2495        7316  \n",
       "6729       21891  \n",
       "8404       20023  \n",
       "8800       10320  \n",
       "3553        3504  "
      ]
     },
     "execution_count": 35,
     "metadata": {},
     "output_type": "execute_result"
    }
   ],
   "source": [
    "X.head()"
   ]
  },
  {
   "cell_type": "code",
   "execution_count": 36,
   "metadata": {},
   "outputs": [
    {
     "data": {
      "text/plain": [
       "2495    300000\n",
       "6729    647500\n",
       "8404    400000\n",
       "8800    235000\n",
       "3553    402500\n",
       "Name: price, dtype: int64"
      ]
     },
     "execution_count": 36,
     "metadata": {},
     "output_type": "execute_result"
    }
   ],
   "source": [
    "y.head()"
   ]
  },
  {
   "cell_type": "code",
   "execution_count": 37,
   "metadata": {},
   "outputs": [],
   "source": [
    "from sklearn.model_selection import train_test_split as tts\n",
    "\n",
    "X_train, X_test, y_train, y_test=tts(X, y, test_size=.25, random_state = 42)"
   ]
  },
  {
   "cell_type": "code",
   "execution_count": 38,
   "metadata": {},
   "outputs": [
    {
     "name": "stdout",
     "output_type": "stream",
     "text": [
      "                            OLS Regression Results                            \n",
      "==============================================================================\n",
      "Dep. Variable:                  price   R-squared:                       0.645\n",
      "Model:                            OLS   Adj. R-squared:                  0.645\n",
      "Method:                 Least Squares   F-statistic:                     2248.\n",
      "Date:                Thu, 19 Nov 2020   Prob (F-statistic):               0.00\n",
      "Time:                        14:13:22   Log-Likelihood:            -2.2034e+05\n",
      "No. Observations:               16065   AIC:                         4.407e+05\n",
      "Df Residuals:                   16051   BIC:                         4.408e+05\n",
      "Df Model:                          13                                         \n",
      "Covariance Type:            nonrobust                                         \n",
      "=================================================================================\n",
      "                    coef    std err          t      P>|t|      [0.025      0.975]\n",
      "---------------------------------------------------------------------------------\n",
      "const          6.418e+06   1.64e+05     39.153      0.000     6.1e+06    6.74e+06\n",
      "bedrooms      -3.348e+04   2431.814    -13.769      0.000   -3.83e+04   -2.87e+04\n",
      "bathrooms      6.092e+04   4081.728     14.925      0.000    5.29e+04    6.89e+04\n",
      "floors         7805.5363   4352.192      1.793      0.073    -725.246    1.63e+04\n",
      "waterfront      7.51e+05   2.16e+04     34.798      0.000    7.09e+05    7.93e+05\n",
      "view           9.968e+04   6430.795     15.501      0.000    8.71e+04    1.12e+05\n",
      "condition      2.476e+04   2943.964      8.411      0.000     1.9e+04    3.05e+04\n",
      "grade          1.248e+05   2673.472     46.666      0.000     1.2e+05     1.3e+05\n",
      "sqft_above      153.8644      4.714     32.640      0.000     144.625     163.104\n",
      "sqft_basement   1.08e+05   4675.183     23.102      0.000    9.88e+04    1.17e+05\n",
      "yr_built      -3726.6166     83.831    -44.454      0.000   -3890.935   -3562.299\n",
      "yr_renovated   3.373e+04   9128.857      3.695      0.000    1.58e+04    5.16e+04\n",
      "sqft_living15    36.2958      4.194      8.654      0.000      28.075      44.516\n",
      "sqft_lot15       -0.5069      0.065     -7.828      0.000      -0.634      -0.380\n",
      "==============================================================================\n",
      "Omnibus:                    12852.256   Durbin-Watson:                   2.019\n",
      "Prob(Omnibus):                  0.000   Jarque-Bera (JB):          1135695.342\n",
      "Skew:                           3.258   Prob(JB):                         0.00\n",
      "Kurtosis:                      43.672   Cond. No.                     2.90e+06\n",
      "==============================================================================\n",
      "\n",
      "Notes:\n",
      "[1] Standard Errors assume that the covariance matrix of the errors is correctly specified.\n",
      "[2] The condition number is large, 2.9e+06. This might indicate that there are\n",
      "strong multicollinearity or other numerical problems.\n"
     ]
    }
   ],
   "source": [
    "import warnings\n",
    "warnings.simplefilter('ignore')\n",
    "\n",
    "import statsmodels.api as sm\n",
    "from statsmodels.formula.api import ols\n",
    "\n",
    "X_train_wi=sm.add_constant(X_train)\n",
    "model=sm.OLS(y_train,X_train_wi).fit()\n",
    "\n",
    "print(model.summary())"
   ]
  },
  {
   "cell_type": "markdown",
   "metadata": {},
   "source": [
    "# LINEAR REGRESSION"
   ]
  },
  {
   "cell_type": "code",
   "execution_count": 39,
   "metadata": {},
   "outputs": [],
   "source": [
    "from sklearn.linear_model import LinearRegression as LinReg\n",
    "\n",
    "linreg=LinReg()    # model\n",
    "linreg.fit(X_train, y_train)   # model train\n",
    "y_pred_linreg=linreg.predict(X_test)"
   ]
  },
  {
   "cell_type": "markdown",
   "metadata": {},
   "source": [
    "# R2"
   ]
  },
  {
   "cell_type": "code",
   "execution_count": 40,
   "metadata": {},
   "outputs": [
    {
     "name": "stdout",
     "output_type": "stream",
     "text": [
      "train R2: 0.6454741333301519 -- test R2: 0.634613497786598\n"
     ]
    }
   ],
   "source": [
    "print ('train R2: {} -- test R2: {}'.format(linreg.score(X_train, y_train),\n",
    "                                            linreg.score(X_test, y_test)))"
   ]
  },
  {
   "cell_type": "markdown",
   "metadata": {},
   "source": [
    "# MSE"
   ]
  },
  {
   "cell_type": "code",
   "execution_count": 41,
   "metadata": {},
   "outputs": [
    {
     "name": "stdout",
     "output_type": "stream",
     "text": [
      "train MSE: 47927484168.759476 -- test MSE: 49254766631.1239\n"
     ]
    }
   ],
   "source": [
    "from sklearn.metrics import mean_squared_error as mse\n",
    "\n",
    "\n",
    "train_mse=mse(linreg.predict(X_train), y_train)\n",
    "test_mse=mse(linreg.predict(X_test), y_test)\n",
    "\n",
    "print ('train MSE: {} -- test MSE: {}'.format(train_mse, test_mse))"
   ]
  },
  {
   "cell_type": "markdown",
   "metadata": {},
   "source": [
    "# OTHER MODELS"
   ]
  },
  {
   "cell_type": "code",
   "execution_count": 42,
   "metadata": {},
   "outputs": [],
   "source": [
    "# sklearn\n",
    "from sklearn.linear_model import LinearRegression, Lasso, Ridge, ElasticNet, SGDRegressor\n",
    "from sklearn.tree import DecisionTreeRegressor\n",
    "from sklearn.neighbors import KNeighborsRegressor\n",
    "from sklearn.svm import SVR\n",
    "from sklearn.neural_network import MLPRegressor\n",
    "from sklearn.ensemble import RandomForestRegressor, GradientBoostingRegressor\n",
    "from sklearn.model_selection import train_test_split\n"
   ]
  },
  {
   "cell_type": "code",
   "execution_count": 43,
   "metadata": {
    "scrolled": true
   },
   "outputs": [
    {
     "name": "stdout",
     "output_type": "stream",
     "text": [
      "LinearRegression: Train -> 0.6454741333301519, Test -> 0.634613497786598\n",
      "Lasso: Train -> 0.645474132017107, Test -> 0.6346190487262398\n",
      "Ridge: Train -> 0.6454717073660009, Test -> 0.6348669069540724\n",
      "ElasticNet: Train -> 0.5766785175895265, Test -> 0.5770011893001645\n"
     ]
    }
   ],
   "source": [
    "def models_automation(models, X_train, y_train):\n",
    "    for model in models:\n",
    "        model.fit(X_train, y_train)\n",
    "        print(f\"{model.__class__.__name__}: Train -> {model.score(X_train, y_train)}, Test -> {model.score(X_test, y_test)}\")\n",
    "\n",
    "linear_models = [LinearRegression(), Lasso(), Ridge(), ElasticNet()]\n",
    "models_automation(linear_models, X_train, y_train)"
   ]
  },
  {
   "cell_type": "code",
   "execution_count": 44,
   "metadata": {},
   "outputs": [
    {
     "name": "stdout",
     "output_type": "stream",
     "text": [
      "SVR: Train -> -0.06142758001696991, Test -> -0.06420132929645161\n"
     ]
    }
   ],
   "source": [
    "from sklearn.svm import SVR\n",
    "svr = [SVR()]\n",
    "models_automation(svr, X_train, y_train)"
   ]
  },
  {
   "cell_type": "code",
   "execution_count": 45,
   "metadata": {
    "scrolled": true
   },
   "outputs": [
    {
     "name": "stdout",
     "output_type": "stream",
     "text": [
      "KNeighborsRegressor: Train -> 0.6501612552878211, Test -> 0.4408806610610121\n"
     ]
    }
   ],
   "source": [
    "from sklearn.neighbors import KNeighborsRegressor\n",
    "knn = [KNeighborsRegressor()]\n",
    "models_automation(knn, X_train, y_train)"
   ]
  },
  {
   "cell_type": "code",
   "execution_count": 46,
   "metadata": {
    "scrolled": false
   },
   "outputs": [
    {
     "name": "stdout",
     "output_type": "stream",
     "text": [
      "DecisionTreeRegressor: Train -> 0.9999883194893056, Test -> 0.49069528215080693\n"
     ]
    }
   ],
   "source": [
    "from sklearn.tree import DecisionTreeRegressor\n",
    "dtr = [DecisionTreeRegressor()]\n",
    "models_automation(dtr, X_train, y_train)"
   ]
  },
  {
   "cell_type": "code",
   "execution_count": 47,
   "metadata": {
    "scrolled": true
   },
   "outputs": [
    {
     "name": "stdout",
     "output_type": "stream",
     "text": [
      "GradientBoostingRegressor: Train -> 0.7968084512599024, Test -> 0.7316231097449333\n",
      "RandomForestRegressor: Train -> 0.9638762053047565, Test -> 0.7310380983257794\n"
     ]
    }
   ],
   "source": [
    "from sklearn.ensemble import GradientBoostingRegressor\n",
    "from sklearn.ensemble import RandomForestRegressor\n",
    "rfr = [GradientBoostingRegressor(), RandomForestRegressor()]\n",
    "models_automation(rfr, X_train, y_train)"
   ]
  },
  {
   "cell_type": "markdown",
   "metadata": {},
   "source": [
    "# RESULTS ITERATION 1, TEST 1: \n",
    "63-64% prediction rate from linear regression. Pretty good!\n",
    "All other types of analysis were worse except for the GradientBoostingRegressor and RandomForestRegresor "
   ]
  },
  {
   "cell_type": "markdown",
   "metadata": {},
   "source": [
    "# ***ITERATION 1, TEST 2***:  \n",
    "Only those with a correlation of 0.45 or higher with price are kept. "
   ]
  },
  {
   "cell_type": "code",
   "execution_count": 48,
   "metadata": {},
   "outputs": [],
   "source": [
    "df1_2 = df.drop(['bedrooms','floors', 'waterfront', 'view', 'condition', 'sqft_basement', 'yr_built', 'yr_renovated', \n",
    "                 'sqft_lot15'], axis=1, inplace=False)"
   ]
  },
  {
   "cell_type": "code",
   "execution_count": 49,
   "metadata": {},
   "outputs": [
    {
     "data": {
      "text/html": [
       "<div>\n",
       "<style scoped>\n",
       "    .dataframe tbody tr th:only-of-type {\n",
       "        vertical-align: middle;\n",
       "    }\n",
       "\n",
       "    .dataframe tbody tr th {\n",
       "        vertical-align: top;\n",
       "    }\n",
       "\n",
       "    .dataframe thead th {\n",
       "        text-align: right;\n",
       "    }\n",
       "</style>\n",
       "<table border=\"1\" class=\"dataframe\">\n",
       "  <thead>\n",
       "    <tr style=\"text-align: right;\">\n",
       "      <th></th>\n",
       "      <th>bathrooms</th>\n",
       "      <th>grade</th>\n",
       "      <th>sqft_above</th>\n",
       "      <th>sqft_living15</th>\n",
       "      <th>price</th>\n",
       "    </tr>\n",
       "  </thead>\n",
       "  <tbody>\n",
       "    <tr>\n",
       "      <th>2495</th>\n",
       "      <td>3.00</td>\n",
       "      <td>7</td>\n",
       "      <td>2400</td>\n",
       "      <td>2060</td>\n",
       "      <td>300000</td>\n",
       "    </tr>\n",
       "    <tr>\n",
       "      <th>6729</th>\n",
       "      <td>1.75</td>\n",
       "      <td>8</td>\n",
       "      <td>1160</td>\n",
       "      <td>2590</td>\n",
       "      <td>647500</td>\n",
       "    </tr>\n",
       "    <tr>\n",
       "      <th>8404</th>\n",
       "      <td>1.00</td>\n",
       "      <td>7</td>\n",
       "      <td>1460</td>\n",
       "      <td>2250</td>\n",
       "      <td>400000</td>\n",
       "    </tr>\n",
       "    <tr>\n",
       "      <th>8800</th>\n",
       "      <td>1.00</td>\n",
       "      <td>6</td>\n",
       "      <td>1010</td>\n",
       "      <td>1290</td>\n",
       "      <td>235000</td>\n",
       "    </tr>\n",
       "    <tr>\n",
       "      <th>3553</th>\n",
       "      <td>2.00</td>\n",
       "      <td>7</td>\n",
       "      <td>760</td>\n",
       "      <td>1480</td>\n",
       "      <td>402500</td>\n",
       "    </tr>\n",
       "    <tr>\n",
       "      <th>...</th>\n",
       "      <td>...</td>\n",
       "      <td>...</td>\n",
       "      <td>...</td>\n",
       "      <td>...</td>\n",
       "      <td>...</td>\n",
       "    </tr>\n",
       "    <tr>\n",
       "      <th>16723</th>\n",
       "      <td>2.00</td>\n",
       "      <td>7</td>\n",
       "      <td>1600</td>\n",
       "      <td>1190</td>\n",
       "      <td>365000</td>\n",
       "    </tr>\n",
       "    <tr>\n",
       "      <th>3257</th>\n",
       "      <td>1.00</td>\n",
       "      <td>7</td>\n",
       "      <td>840</td>\n",
       "      <td>1930</td>\n",
       "      <td>380000</td>\n",
       "    </tr>\n",
       "    <tr>\n",
       "      <th>7614</th>\n",
       "      <td>1.00</td>\n",
       "      <td>7</td>\n",
       "      <td>720</td>\n",
       "      <td>1510</td>\n",
       "      <td>339000</td>\n",
       "    </tr>\n",
       "    <tr>\n",
       "      <th>20963</th>\n",
       "      <td>1.75</td>\n",
       "      <td>9</td>\n",
       "      <td>900</td>\n",
       "      <td>1440</td>\n",
       "      <td>399900</td>\n",
       "    </tr>\n",
       "    <tr>\n",
       "      <th>15937</th>\n",
       "      <td>1.00</td>\n",
       "      <td>6</td>\n",
       "      <td>880</td>\n",
       "      <td>1000</td>\n",
       "      <td>268950</td>\n",
       "    </tr>\n",
       "  </tbody>\n",
       "</table>\n",
       "<p>21420 rows × 5 columns</p>\n",
       "</div>"
      ],
      "text/plain": [
       "       bathrooms  grade  sqft_above  sqft_living15   price\n",
       "2495        3.00      7        2400           2060  300000\n",
       "6729        1.75      8        1160           2590  647500\n",
       "8404        1.00      7        1460           2250  400000\n",
       "8800        1.00      6        1010           1290  235000\n",
       "3553        2.00      7         760           1480  402500\n",
       "...          ...    ...         ...            ...     ...\n",
       "16723       2.00      7        1600           1190  365000\n",
       "3257        1.00      7         840           1930  380000\n",
       "7614        1.00      7         720           1510  339000\n",
       "20963       1.75      9         900           1440  399900\n",
       "15937       1.00      6         880           1000  268950\n",
       "\n",
       "[21420 rows x 5 columns]"
      ]
     },
     "execution_count": 49,
     "metadata": {},
     "output_type": "execute_result"
    }
   ],
   "source": [
    "df1_2"
   ]
  },
  {
   "cell_type": "code",
   "execution_count": 50,
   "metadata": {},
   "outputs": [
    {
     "data": {
      "image/png": "[encoded data removed]",
      "text/plain": [
       "<Figure size 720x576 with 2 Axes>"
      ]
     },
     "metadata": {
      "needs_background": "light"
     },
     "output_type": "display_data"
    }
   ],
   "source": [
    "mask=np.zeros_like(df1_2.corr())\n",
    "mask[np.triu_indices_from(mask)]=True\n",
    "fig, ax=plt.subplots(figsize=(10, 8))\n",
    "ax=sns.heatmap(df1_2.corr(), mask=mask, annot=True, fmt='.2g')\n",
    "plt.show()"
   ]
  },
  {
   "cell_type": "code",
   "execution_count": 51,
   "metadata": {},
   "outputs": [],
   "source": [
    "X=df1_2.drop('price', axis=1)\n",
    "y=df1_2.price"
   ]
  },
  {
   "cell_type": "code",
   "execution_count": 52,
   "metadata": {},
   "outputs": [
    {
     "data": {
      "text/html": [
       "<div>\n",
       "<style scoped>\n",
       "    .dataframe tbody tr th:only-of-type {\n",
       "        vertical-align: middle;\n",
       "    }\n",
       "\n",
       "    .dataframe tbody tr th {\n",
       "        vertical-align: top;\n",
       "    }\n",
       "\n",
       "    .dataframe thead th {\n",
       "        text-align: right;\n",
       "    }\n",
       "</style>\n",
       "<table border=\"1\" class=\"dataframe\">\n",
       "  <thead>\n",
       "    <tr style=\"text-align: right;\">\n",
       "      <th></th>\n",
       "      <th>bathrooms</th>\n",
       "      <th>grade</th>\n",
       "      <th>sqft_above</th>\n",
       "      <th>sqft_living15</th>\n",
       "    </tr>\n",
       "  </thead>\n",
       "  <tbody>\n",
       "    <tr>\n",
       "      <th>2495</th>\n",
       "      <td>3.00</td>\n",
       "      <td>7</td>\n",
       "      <td>2400</td>\n",
       "      <td>2060</td>\n",
       "    </tr>\n",
       "    <tr>\n",
       "      <th>6729</th>\n",
       "      <td>1.75</td>\n",
       "      <td>8</td>\n",
       "      <td>1160</td>\n",
       "      <td>2590</td>\n",
       "    </tr>\n",
       "    <tr>\n",
       "      <th>8404</th>\n",
       "      <td>1.00</td>\n",
       "      <td>7</td>\n",
       "      <td>1460</td>\n",
       "      <td>2250</td>\n",
       "    </tr>\n",
       "    <tr>\n",
       "      <th>8800</th>\n",
       "      <td>1.00</td>\n",
       "      <td>6</td>\n",
       "      <td>1010</td>\n",
       "      <td>1290</td>\n",
       "    </tr>\n",
       "    <tr>\n",
       "      <th>3553</th>\n",
       "      <td>2.00</td>\n",
       "      <td>7</td>\n",
       "      <td>760</td>\n",
       "      <td>1480</td>\n",
       "    </tr>\n",
       "  </tbody>\n",
       "</table>\n",
       "</div>"
      ],
      "text/plain": [
       "      bathrooms  grade  sqft_above  sqft_living15\n",
       "2495       3.00      7        2400           2060\n",
       "6729       1.75      8        1160           2590\n",
       "8404       1.00      7        1460           2250\n",
       "8800       1.00      6        1010           1290\n",
       "3553       2.00      7         760           1480"
      ]
     },
     "execution_count": 52,
     "metadata": {},
     "output_type": "execute_result"
    }
   ],
   "source": [
    "X.head()"
   ]
  },
  {
   "cell_type": "code",
   "execution_count": 53,
   "metadata": {},
   "outputs": [
    {
     "data": {
      "text/plain": [
       "2495    300000\n",
       "6729    647500\n",
       "8404    400000\n",
       "8800    235000\n",
       "3553    402500\n",
       "Name: price, dtype: int64"
      ]
     },
     "execution_count": 53,
     "metadata": {},
     "output_type": "execute_result"
    }
   ],
   "source": [
    "y.head()"
   ]
  },
  {
   "cell_type": "code",
   "execution_count": 54,
   "metadata": {},
   "outputs": [],
   "source": [
    "from sklearn.model_selection import train_test_split as tts\n",
    "\n",
    "X_train, X_test, y_train, y_test=tts(X, y, test_size=.25, random_state = 42)"
   ]
  },
  {
   "cell_type": "code",
   "execution_count": 55,
   "metadata": {},
   "outputs": [
    {
     "name": "stdout",
     "output_type": "stream",
     "text": [
      "                            OLS Regression Results                            \n",
      "==============================================================================\n",
      "Dep. Variable:                  price   R-squared:                       0.480\n",
      "Model:                            OLS   Adj. R-squared:                  0.479\n",
      "Method:                 Least Squares   F-statistic:                     3699.\n",
      "Date:                Thu, 19 Nov 2020   Prob (F-statistic):               0.00\n",
      "Time:                        14:14:03   Log-Likelihood:            -2.2342e+05\n",
      "No. Observations:               16065   AIC:                         4.469e+05\n",
      "Df Residuals:                   16060   BIC:                         4.469e+05\n",
      "Df Model:                           4                                         \n",
      "Covariance Type:            nonrobust                                         \n",
      "=================================================================================\n",
      "                    coef    std err          t      P>|t|      [0.025      0.975]\n",
      "---------------------------------------------------------------------------------\n",
      "const         -7.792e+05   1.67e+04    -46.791      0.000   -8.12e+05   -7.47e+05\n",
      "bathrooms      3.282e+04   3924.396      8.363      0.000    2.51e+04    4.05e+04\n",
      "grade          1.279e+05   3058.484     41.813      0.000    1.22e+05    1.34e+05\n",
      "sqft_above       60.3577      4.530     13.325      0.000      51.479      69.236\n",
      "sqft_living15    81.5788      4.796     17.008      0.000      72.177      90.980\n",
      "==============================================================================\n",
      "Omnibus:                    14610.763   Durbin-Watson:                   1.988\n",
      "Prob(Omnibus):                  0.000   Jarque-Bera (JB):          1464751.640\n",
      "Skew:                           4.001   Prob(JB):                         0.00\n",
      "Kurtosis:                      49.089   Cond. No.                     2.31e+04\n",
      "==============================================================================\n",
      "\n",
      "Notes:\n",
      "[1] Standard Errors assume that the covariance matrix of the errors is correctly specified.\n",
      "[2] The condition number is large, 2.31e+04. This might indicate that there are\n",
      "strong multicollinearity or other numerical problems.\n"
     ]
    }
   ],
   "source": [
    "import warnings\n",
    "warnings.simplefilter('ignore')\n",
    "\n",
    "import statsmodels.api as sm\n",
    "from statsmodels.formula.api import ols\n",
    "\n",
    "X_train_wi=sm.add_constant(X_train)\n",
    "model=sm.OLS(y_train,X_train_wi).fit()\n",
    "\n",
    "print(model.summary())"
   ]
  },
  {
   "cell_type": "code",
   "execution_count": 56,
   "metadata": {},
   "outputs": [],
   "source": [
    "from sklearn.linear_model import LinearRegression as LinReg\n",
    "\n",
    "linreg=LinReg()    # model\n",
    "linreg.fit(X_train, y_train)   # model train\n",
    "y_pred_linreg=linreg.predict(X_test)"
   ]
  },
  {
   "cell_type": "markdown",
   "metadata": {},
   "source": [
    "# R2"
   ]
  },
  {
   "cell_type": "code",
   "execution_count": 57,
   "metadata": {},
   "outputs": [
    {
     "name": "stdout",
     "output_type": "stream",
     "text": [
      "train R2: 0.479514329513412 -- test R2: 0.4843065995868142\n"
     ]
    }
   ],
   "source": [
    "print ('train R2: {} -- test R2: {}'.format(linreg.score(X_train, y_train),\n",
    "                                            linreg.score(X_test, y_test)))"
   ]
  },
  {
   "cell_type": "markdown",
   "metadata": {},
   "source": [
    "# MSE"
   ]
  },
  {
   "cell_type": "code",
   "execution_count": 58,
   "metadata": {},
   "outputs": [
    {
     "name": "stdout",
     "output_type": "stream",
     "text": [
      "train MSE: 70363183839.39711 -- test MSE: 69516410531.57256\n"
     ]
    }
   ],
   "source": [
    "from sklearn.metrics import mean_squared_error as mse\n",
    "\n",
    "\n",
    "train_mse=mse(linreg.predict(X_train), y_train)\n",
    "test_mse=mse(linreg.predict(X_test), y_test)\n",
    "\n",
    "print ('train MSE: {} -- test MSE: {}'.format(train_mse, test_mse))"
   ]
  },
  {
   "cell_type": "markdown",
   "metadata": {},
   "source": [
    "# OTHER MODELS "
   ]
  },
  {
   "cell_type": "code",
   "execution_count": 59,
   "metadata": {},
   "outputs": [],
   "source": [
    "# sklearn\n",
    "from sklearn.linear_model import LinearRegression, Lasso, Ridge, ElasticNet, SGDRegressor\n",
    "from sklearn.tree import DecisionTreeRegressor\n",
    "from sklearn.neighbors import KNeighborsRegressor\n",
    "from sklearn.svm import SVR\n",
    "from sklearn.neural_network import MLPRegressor\n",
    "from sklearn.ensemble import RandomForestRegressor, GradientBoostingRegressor\n",
    "from sklearn.model_selection import train_test_split\n"
   ]
  },
  {
   "cell_type": "code",
   "execution_count": 60,
   "metadata": {
    "scrolled": true
   },
   "outputs": [
    {
     "name": "stdout",
     "output_type": "stream",
     "text": [
      "LinearRegression: Train -> 0.479514329513412, Test -> 0.4843065995868142\n",
      "Lasso: Train -> 0.4795143294830151, Test -> 0.4843064013958752\n",
      "Ridge: Train -> 0.4795143285885455, Test -> 0.48430634133669814\n",
      "ElasticNet: Train -> 0.46348704816109443, Test -> 0.4661720774704593\n"
     ]
    }
   ],
   "source": [
    "def models_automation(models, X_train, y_train):\n",
    "    for model in models:\n",
    "        model.fit(X_train, y_train)\n",
    "        print(f\"{model.__class__.__name__}: Train -> {model.score(X_train, y_train)}, Test -> {model.score(X_test, y_test)}\")\n",
    "\n",
    "linear_models = [LinearRegression(), Lasso(), Ridge(), ElasticNet()]\n",
    "models_automation(linear_models, X_train, y_train)"
   ]
  },
  {
   "cell_type": "code",
   "execution_count": 61,
   "metadata": {},
   "outputs": [
    {
     "name": "stdout",
     "output_type": "stream",
     "text": [
      "SVR: Train -> -0.05616652483145068, Test -> -0.058865134217069626\n"
     ]
    }
   ],
   "source": [
    "from sklearn.svm import SVR\n",
    "svr = [SVR()]\n",
    "models_automation(svr, X_train, y_train)"
   ]
  },
  {
   "cell_type": "code",
   "execution_count": 62,
   "metadata": {
    "scrolled": true
   },
   "outputs": [
    {
     "name": "stdout",
     "output_type": "stream",
     "text": [
      "KNeighborsRegressor: Train -> 0.6042271563907047, Test -> 0.42998930014939185\n"
     ]
    }
   ],
   "source": [
    "from sklearn.neighbors import KNeighborsRegressor\n",
    "knn = [KNeighborsRegressor()]\n",
    "models_automation(knn, X_train, y_train)"
   ]
  },
  {
   "cell_type": "code",
   "execution_count": 63,
   "metadata": {
    "scrolled": false
   },
   "outputs": [
    {
     "name": "stdout",
     "output_type": "stream",
     "text": [
      "DecisionTreeRegressor: Train -> 0.9934607822723929, Test -> 0.26213708955337733\n"
     ]
    }
   ],
   "source": [
    "from sklearn.tree import DecisionTreeRegressor\n",
    "dtr = [DecisionTreeRegressor()]\n",
    "models_automation(dtr, X_train, y_train)"
   ]
  },
  {
   "cell_type": "code",
   "execution_count": 64,
   "metadata": {
    "scrolled": true
   },
   "outputs": [
    {
     "name": "stdout",
     "output_type": "stream",
     "text": [
      "GradientBoostingRegressor: Train -> 0.6528442423263516, Test -> 0.5931865820231634\n",
      "RandomForestRegressor: Train -> 0.929463093512031, Test -> 0.5475064369398198\n"
     ]
    }
   ],
   "source": [
    "from sklearn.ensemble import GradientBoostingRegressor\n",
    "from sklearn.ensemble import RandomForestRegressor\n",
    "rfr = [GradientBoostingRegressor(), RandomForestRegressor()]\n",
    "models_automation(rfr, X_train, y_train)"
   ]
  },
  {
   "cell_type": "markdown",
   "metadata": {},
   "source": [
    "# RESULTS ITERATION 1, TEST 2: \n",
    "Removing some of the columns led to lower accuracy by about 0.15 in linear regression and more in other models. \n",
    "Further nuancing could be done here to find the exact ones, but time is an issue. \n",
    "The GradientBoostingRegressor and RandomForestRegressor were the only ones above 0.5 "
   ]
  },
  {
   "cell_type": "markdown",
   "metadata": {},
   "source": [
    "# ***ITERATION 1, TEST 3***:  \n",
    "Only those with a correlation of 0.45 or higher and have less than 0.75 with other columns are kept. \n",
    "This means that ALL columns except Grade will be removed. "
   ]
  },
  {
   "cell_type": "code",
   "execution_count": 65,
   "metadata": {},
   "outputs": [],
   "source": [
    "df1_3 = df1_2.drop(['bathrooms','sqft_above', 'sqft_living15'], axis=1, inplace=False)"
   ]
  },
  {
   "cell_type": "code",
   "execution_count": 66,
   "metadata": {},
   "outputs": [
    {
     "data": {
      "text/html": [
       "<div>\n",
       "<style scoped>\n",
       "    .dataframe tbody tr th:only-of-type {\n",
       "        vertical-align: middle;\n",
       "    }\n",
       "\n",
       "    .dataframe tbody tr th {\n",
       "        vertical-align: top;\n",
       "    }\n",
       "\n",
       "    .dataframe thead th {\n",
       "        text-align: right;\n",
       "    }\n",
       "</style>\n",
       "<table border=\"1\" class=\"dataframe\">\n",
       "  <thead>\n",
       "    <tr style=\"text-align: right;\">\n",
       "      <th></th>\n",
       "      <th>grade</th>\n",
       "      <th>price</th>\n",
       "    </tr>\n",
       "  </thead>\n",
       "  <tbody>\n",
       "    <tr>\n",
       "      <th>2495</th>\n",
       "      <td>7</td>\n",
       "      <td>300000</td>\n",
       "    </tr>\n",
       "    <tr>\n",
       "      <th>6729</th>\n",
       "      <td>8</td>\n",
       "      <td>647500</td>\n",
       "    </tr>\n",
       "    <tr>\n",
       "      <th>8404</th>\n",
       "      <td>7</td>\n",
       "      <td>400000</td>\n",
       "    </tr>\n",
       "    <tr>\n",
       "      <th>8800</th>\n",
       "      <td>6</td>\n",
       "      <td>235000</td>\n",
       "    </tr>\n",
       "    <tr>\n",
       "      <th>3553</th>\n",
       "      <td>7</td>\n",
       "      <td>402500</td>\n",
       "    </tr>\n",
       "    <tr>\n",
       "      <th>...</th>\n",
       "      <td>...</td>\n",
       "      <td>...</td>\n",
       "    </tr>\n",
       "    <tr>\n",
       "      <th>16723</th>\n",
       "      <td>7</td>\n",
       "      <td>365000</td>\n",
       "    </tr>\n",
       "    <tr>\n",
       "      <th>3257</th>\n",
       "      <td>7</td>\n",
       "      <td>380000</td>\n",
       "    </tr>\n",
       "    <tr>\n",
       "      <th>7614</th>\n",
       "      <td>7</td>\n",
       "      <td>339000</td>\n",
       "    </tr>\n",
       "    <tr>\n",
       "      <th>20963</th>\n",
       "      <td>9</td>\n",
       "      <td>399900</td>\n",
       "    </tr>\n",
       "    <tr>\n",
       "      <th>15937</th>\n",
       "      <td>6</td>\n",
       "      <td>268950</td>\n",
       "    </tr>\n",
       "  </tbody>\n",
       "</table>\n",
       "<p>21420 rows × 2 columns</p>\n",
       "</div>"
      ],
      "text/plain": [
       "       grade   price\n",
       "2495       7  300000\n",
       "6729       8  647500\n",
       "8404       7  400000\n",
       "8800       6  235000\n",
       "3553       7  402500\n",
       "...      ...     ...\n",
       "16723      7  365000\n",
       "3257       7  380000\n",
       "7614       7  339000\n",
       "20963      9  399900\n",
       "15937      6  268950\n",
       "\n",
       "[21420 rows x 2 columns]"
      ]
     },
     "execution_count": 66,
     "metadata": {},
     "output_type": "execute_result"
    }
   ],
   "source": [
    "df1_3"
   ]
  },
  {
   "cell_type": "code",
   "execution_count": 67,
   "metadata": {},
   "outputs": [],
   "source": [
    "X=df1_3.drop('price', axis=1)\n",
    "y=df1_3.price"
   ]
  },
  {
   "cell_type": "code",
   "execution_count": 68,
   "metadata": {},
   "outputs": [],
   "source": [
    "from sklearn.model_selection import train_test_split as tts\n",
    "\n",
    "X_train, X_test, y_train, y_test=tts(X, y, test_size=.25, random_state = 42)"
   ]
  },
  {
   "cell_type": "code",
   "execution_count": 69,
   "metadata": {},
   "outputs": [
    {
     "name": "stdout",
     "output_type": "stream",
     "text": [
      "                            OLS Regression Results                            \n",
      "==============================================================================\n",
      "Dep. Variable:                  price   R-squared:                       0.444\n",
      "Model:                            OLS   Adj. R-squared:                  0.444\n",
      "Method:                 Least Squares   F-statistic:                 1.284e+04\n",
      "Date:                Thu, 19 Nov 2020   Prob (F-statistic):               0.00\n",
      "Time:                        14:14:31   Log-Likelihood:            -2.2395e+05\n",
      "No. Observations:               16065   AIC:                         4.479e+05\n",
      "Df Residuals:                   16063   BIC:                         4.479e+05\n",
      "Df Model:                           1                                         \n",
      "Covariance Type:            nonrobust                                         \n",
      "==============================================================================\n",
      "                 coef    std err          t      P>|t|      [0.025      0.975]\n",
      "------------------------------------------------------------------------------\n",
      "const       -1.06e+06   1.43e+04    -74.155      0.000   -1.09e+06   -1.03e+06\n",
      "grade       2.089e+05   1843.475    113.333      0.000    2.05e+05    2.13e+05\n",
      "==============================================================================\n",
      "Omnibus:                    15106.681   Durbin-Watson:                   1.989\n",
      "Prob(Omnibus):                  0.000   Jarque-Bera (JB):          1674771.032\n",
      "Skew:                           4.201   Prob(JB):                         0.00\n",
      "Kurtosis:                      52.309   Cond. No.                         52.1\n",
      "==============================================================================\n",
      "\n",
      "Notes:\n",
      "[1] Standard Errors assume that the covariance matrix of the errors is correctly specified.\n"
     ]
    }
   ],
   "source": [
    "import warnings\n",
    "warnings.simplefilter('ignore')\n",
    "\n",
    "import statsmodels.api as sm\n",
    "from statsmodels.formula.api import ols\n",
    "\n",
    "X_train_wi=sm.add_constant(X_train)\n",
    "model=sm.OLS(y_train,X_train_wi).fit()\n",
    "\n",
    "print(model.summary())"
   ]
  },
  {
   "cell_type": "code",
   "execution_count": 70,
   "metadata": {},
   "outputs": [],
   "source": [
    "from sklearn.linear_model import LinearRegression as LinReg\n",
    "\n",
    "linreg=LinReg()    # model\n",
    "linreg.fit(X_train, y_train)   # model train\n",
    "y_pred_linreg=linreg.predict(X_test)"
   ]
  },
  {
   "cell_type": "markdown",
   "metadata": {},
   "source": [
    "# R2"
   ]
  },
  {
   "cell_type": "code",
   "execution_count": 71,
   "metadata": {},
   "outputs": [
    {
     "name": "stdout",
     "output_type": "stream",
     "text": [
      "train R2: 0.444327363544038 -- test R2: 0.4456582629115996\n"
     ]
    }
   ],
   "source": [
    "print ('train R2: {} -- test R2: {}'.format(linreg.score(X_train, y_train),\n",
    "                                            linreg.score(X_test, y_test)))"
   ]
  },
  {
   "cell_type": "markdown",
   "metadata": {},
   "source": [
    "# MSE"
   ]
  },
  {
   "cell_type": "code",
   "execution_count": 72,
   "metadata": {},
   "outputs": [
    {
     "name": "stdout",
     "output_type": "stream",
     "text": [
      "train MSE: 75120023644.30287 -- test MSE: 74726276774.8171\n"
     ]
    }
   ],
   "source": [
    "from sklearn.metrics import mean_squared_error as mse\n",
    "\n",
    "\n",
    "train_mse=mse(linreg.predict(X_train), y_train)\n",
    "test_mse=mse(linreg.predict(X_test), y_test)\n",
    "\n",
    "print ('train MSE: {} -- test MSE: {}'.format(train_mse, test_mse))"
   ]
  },
  {
   "cell_type": "markdown",
   "metadata": {},
   "source": [
    "# OTHER MODELS "
   ]
  },
  {
   "cell_type": "code",
   "execution_count": 73,
   "metadata": {},
   "outputs": [],
   "source": [
    "# sklearn\n",
    "from sklearn.linear_model import LinearRegression, Lasso, Ridge, ElasticNet, SGDRegressor\n",
    "from sklearn.tree import DecisionTreeRegressor\n",
    "from sklearn.neighbors import KNeighborsRegressor\n",
    "from sklearn.svm import SVR\n",
    "from sklearn.neural_network import MLPRegressor\n",
    "from sklearn.ensemble import RandomForestRegressor, GradientBoostingRegressor\n",
    "from sklearn.model_selection import train_test_split\n"
   ]
  },
  {
   "cell_type": "code",
   "execution_count": 74,
   "metadata": {
    "scrolled": true
   },
   "outputs": [
    {
     "name": "stdout",
     "output_type": "stream",
     "text": [
      "LinearRegression: Train -> 0.444327363544038, Test -> 0.4456582629115996\n",
      "Lasso: Train -> 0.44432736353866253, Test -> 0.44565825063139575\n",
      "Ridge: Train -> 0.44432736263497696, Test -> 0.44565810237917847\n",
      "ElasticNet: Train -> 0.4127679881636346, Test -> 0.4133125837923137\n"
     ]
    }
   ],
   "source": [
    "def models_automation(models, X_train, y_train):\n",
    "    for model in models:\n",
    "        model.fit(X_train, y_train)\n",
    "        print(f\"{model.__class__.__name__}: Train -> {model.score(X_train, y_train)}, Test -> {model.score(X_test, y_test)}\")\n",
    "\n",
    "linear_models = [LinearRegression(), Lasso(), Ridge(), ElasticNet()]\n",
    "models_automation(linear_models, X_train, y_train)"
   ]
  },
  {
   "cell_type": "code",
   "execution_count": 75,
   "metadata": {},
   "outputs": [
    {
     "name": "stdout",
     "output_type": "stream",
     "text": [
      "SVR: Train -> -0.05460750766305278, Test -> -0.05733297415928207\n"
     ]
    }
   ],
   "source": [
    "from sklearn.svm import SVR\n",
    "svr = [SVR()]\n",
    "models_automation(svr, X_train, y_train)"
   ]
  },
  {
   "cell_type": "code",
   "execution_count": 76,
   "metadata": {
    "scrolled": true
   },
   "outputs": [
    {
     "name": "stdout",
     "output_type": "stream",
     "text": [
      "KNeighborsRegressor: Train -> 0.27395818498780966, Test -> 0.3065024278762103\n"
     ]
    }
   ],
   "source": [
    "from sklearn.neighbors import KNeighborsRegressor\n",
    "knn = [KNeighborsRegressor()]\n",
    "models_automation(knn, X_train, y_train)"
   ]
  },
  {
   "cell_type": "code",
   "execution_count": 77,
   "metadata": {
    "scrolled": false
   },
   "outputs": [
    {
     "name": "stdout",
     "output_type": "stream",
     "text": [
      "DecisionTreeRegressor: Train -> 0.5174115307191618, Test -> 0.5239908684484536\n"
     ]
    }
   ],
   "source": [
    "from sklearn.tree import DecisionTreeRegressor\n",
    "dtr = [DecisionTreeRegressor()]\n",
    "models_automation(dtr, X_train, y_train)"
   ]
  },
  {
   "cell_type": "code",
   "execution_count": 78,
   "metadata": {
    "scrolled": true
   },
   "outputs": [
    {
     "name": "stdout",
     "output_type": "stream",
     "text": [
      "GradientBoostingRegressor: Train -> 0.5174115286143539, Test -> 0.523988822976615\n",
      "RandomForestRegressor: Train -> 0.5173056374455557, Test -> 0.5247827418411857\n"
     ]
    }
   ],
   "source": [
    "from sklearn.ensemble import GradientBoostingRegressor\n",
    "from sklearn.ensemble import RandomForestRegressor\n",
    "rfr = [GradientBoostingRegressor(), RandomForestRegressor()]\n",
    "models_automation(rfr, X_train, y_train)"
   ]
  },
  {
   "cell_type": "markdown",
   "metadata": {},
   "source": [
    "# RESULTS ITERATION 1, TEST 3: \n",
    "Considering that we are only working with 1 column, I would say that the results are not too bad (43-44% in Linear regression), particularly when compared to the few more columns used above in Test 2. Again, the GradientBoostingRegressor and RandomForestRegressor were the only ones above 0.5 "
   ]
  },
  {
   "cell_type": "markdown",
   "metadata": {},
   "source": [
    "# 2nd Iteration\n",
    "My Goal here will be to do some more cleaning, namely to remove outliers via the 1.5*IQR method and then to do the exact same tests as above. \n",
    "\n",
    "I will only do this for the columns that seemed to need it most urgently. "
   ]
  },
  {
   "cell_type": "markdown",
   "metadata": {},
   "source": [
    "#### Removing outliers outside of 1.5*IQR"
   ]
  },
  {
   "cell_type": "markdown",
   "metadata": {},
   "source": [
    "#### bedrooms"
   ]
  },
  {
   "cell_type": "markdown",
   "metadata": {},
   "source": [
    "##### Boxplot before bedrooms"
   ]
  },
  {
   "cell_type": "code",
   "execution_count": 79,
   "metadata": {},
   "outputs": [
    {
     "data": {
      "text/plain": [
       "<AxesSubplot:xlabel='bedrooms'>"
      ]
     },
     "execution_count": 79,
     "metadata": {},
     "output_type": "execute_result"
    },
    {
     "data": {
      "image/png": "[encoded data removed]",
      "text/plain": [
       "<Figure size 432x288 with 1 Axes>"
      ]
     },
     "metadata": {
      "needs_background": "light"
     },
     "output_type": "display_data"
    }
   ],
   "source": [
    "sns.boxplot(x=df['bedrooms'])"
   ]
  },
  {
   "cell_type": "code",
   "execution_count": 80,
   "metadata": {},
   "outputs": [
    {
     "data": {
      "text/html": [
       "<div>\n",
       "<style scoped>\n",
       "    .dataframe tbody tr th:only-of-type {\n",
       "        vertical-align: middle;\n",
       "    }\n",
       "\n",
       "    .dataframe tbody tr th {\n",
       "        vertical-align: top;\n",
       "    }\n",
       "\n",
       "    .dataframe thead th {\n",
       "        text-align: right;\n",
       "    }\n",
       "</style>\n",
       "<table border=\"1\" class=\"dataframe\">\n",
       "  <thead>\n",
       "    <tr style=\"text-align: right;\">\n",
       "      <th></th>\n",
       "      <th>bedrooms</th>\n",
       "      <th>bathrooms</th>\n",
       "      <th>floors</th>\n",
       "      <th>waterfront</th>\n",
       "      <th>view</th>\n",
       "      <th>condition</th>\n",
       "      <th>grade</th>\n",
       "      <th>sqft_above</th>\n",
       "      <th>sqft_basement</th>\n",
       "      <th>yr_built</th>\n",
       "      <th>yr_renovated</th>\n",
       "      <th>sqft_living15</th>\n",
       "      <th>sqft_lot15</th>\n",
       "      <th>price</th>\n",
       "    </tr>\n",
       "  </thead>\n",
       "  <tbody>\n",
       "    <tr>\n",
       "      <th>6729</th>\n",
       "      <td>4</td>\n",
       "      <td>1.75</td>\n",
       "      <td>1.0</td>\n",
       "      <td>0</td>\n",
       "      <td>0</td>\n",
       "      <td>4</td>\n",
       "      <td>8</td>\n",
       "      <td>1160</td>\n",
       "      <td>1</td>\n",
       "      <td>1947</td>\n",
       "      <td>0</td>\n",
       "      <td>2590</td>\n",
       "      <td>21891</td>\n",
       "      <td>647500</td>\n",
       "    </tr>\n",
       "    <tr>\n",
       "      <th>8404</th>\n",
       "      <td>3</td>\n",
       "      <td>1.00</td>\n",
       "      <td>1.0</td>\n",
       "      <td>0</td>\n",
       "      <td>0</td>\n",
       "      <td>3</td>\n",
       "      <td>7</td>\n",
       "      <td>1460</td>\n",
       "      <td>0</td>\n",
       "      <td>1952</td>\n",
       "      <td>0</td>\n",
       "      <td>2250</td>\n",
       "      <td>20023</td>\n",
       "      <td>400000</td>\n",
       "    </tr>\n",
       "    <tr>\n",
       "      <th>8800</th>\n",
       "      <td>3</td>\n",
       "      <td>1.00</td>\n",
       "      <td>1.5</td>\n",
       "      <td>0</td>\n",
       "      <td>0</td>\n",
       "      <td>4</td>\n",
       "      <td>6</td>\n",
       "      <td>1010</td>\n",
       "      <td>1</td>\n",
       "      <td>1930</td>\n",
       "      <td>0</td>\n",
       "      <td>1290</td>\n",
       "      <td>10320</td>\n",
       "      <td>235000</td>\n",
       "    </tr>\n",
       "    <tr>\n",
       "      <th>3553</th>\n",
       "      <td>4</td>\n",
       "      <td>2.00</td>\n",
       "      <td>1.0</td>\n",
       "      <td>0</td>\n",
       "      <td>0</td>\n",
       "      <td>3</td>\n",
       "      <td>7</td>\n",
       "      <td>760</td>\n",
       "      <td>1</td>\n",
       "      <td>1951</td>\n",
       "      <td>1</td>\n",
       "      <td>1480</td>\n",
       "      <td>3504</td>\n",
       "      <td>402500</td>\n",
       "    </tr>\n",
       "    <tr>\n",
       "      <th>18506</th>\n",
       "      <td>4</td>\n",
       "      <td>2.75</td>\n",
       "      <td>1.0</td>\n",
       "      <td>0</td>\n",
       "      <td>0</td>\n",
       "      <td>5</td>\n",
       "      <td>7</td>\n",
       "      <td>1170</td>\n",
       "      <td>1</td>\n",
       "      <td>1951</td>\n",
       "      <td>0</td>\n",
       "      <td>1540</td>\n",
       "      <td>4200</td>\n",
       "      <td>680000</td>\n",
       "    </tr>\n",
       "    <tr>\n",
       "      <th>...</th>\n",
       "      <td>...</td>\n",
       "      <td>...</td>\n",
       "      <td>...</td>\n",
       "      <td>...</td>\n",
       "      <td>...</td>\n",
       "      <td>...</td>\n",
       "      <td>...</td>\n",
       "      <td>...</td>\n",
       "      <td>...</td>\n",
       "      <td>...</td>\n",
       "      <td>...</td>\n",
       "      <td>...</td>\n",
       "      <td>...</td>\n",
       "      <td>...</td>\n",
       "    </tr>\n",
       "    <tr>\n",
       "      <th>11642</th>\n",
       "      <td>3</td>\n",
       "      <td>1.00</td>\n",
       "      <td>1.0</td>\n",
       "      <td>0</td>\n",
       "      <td>0</td>\n",
       "      <td>4</td>\n",
       "      <td>7</td>\n",
       "      <td>1310</td>\n",
       "      <td>0</td>\n",
       "      <td>1964</td>\n",
       "      <td>0</td>\n",
       "      <td>1120</td>\n",
       "      <td>4166</td>\n",
       "      <td>415885</td>\n",
       "    </tr>\n",
       "    <tr>\n",
       "      <th>3257</th>\n",
       "      <td>2</td>\n",
       "      <td>1.00</td>\n",
       "      <td>1.0</td>\n",
       "      <td>0</td>\n",
       "      <td>0</td>\n",
       "      <td>5</td>\n",
       "      <td>7</td>\n",
       "      <td>840</td>\n",
       "      <td>1</td>\n",
       "      <td>1939</td>\n",
       "      <td>0</td>\n",
       "      <td>1930</td>\n",
       "      <td>5150</td>\n",
       "      <td>380000</td>\n",
       "    </tr>\n",
       "    <tr>\n",
       "      <th>7614</th>\n",
       "      <td>3</td>\n",
       "      <td>1.00</td>\n",
       "      <td>1.0</td>\n",
       "      <td>0</td>\n",
       "      <td>0</td>\n",
       "      <td>4</td>\n",
       "      <td>7</td>\n",
       "      <td>720</td>\n",
       "      <td>1</td>\n",
       "      <td>1942</td>\n",
       "      <td>0</td>\n",
       "      <td>1510</td>\n",
       "      <td>4538</td>\n",
       "      <td>339000</td>\n",
       "    </tr>\n",
       "    <tr>\n",
       "      <th>20963</th>\n",
       "      <td>2</td>\n",
       "      <td>1.75</td>\n",
       "      <td>1.5</td>\n",
       "      <td>0</td>\n",
       "      <td>0</td>\n",
       "      <td>3</td>\n",
       "      <td>9</td>\n",
       "      <td>900</td>\n",
       "      <td>1</td>\n",
       "      <td>2011</td>\n",
       "      <td>0</td>\n",
       "      <td>1440</td>\n",
       "      <td>1188</td>\n",
       "      <td>399900</td>\n",
       "    </tr>\n",
       "    <tr>\n",
       "      <th>15937</th>\n",
       "      <td>3</td>\n",
       "      <td>1.00</td>\n",
       "      <td>1.0</td>\n",
       "      <td>0</td>\n",
       "      <td>0</td>\n",
       "      <td>3</td>\n",
       "      <td>6</td>\n",
       "      <td>880</td>\n",
       "      <td>1</td>\n",
       "      <td>1943</td>\n",
       "      <td>0</td>\n",
       "      <td>1000</td>\n",
       "      <td>8100</td>\n",
       "      <td>268950</td>\n",
       "    </tr>\n",
       "  </tbody>\n",
       "</table>\n",
       "<p>19508 rows × 14 columns</p>\n",
       "</div>"
      ],
      "text/plain": [
       "       bedrooms  bathrooms  floors  waterfront  view  condition  grade  \\\n",
       "6729          4       1.75     1.0           0     0          4      8   \n",
       "8404          3       1.00     1.0           0     0          3      7   \n",
       "8800          3       1.00     1.5           0     0          4      6   \n",
       "3553          4       2.00     1.0           0     0          3      7   \n",
       "18506         4       2.75     1.0           0     0          5      7   \n",
       "...         ...        ...     ...         ...   ...        ...    ...   \n",
       "11642         3       1.00     1.0           0     0          4      7   \n",
       "3257          2       1.00     1.0           0     0          5      7   \n",
       "7614          3       1.00     1.0           0     0          4      7   \n",
       "20963         2       1.75     1.5           0     0          3      9   \n",
       "15937         3       1.00     1.0           0     0          3      6   \n",
       "\n",
       "       sqft_above  sqft_basement  yr_built  yr_renovated  sqft_living15  \\\n",
       "6729         1160              1      1947             0           2590   \n",
       "8404         1460              0      1952             0           2250   \n",
       "8800         1010              1      1930             0           1290   \n",
       "3553          760              1      1951             1           1480   \n",
       "18506        1170              1      1951             0           1540   \n",
       "...           ...            ...       ...           ...            ...   \n",
       "11642        1310              0      1964             0           1120   \n",
       "3257          840              1      1939             0           1930   \n",
       "7614          720              1      1942             0           1510   \n",
       "20963         900              1      2011             0           1440   \n",
       "15937         880              1      1943             0           1000   \n",
       "\n",
       "       sqft_lot15   price  \n",
       "6729        21891  647500  \n",
       "8404        20023  400000  \n",
       "8800        10320  235000  \n",
       "3553         3504  402500  \n",
       "18506        4200  680000  \n",
       "...           ...     ...  \n",
       "11642        4166  415885  \n",
       "3257         5150  380000  \n",
       "7614         4538  339000  \n",
       "20963        1188  399900  \n",
       "15937        8100  268950  \n",
       "\n",
       "[19508 rows x 14 columns]"
      ]
     },
     "execution_count": 80,
     "metadata": {},
     "output_type": "execute_result"
    }
   ],
   "source": [
    "# defining the first and the third quartile\n",
    "q3 = df['bedrooms'].quantile(.75)\n",
    "q1 = df['bedrooms'].quantile(.25)\n",
    "\n",
    "# calculating the interquartile range\n",
    "iqr = q3 - q1\n",
    "\n",
    "# calculating the median\n",
    "median = df['bedrooms'].median()\n",
    "\n",
    "# defining the upper limit of the data according to the 1.5*IQR rule\n",
    "outlier_limit_upper = median + 1.5*iqr\n",
    "\n",
    "# defining the lower limit of the data according to the 1.5*IQR rule\n",
    "outlier_limit_lower = median - 1.5*iqr\n",
    "\n",
    "\n",
    "# return only those rows, where the value of `IC2` is not an \"upper\" outlier\n",
    "dfclean1 = df[df['bedrooms'] < outlier_limit_upper]\n",
    "\n",
    "dfclean1"
   ]
  },
  {
   "cell_type": "markdown",
   "metadata": {},
   "source": [
    "This removed just under 2000 entries. "
   ]
  },
  {
   "cell_type": "markdown",
   "metadata": {},
   "source": [
    "#### boxplot bedrooms after"
   ]
  },
  {
   "cell_type": "code",
   "execution_count": 81,
   "metadata": {},
   "outputs": [
    {
     "data": {
      "text/plain": [
       "<AxesSubplot:xlabel='bedrooms'>"
      ]
     },
     "execution_count": 81,
     "metadata": {},
     "output_type": "execute_result"
    },
    {
     "data": {
      "image/png": "[encoded data removed]",
      "text/plain": [
       "<Figure size 432x288 with 1 Axes>"
      ]
     },
     "metadata": {
      "needs_background": "light"
     },
     "output_type": "display_data"
    }
   ],
   "source": [
    "sns.boxplot(x=dfclean1['bedrooms'])"
   ]
  },
  {
   "cell_type": "markdown",
   "metadata": {},
   "source": [
    "#### Bathrooms"
   ]
  },
  {
   "cell_type": "markdown",
   "metadata": {},
   "source": [
    "To remove outliers here I will remove any that are outside the 1.5* IQR"
   ]
  },
  {
   "cell_type": "markdown",
   "metadata": {},
   "source": [
    "##### Boxplot before bathrooms"
   ]
  },
  {
   "cell_type": "code",
   "execution_count": 82,
   "metadata": {},
   "outputs": [
    {
     "data": {
      "text/plain": [
       "<AxesSubplot:xlabel='bathrooms'>"
      ]
     },
     "execution_count": 82,
     "metadata": {},
     "output_type": "execute_result"
    },
    {
     "data": {
      "image/png": "[encoded data removed]",
      "text/plain": [
       "<Figure size 432x288 with 1 Axes>"
      ]
     },
     "metadata": {
      "needs_background": "light"
     },
     "output_type": "display_data"
    }
   ],
   "source": [
    "sns.boxplot(x=df['bathrooms'])"
   ]
  },
  {
   "cell_type": "code",
   "execution_count": 83,
   "metadata": {},
   "outputs": [
    {
     "data": {
      "text/html": [
       "<div>\n",
       "<style scoped>\n",
       "    .dataframe tbody tr th:only-of-type {\n",
       "        vertical-align: middle;\n",
       "    }\n",
       "\n",
       "    .dataframe tbody tr th {\n",
       "        vertical-align: top;\n",
       "    }\n",
       "\n",
       "    .dataframe thead th {\n",
       "        text-align: right;\n",
       "    }\n",
       "</style>\n",
       "<table border=\"1\" class=\"dataframe\">\n",
       "  <thead>\n",
       "    <tr style=\"text-align: right;\">\n",
       "      <th></th>\n",
       "      <th>bedrooms</th>\n",
       "      <th>bathrooms</th>\n",
       "      <th>floors</th>\n",
       "      <th>waterfront</th>\n",
       "      <th>view</th>\n",
       "      <th>condition</th>\n",
       "      <th>grade</th>\n",
       "      <th>sqft_above</th>\n",
       "      <th>sqft_basement</th>\n",
       "      <th>yr_built</th>\n",
       "      <th>yr_renovated</th>\n",
       "      <th>sqft_living15</th>\n",
       "      <th>sqft_lot15</th>\n",
       "      <th>price</th>\n",
       "    </tr>\n",
       "  </thead>\n",
       "  <tbody>\n",
       "    <tr>\n",
       "      <th>6729</th>\n",
       "      <td>4</td>\n",
       "      <td>1.75</td>\n",
       "      <td>1.0</td>\n",
       "      <td>0</td>\n",
       "      <td>0</td>\n",
       "      <td>4</td>\n",
       "      <td>8</td>\n",
       "      <td>1160</td>\n",
       "      <td>1</td>\n",
       "      <td>1947</td>\n",
       "      <td>0</td>\n",
       "      <td>2590</td>\n",
       "      <td>21891</td>\n",
       "      <td>647500</td>\n",
       "    </tr>\n",
       "    <tr>\n",
       "      <th>8404</th>\n",
       "      <td>3</td>\n",
       "      <td>1.00</td>\n",
       "      <td>1.0</td>\n",
       "      <td>0</td>\n",
       "      <td>0</td>\n",
       "      <td>3</td>\n",
       "      <td>7</td>\n",
       "      <td>1460</td>\n",
       "      <td>0</td>\n",
       "      <td>1952</td>\n",
       "      <td>0</td>\n",
       "      <td>2250</td>\n",
       "      <td>20023</td>\n",
       "      <td>400000</td>\n",
       "    </tr>\n",
       "    <tr>\n",
       "      <th>8800</th>\n",
       "      <td>3</td>\n",
       "      <td>1.00</td>\n",
       "      <td>1.5</td>\n",
       "      <td>0</td>\n",
       "      <td>0</td>\n",
       "      <td>4</td>\n",
       "      <td>6</td>\n",
       "      <td>1010</td>\n",
       "      <td>1</td>\n",
       "      <td>1930</td>\n",
       "      <td>0</td>\n",
       "      <td>1290</td>\n",
       "      <td>10320</td>\n",
       "      <td>235000</td>\n",
       "    </tr>\n",
       "    <tr>\n",
       "      <th>3553</th>\n",
       "      <td>4</td>\n",
       "      <td>2.00</td>\n",
       "      <td>1.0</td>\n",
       "      <td>0</td>\n",
       "      <td>0</td>\n",
       "      <td>3</td>\n",
       "      <td>7</td>\n",
       "      <td>760</td>\n",
       "      <td>1</td>\n",
       "      <td>1951</td>\n",
       "      <td>1</td>\n",
       "      <td>1480</td>\n",
       "      <td>3504</td>\n",
       "      <td>402500</td>\n",
       "    </tr>\n",
       "    <tr>\n",
       "      <th>18506</th>\n",
       "      <td>4</td>\n",
       "      <td>2.75</td>\n",
       "      <td>1.0</td>\n",
       "      <td>0</td>\n",
       "      <td>0</td>\n",
       "      <td>5</td>\n",
       "      <td>7</td>\n",
       "      <td>1170</td>\n",
       "      <td>1</td>\n",
       "      <td>1951</td>\n",
       "      <td>0</td>\n",
       "      <td>1540</td>\n",
       "      <td>4200</td>\n",
       "      <td>680000</td>\n",
       "    </tr>\n",
       "    <tr>\n",
       "      <th>...</th>\n",
       "      <td>...</td>\n",
       "      <td>...</td>\n",
       "      <td>...</td>\n",
       "      <td>...</td>\n",
       "      <td>...</td>\n",
       "      <td>...</td>\n",
       "      <td>...</td>\n",
       "      <td>...</td>\n",
       "      <td>...</td>\n",
       "      <td>...</td>\n",
       "      <td>...</td>\n",
       "      <td>...</td>\n",
       "      <td>...</td>\n",
       "      <td>...</td>\n",
       "    </tr>\n",
       "    <tr>\n",
       "      <th>11642</th>\n",
       "      <td>3</td>\n",
       "      <td>1.00</td>\n",
       "      <td>1.0</td>\n",
       "      <td>0</td>\n",
       "      <td>0</td>\n",
       "      <td>4</td>\n",
       "      <td>7</td>\n",
       "      <td>1310</td>\n",
       "      <td>0</td>\n",
       "      <td>1964</td>\n",
       "      <td>0</td>\n",
       "      <td>1120</td>\n",
       "      <td>4166</td>\n",
       "      <td>415885</td>\n",
       "    </tr>\n",
       "    <tr>\n",
       "      <th>3257</th>\n",
       "      <td>2</td>\n",
       "      <td>1.00</td>\n",
       "      <td>1.0</td>\n",
       "      <td>0</td>\n",
       "      <td>0</td>\n",
       "      <td>5</td>\n",
       "      <td>7</td>\n",
       "      <td>840</td>\n",
       "      <td>1</td>\n",
       "      <td>1939</td>\n",
       "      <td>0</td>\n",
       "      <td>1930</td>\n",
       "      <td>5150</td>\n",
       "      <td>380000</td>\n",
       "    </tr>\n",
       "    <tr>\n",
       "      <th>7614</th>\n",
       "      <td>3</td>\n",
       "      <td>1.00</td>\n",
       "      <td>1.0</td>\n",
       "      <td>0</td>\n",
       "      <td>0</td>\n",
       "      <td>4</td>\n",
       "      <td>7</td>\n",
       "      <td>720</td>\n",
       "      <td>1</td>\n",
       "      <td>1942</td>\n",
       "      <td>0</td>\n",
       "      <td>1510</td>\n",
       "      <td>4538</td>\n",
       "      <td>339000</td>\n",
       "    </tr>\n",
       "    <tr>\n",
       "      <th>20963</th>\n",
       "      <td>2</td>\n",
       "      <td>1.75</td>\n",
       "      <td>1.5</td>\n",
       "      <td>0</td>\n",
       "      <td>0</td>\n",
       "      <td>3</td>\n",
       "      <td>9</td>\n",
       "      <td>900</td>\n",
       "      <td>1</td>\n",
       "      <td>2011</td>\n",
       "      <td>0</td>\n",
       "      <td>1440</td>\n",
       "      <td>1188</td>\n",
       "      <td>399900</td>\n",
       "    </tr>\n",
       "    <tr>\n",
       "      <th>15937</th>\n",
       "      <td>3</td>\n",
       "      <td>1.00</td>\n",
       "      <td>1.0</td>\n",
       "      <td>0</td>\n",
       "      <td>0</td>\n",
       "      <td>3</td>\n",
       "      <td>6</td>\n",
       "      <td>880</td>\n",
       "      <td>1</td>\n",
       "      <td>1943</td>\n",
       "      <td>0</td>\n",
       "      <td>1000</td>\n",
       "      <td>8100</td>\n",
       "      <td>268950</td>\n",
       "    </tr>\n",
       "  </tbody>\n",
       "</table>\n",
       "<p>18702 rows × 14 columns</p>\n",
       "</div>"
      ],
      "text/plain": [
       "       bedrooms  bathrooms  floors  waterfront  view  condition  grade  \\\n",
       "6729          4       1.75     1.0           0     0          4      8   \n",
       "8404          3       1.00     1.0           0     0          3      7   \n",
       "8800          3       1.00     1.5           0     0          4      6   \n",
       "3553          4       2.00     1.0           0     0          3      7   \n",
       "18506         4       2.75     1.0           0     0          5      7   \n",
       "...         ...        ...     ...         ...   ...        ...    ...   \n",
       "11642         3       1.00     1.0           0     0          4      7   \n",
       "3257          2       1.00     1.0           0     0          5      7   \n",
       "7614          3       1.00     1.0           0     0          4      7   \n",
       "20963         2       1.75     1.5           0     0          3      9   \n",
       "15937         3       1.00     1.0           0     0          3      6   \n",
       "\n",
       "       sqft_above  sqft_basement  yr_built  yr_renovated  sqft_living15  \\\n",
       "6729         1160              1      1947             0           2590   \n",
       "8404         1460              0      1952             0           2250   \n",
       "8800         1010              1      1930             0           1290   \n",
       "3553          760              1      1951             1           1480   \n",
       "18506        1170              1      1951             0           1540   \n",
       "...           ...            ...       ...           ...            ...   \n",
       "11642        1310              0      1964             0           1120   \n",
       "3257          840              1      1939             0           1930   \n",
       "7614          720              1      1942             0           1510   \n",
       "20963         900              1      2011             0           1440   \n",
       "15937         880              1      1943             0           1000   \n",
       "\n",
       "       sqft_lot15   price  \n",
       "6729        21891  647500  \n",
       "8404        20023  400000  \n",
       "8800        10320  235000  \n",
       "3553         3504  402500  \n",
       "18506        4200  680000  \n",
       "...           ...     ...  \n",
       "11642        4166  415885  \n",
       "3257         5150  380000  \n",
       "7614         4538  339000  \n",
       "20963        1188  399900  \n",
       "15937        8100  268950  \n",
       "\n",
       "[18702 rows x 14 columns]"
      ]
     },
     "execution_count": 83,
     "metadata": {},
     "output_type": "execute_result"
    }
   ],
   "source": [
    "# defining the first and the third quartile\n",
    "q3 = dfclean1['bathrooms'].quantile(.75)\n",
    "q1 = dfclean1['bathrooms'].quantile(.25)\n",
    "\n",
    "# calculating the interquartile range\n",
    "iqr = q3 - q1\n",
    "\n",
    "# calculating the median\n",
    "median = dfclean1['bathrooms'].median()\n",
    "\n",
    "# defining the upper limit of the data according to the 1.5*IQR rule\n",
    "outlier_limit_upper = median + 1.5*iqr\n",
    "\n",
    "# defining the lower limit of the data according to the 1.5*IQR rule\n",
    "outlier_limit_lower = median - 1.5*iqr\n",
    "\n",
    "\n",
    "# return only those rows, where the value of `IC2` is not an \"upper\" outlier\n",
    "dfclean1 = dfclean1[dfclean1['bathrooms'] < outlier_limit_upper]\n",
    "\n",
    "dfclean1"
   ]
  },
  {
   "cell_type": "markdown",
   "metadata": {},
   "source": [
    "This removed a further approx 800 rows"
   ]
  },
  {
   "cell_type": "markdown",
   "metadata": {},
   "source": [
    "#### boxplot bathrooms after"
   ]
  },
  {
   "cell_type": "code",
   "execution_count": 84,
   "metadata": {},
   "outputs": [
    {
     "data": {
      "text/plain": [
       "<AxesSubplot:xlabel='bathrooms'>"
      ]
     },
     "execution_count": 84,
     "metadata": {},
     "output_type": "execute_result"
    },
    {
     "data": {
      "image/png": "[encoded data removed]",
      "text/plain": [
       "<Figure size 432x288 with 1 Axes>"
      ]
     },
     "metadata": {
      "needs_background": "light"
     },
     "output_type": "display_data"
    }
   ],
   "source": [
    "sns.boxplot(x=dfclean1['bathrooms'])"
   ]
  },
  {
   "cell_type": "markdown",
   "metadata": {},
   "source": [
    "#### Floors"
   ]
  },
  {
   "cell_type": "markdown",
   "metadata": {},
   "source": [
    "To remove outliers here I will remove any that are outside the 1.5* IQR"
   ]
  },
  {
   "cell_type": "markdown",
   "metadata": {},
   "source": [
    "##### Boxplot before floors"
   ]
  },
  {
   "cell_type": "code",
   "execution_count": 85,
   "metadata": {},
   "outputs": [
    {
     "data": {
      "text/plain": [
       "<AxesSubplot:xlabel='floors'>"
      ]
     },
     "execution_count": 85,
     "metadata": {},
     "output_type": "execute_result"
    },
    {
     "data": {
      "image/png": "[encoded data removed]",
      "text/plain": [
       "<Figure size 432x288 with 1 Axes>"
      ]
     },
     "metadata": {
      "needs_background": "light"
     },
     "output_type": "display_data"
    }
   ],
   "source": [
    "sns.boxplot(x=df['floors'])"
   ]
  },
  {
   "cell_type": "code",
   "execution_count": 86,
   "metadata": {},
   "outputs": [
    {
     "data": {
      "text/html": [
       "<div>\n",
       "<style scoped>\n",
       "    .dataframe tbody tr th:only-of-type {\n",
       "        vertical-align: middle;\n",
       "    }\n",
       "\n",
       "    .dataframe tbody tr th {\n",
       "        vertical-align: top;\n",
       "    }\n",
       "\n",
       "    .dataframe thead th {\n",
       "        text-align: right;\n",
       "    }\n",
       "</style>\n",
       "<table border=\"1\" class=\"dataframe\">\n",
       "  <thead>\n",
       "    <tr style=\"text-align: right;\">\n",
       "      <th></th>\n",
       "      <th>bedrooms</th>\n",
       "      <th>bathrooms</th>\n",
       "      <th>floors</th>\n",
       "      <th>waterfront</th>\n",
       "      <th>view</th>\n",
       "      <th>condition</th>\n",
       "      <th>grade</th>\n",
       "      <th>sqft_above</th>\n",
       "      <th>sqft_basement</th>\n",
       "      <th>yr_built</th>\n",
       "      <th>yr_renovated</th>\n",
       "      <th>sqft_living15</th>\n",
       "      <th>sqft_lot15</th>\n",
       "      <th>price</th>\n",
       "    </tr>\n",
       "  </thead>\n",
       "  <tbody>\n",
       "    <tr>\n",
       "      <th>6729</th>\n",
       "      <td>4</td>\n",
       "      <td>1.75</td>\n",
       "      <td>1.0</td>\n",
       "      <td>0</td>\n",
       "      <td>0</td>\n",
       "      <td>4</td>\n",
       "      <td>8</td>\n",
       "      <td>1160</td>\n",
       "      <td>1</td>\n",
       "      <td>1947</td>\n",
       "      <td>0</td>\n",
       "      <td>2590</td>\n",
       "      <td>21891</td>\n",
       "      <td>647500</td>\n",
       "    </tr>\n",
       "    <tr>\n",
       "      <th>8404</th>\n",
       "      <td>3</td>\n",
       "      <td>1.00</td>\n",
       "      <td>1.0</td>\n",
       "      <td>0</td>\n",
       "      <td>0</td>\n",
       "      <td>3</td>\n",
       "      <td>7</td>\n",
       "      <td>1460</td>\n",
       "      <td>0</td>\n",
       "      <td>1952</td>\n",
       "      <td>0</td>\n",
       "      <td>2250</td>\n",
       "      <td>20023</td>\n",
       "      <td>400000</td>\n",
       "    </tr>\n",
       "    <tr>\n",
       "      <th>8800</th>\n",
       "      <td>3</td>\n",
       "      <td>1.00</td>\n",
       "      <td>1.5</td>\n",
       "      <td>0</td>\n",
       "      <td>0</td>\n",
       "      <td>4</td>\n",
       "      <td>6</td>\n",
       "      <td>1010</td>\n",
       "      <td>1</td>\n",
       "      <td>1930</td>\n",
       "      <td>0</td>\n",
       "      <td>1290</td>\n",
       "      <td>10320</td>\n",
       "      <td>235000</td>\n",
       "    </tr>\n",
       "    <tr>\n",
       "      <th>3553</th>\n",
       "      <td>4</td>\n",
       "      <td>2.00</td>\n",
       "      <td>1.0</td>\n",
       "      <td>0</td>\n",
       "      <td>0</td>\n",
       "      <td>3</td>\n",
       "      <td>7</td>\n",
       "      <td>760</td>\n",
       "      <td>1</td>\n",
       "      <td>1951</td>\n",
       "      <td>1</td>\n",
       "      <td>1480</td>\n",
       "      <td>3504</td>\n",
       "      <td>402500</td>\n",
       "    </tr>\n",
       "    <tr>\n",
       "      <th>18506</th>\n",
       "      <td>4</td>\n",
       "      <td>2.75</td>\n",
       "      <td>1.0</td>\n",
       "      <td>0</td>\n",
       "      <td>0</td>\n",
       "      <td>5</td>\n",
       "      <td>7</td>\n",
       "      <td>1170</td>\n",
       "      <td>1</td>\n",
       "      <td>1951</td>\n",
       "      <td>0</td>\n",
       "      <td>1540</td>\n",
       "      <td>4200</td>\n",
       "      <td>680000</td>\n",
       "    </tr>\n",
       "    <tr>\n",
       "      <th>...</th>\n",
       "      <td>...</td>\n",
       "      <td>...</td>\n",
       "      <td>...</td>\n",
       "      <td>...</td>\n",
       "      <td>...</td>\n",
       "      <td>...</td>\n",
       "      <td>...</td>\n",
       "      <td>...</td>\n",
       "      <td>...</td>\n",
       "      <td>...</td>\n",
       "      <td>...</td>\n",
       "      <td>...</td>\n",
       "      <td>...</td>\n",
       "      <td>...</td>\n",
       "    </tr>\n",
       "    <tr>\n",
       "      <th>11642</th>\n",
       "      <td>3</td>\n",
       "      <td>1.00</td>\n",
       "      <td>1.0</td>\n",
       "      <td>0</td>\n",
       "      <td>0</td>\n",
       "      <td>4</td>\n",
       "      <td>7</td>\n",
       "      <td>1310</td>\n",
       "      <td>0</td>\n",
       "      <td>1964</td>\n",
       "      <td>0</td>\n",
       "      <td>1120</td>\n",
       "      <td>4166</td>\n",
       "      <td>415885</td>\n",
       "    </tr>\n",
       "    <tr>\n",
       "      <th>3257</th>\n",
       "      <td>2</td>\n",
       "      <td>1.00</td>\n",
       "      <td>1.0</td>\n",
       "      <td>0</td>\n",
       "      <td>0</td>\n",
       "      <td>5</td>\n",
       "      <td>7</td>\n",
       "      <td>840</td>\n",
       "      <td>1</td>\n",
       "      <td>1939</td>\n",
       "      <td>0</td>\n",
       "      <td>1930</td>\n",
       "      <td>5150</td>\n",
       "      <td>380000</td>\n",
       "    </tr>\n",
       "    <tr>\n",
       "      <th>7614</th>\n",
       "      <td>3</td>\n",
       "      <td>1.00</td>\n",
       "      <td>1.0</td>\n",
       "      <td>0</td>\n",
       "      <td>0</td>\n",
       "      <td>4</td>\n",
       "      <td>7</td>\n",
       "      <td>720</td>\n",
       "      <td>1</td>\n",
       "      <td>1942</td>\n",
       "      <td>0</td>\n",
       "      <td>1510</td>\n",
       "      <td>4538</td>\n",
       "      <td>339000</td>\n",
       "    </tr>\n",
       "    <tr>\n",
       "      <th>20963</th>\n",
       "      <td>2</td>\n",
       "      <td>1.75</td>\n",
       "      <td>1.5</td>\n",
       "      <td>0</td>\n",
       "      <td>0</td>\n",
       "      <td>3</td>\n",
       "      <td>9</td>\n",
       "      <td>900</td>\n",
       "      <td>1</td>\n",
       "      <td>2011</td>\n",
       "      <td>0</td>\n",
       "      <td>1440</td>\n",
       "      <td>1188</td>\n",
       "      <td>399900</td>\n",
       "    </tr>\n",
       "    <tr>\n",
       "      <th>15937</th>\n",
       "      <td>3</td>\n",
       "      <td>1.00</td>\n",
       "      <td>1.0</td>\n",
       "      <td>0</td>\n",
       "      <td>0</td>\n",
       "      <td>3</td>\n",
       "      <td>6</td>\n",
       "      <td>880</td>\n",
       "      <td>1</td>\n",
       "      <td>1943</td>\n",
       "      <td>0</td>\n",
       "      <td>1000</td>\n",
       "      <td>8100</td>\n",
       "      <td>268950</td>\n",
       "    </tr>\n",
       "  </tbody>\n",
       "</table>\n",
       "<p>18045 rows × 14 columns</p>\n",
       "</div>"
      ],
      "text/plain": [
       "       bedrooms  bathrooms  floors  waterfront  view  condition  grade  \\\n",
       "6729          4       1.75     1.0           0     0          4      8   \n",
       "8404          3       1.00     1.0           0     0          3      7   \n",
       "8800          3       1.00     1.5           0     0          4      6   \n",
       "3553          4       2.00     1.0           0     0          3      7   \n",
       "18506         4       2.75     1.0           0     0          5      7   \n",
       "...         ...        ...     ...         ...   ...        ...    ...   \n",
       "11642         3       1.00     1.0           0     0          4      7   \n",
       "3257          2       1.00     1.0           0     0          5      7   \n",
       "7614          3       1.00     1.0           0     0          4      7   \n",
       "20963         2       1.75     1.5           0     0          3      9   \n",
       "15937         3       1.00     1.0           0     0          3      6   \n",
       "\n",
       "       sqft_above  sqft_basement  yr_built  yr_renovated  sqft_living15  \\\n",
       "6729         1160              1      1947             0           2590   \n",
       "8404         1460              0      1952             0           2250   \n",
       "8800         1010              1      1930             0           1290   \n",
       "3553          760              1      1951             1           1480   \n",
       "18506        1170              1      1951             0           1540   \n",
       "...           ...            ...       ...           ...            ...   \n",
       "11642        1310              0      1964             0           1120   \n",
       "3257          840              1      1939             0           1930   \n",
       "7614          720              1      1942             0           1510   \n",
       "20963         900              1      2011             0           1440   \n",
       "15937         880              1      1943             0           1000   \n",
       "\n",
       "       sqft_lot15   price  \n",
       "6729        21891  647500  \n",
       "8404        20023  400000  \n",
       "8800        10320  235000  \n",
       "3553         3504  402500  \n",
       "18506        4200  680000  \n",
       "...           ...     ...  \n",
       "11642        4166  415885  \n",
       "3257         5150  380000  \n",
       "7614         4538  339000  \n",
       "20963        1188  399900  \n",
       "15937        8100  268950  \n",
       "\n",
       "[18045 rows x 14 columns]"
      ]
     },
     "execution_count": 86,
     "metadata": {},
     "output_type": "execute_result"
    }
   ],
   "source": [
    "# defining the first and the third quartile\n",
    "q3 = dfclean1['floors'].quantile(.75)\n",
    "q1 = dfclean1['floors'].quantile(.25)\n",
    "\n",
    "# calculating the interquartile range\n",
    "iqr = q3 - q1\n",
    "\n",
    "# calculating the median\n",
    "median = dfclean1['floors'].median()\n",
    "\n",
    "# defining the upper limit of the data according to the 1.5*IQR rule\n",
    "outlier_limit_upper = median + 1.5*iqr\n",
    "\n",
    "# defining the lower limit of the data according to the 1.5*IQR rule\n",
    "outlier_limit_lower = median - 1.5*iqr\n",
    "\n",
    "\n",
    "# return only those rows, where the value of `IC2` is not an \"upper\" outlier\n",
    "dfclean1 = dfclean1[dfclean1['floors'] < outlier_limit_upper]\n",
    "\n",
    "dfclean1"
   ]
  },
  {
   "cell_type": "markdown",
   "metadata": {},
   "source": [
    "Here another 650 rows were removed. "
   ]
  },
  {
   "cell_type": "markdown",
   "metadata": {},
   "source": [
    "#### boxplot floors after"
   ]
  },
  {
   "cell_type": "code",
   "execution_count": 87,
   "metadata": {},
   "outputs": [
    {
     "data": {
      "text/plain": [
       "<AxesSubplot:xlabel='floors'>"
      ]
     },
     "execution_count": 87,
     "metadata": {},
     "output_type": "execute_result"
    },
    {
     "data": {
      "image/png": "[encoded data removed]",
      "text/plain": [
       "<Figure size 432x288 with 1 Axes>"
      ]
     },
     "metadata": {
      "needs_background": "light"
     },
     "output_type": "display_data"
    }
   ],
   "source": [
    "sns.boxplot(x=dfclean1['floors'])"
   ]
  },
  {
   "cell_type": "markdown",
   "metadata": {},
   "source": [
    "### In total approx 3,552 rows out of 21,597 original rows were removed after cleaning (16.5%) "
   ]
  },
  {
   "cell_type": "code",
   "execution_count": null,
   "metadata": {},
   "outputs": [],
   "source": []
  },
  {
   "cell_type": "markdown",
   "metadata": {},
   "source": [
    "# ***ITERATION 2, TEST 1***: \n",
    "no more cleaning or removal, max columns. "
   ]
  },
  {
   "cell_type": "code",
   "execution_count": 88,
   "metadata": {},
   "outputs": [],
   "source": [
    "X=dfclean1.drop('price', axis=1)\n",
    "y=dfclean1.price"
   ]
  },
  {
   "cell_type": "code",
   "execution_count": 89,
   "metadata": {},
   "outputs": [],
   "source": [
    "from sklearn.model_selection import train_test_split as tts\n",
    "\n",
    "X_train, X_test, y_train, y_test=tts(X, y, test_size=.25, random_state = 42)"
   ]
  },
  {
   "cell_type": "code",
   "execution_count": 90,
   "metadata": {},
   "outputs": [
    {
     "name": "stdout",
     "output_type": "stream",
     "text": [
      "                            OLS Regression Results                            \n",
      "==============================================================================\n",
      "Dep. Variable:                  price   R-squared:                       0.603\n",
      "Model:                            OLS   Adj. R-squared:                  0.603\n",
      "Method:                 Least Squares   F-statistic:                     1579.\n",
      "Date:                Thu, 19 Nov 2020   Prob (F-statistic):               0.00\n",
      "Time:                        14:14:52   Log-Likelihood:            -1.8233e+05\n",
      "No. Observations:               13533   AIC:                         3.647e+05\n",
      "Df Residuals:                   13519   BIC:                         3.648e+05\n",
      "Df Model:                          13                                         \n",
      "Covariance Type:            nonrobust                                         \n",
      "=================================================================================\n",
      "                    coef    std err          t      P>|t|      [0.025      0.975]\n",
      "---------------------------------------------------------------------------------\n",
      "const          5.528e+06   1.44e+05     38.369      0.000    5.25e+06    5.81e+06\n",
      "bedrooms       -2.91e+04   2597.195    -11.203      0.000   -3.42e+04    -2.4e+04\n",
      "bathrooms      2.984e+04   3950.445      7.553      0.000    2.21e+04    3.76e+04\n",
      "floors         1.392e+04   4462.819      3.119      0.002    5169.849    2.27e+04\n",
      "waterfront     4.767e+05   1.95e+04     24.451      0.000    4.38e+05    5.15e+05\n",
      "view           9.436e+04   5945.531     15.871      0.000    8.27e+04    1.06e+05\n",
      "condition      2.467e+04   2465.340     10.005      0.000    1.98e+04    2.95e+04\n",
      "grade          1.105e+05   2363.114     46.771      0.000    1.06e+05    1.15e+05\n",
      "sqft_above      101.2769      4.680     21.641      0.000      92.104     110.450\n",
      "sqft_basement  8.486e+04   3990.373     21.266      0.000     7.7e+04    9.27e+04\n",
      "yr_built      -3195.2810     74.063    -43.143      0.000   -3340.455   -3050.107\n",
      "yr_renovated   5.395e+04   7923.617      6.809      0.000    3.84e+04    6.95e+04\n",
      "sqft_living15    73.7925      4.010     18.401      0.000      65.932      81.653\n",
      "sqft_lot15       -0.2341      0.059     -3.984      0.000      -0.349      -0.119\n",
      "==============================================================================\n",
      "Omnibus:                     7290.665   Durbin-Watson:                   2.028\n",
      "Prob(Omnibus):                  0.000   Jarque-Bera (JB):           194934.242\n",
      "Skew:                           2.057   Prob(JB):                         0.00\n",
      "Kurtosis:                      21.132   Cond. No.                     2.82e+06\n",
      "==============================================================================\n",
      "\n",
      "Notes:\n",
      "[1] Standard Errors assume that the covariance matrix of the errors is correctly specified.\n",
      "[2] The condition number is large, 2.82e+06. This might indicate that there are\n",
      "strong multicollinearity or other numerical problems.\n"
     ]
    }
   ],
   "source": [
    "import warnings\n",
    "warnings.simplefilter('ignore')\n",
    "\n",
    "import statsmodels.api as sm\n",
    "from statsmodels.formula.api import ols\n",
    "\n",
    "X_train_wi=sm.add_constant(X_train)\n",
    "model=sm.OLS(y_train,X_train_wi).fit()\n",
    "\n",
    "print(model.summary())"
   ]
  },
  {
   "cell_type": "markdown",
   "metadata": {},
   "source": [
    "# LINEAR REGRESSION"
   ]
  },
  {
   "cell_type": "code",
   "execution_count": 91,
   "metadata": {},
   "outputs": [],
   "source": [
    "from sklearn.linear_model import LinearRegression as LinReg\n",
    "\n",
    "linreg=LinReg()    # model\n",
    "linreg.fit(X_train, y_train)   # model train\n",
    "y_pred_linreg=linreg.predict(X_test)"
   ]
  },
  {
   "cell_type": "markdown",
   "metadata": {},
   "source": [
    "# R2"
   ]
  },
  {
   "cell_type": "code",
   "execution_count": 92,
   "metadata": {},
   "outputs": [
    {
     "name": "stdout",
     "output_type": "stream",
     "text": [
      "train R2: 0.6029603780525361 -- test R2: 0.6047180119746829\n"
     ]
    }
   ],
   "source": [
    "print ('train R2: {} -- test R2: {}'.format(linreg.score(X_train, y_train),\n",
    "                                            linreg.score(X_test, y_test)))"
   ]
  },
  {
   "cell_type": "markdown",
   "metadata": {},
   "source": [
    "# MSE"
   ]
  },
  {
   "cell_type": "code",
   "execution_count": 93,
   "metadata": {},
   "outputs": [
    {
     "name": "stdout",
     "output_type": "stream",
     "text": [
      "train MSE: 29500606756.520878 -- test MSE: 29613359241.71381\n"
     ]
    }
   ],
   "source": [
    "from sklearn.metrics import mean_squared_error as mse\n",
    "\n",
    "\n",
    "train_mse=mse(linreg.predict(X_train), y_train)\n",
    "test_mse=mse(linreg.predict(X_test), y_test)\n",
    "\n",
    "print ('train MSE: {} -- test MSE: {}'.format(train_mse, test_mse))"
   ]
  },
  {
   "cell_type": "markdown",
   "metadata": {},
   "source": [
    "# OTHER MODELS"
   ]
  },
  {
   "cell_type": "code",
   "execution_count": 94,
   "metadata": {},
   "outputs": [],
   "source": [
    "# sklearn\n",
    "from sklearn.linear_model import LinearRegression, Lasso, Ridge, ElasticNet, SGDRegressor\n",
    "from sklearn.tree import DecisionTreeRegressor\n",
    "from sklearn.neighbors import KNeighborsRegressor\n",
    "from sklearn.svm import SVR\n",
    "from sklearn.neural_network import MLPRegressor\n",
    "from sklearn.ensemble import RandomForestRegressor, GradientBoostingRegressor\n",
    "from sklearn.model_selection import train_test_split\n"
   ]
  },
  {
   "cell_type": "code",
   "execution_count": 95,
   "metadata": {
    "scrolled": true
   },
   "outputs": [
    {
     "name": "stdout",
     "output_type": "stream",
     "text": [
      "LinearRegression: Train -> 0.6029603780525361, Test -> 0.6047180119746829\n",
      "Lasso: Train -> 0.6029603753984156, Test -> 0.6047180068181127\n",
      "Ridge: Train -> 0.6029576286097669, Test -> 0.6046790645367945\n",
      "ElasticNet: Train -> 0.5332793610629147, Test -> 0.5343998721754029\n"
     ]
    }
   ],
   "source": [
    "def models_automation(models, X_train, y_train):\n",
    "    for model in models:\n",
    "        model.fit(X_train, y_train)\n",
    "        print(f\"{model.__class__.__name__}: Train -> {model.score(X_train, y_train)}, Test -> {model.score(X_test, y_test)}\")\n",
    "\n",
    "linear_models = [LinearRegression(), Lasso(), Ridge(), ElasticNet()]\n",
    "models_automation(linear_models, X_train, y_train)"
   ]
  },
  {
   "cell_type": "code",
   "execution_count": 96,
   "metadata": {},
   "outputs": [
    {
     "name": "stdout",
     "output_type": "stream",
     "text": [
      "SVR: Train -> -0.049883748406035044, Test -> -0.06676317501812568\n"
     ]
    }
   ],
   "source": [
    "from sklearn.svm import SVR\n",
    "svr = [SVR()]\n",
    "models_automation(svr, X_train, y_train)"
   ]
  },
  {
   "cell_type": "code",
   "execution_count": 97,
   "metadata": {
    "scrolled": true
   },
   "outputs": [
    {
     "name": "stdout",
     "output_type": "stream",
     "text": [
      "KNeighborsRegressor: Train -> 0.586949285339154, Test -> 0.3778109933092244\n"
     ]
    }
   ],
   "source": [
    "from sklearn.neighbors import KNeighborsRegressor\n",
    "knn = [KNeighborsRegressor()]\n",
    "models_automation(knn, X_train, y_train)"
   ]
  },
  {
   "cell_type": "code",
   "execution_count": 98,
   "metadata": {
    "scrolled": false
   },
   "outputs": [
    {
     "name": "stdout",
     "output_type": "stream",
     "text": [
      "DecisionTreeRegressor: Train -> 0.9999653804445698, Test -> 0.35953341985827936\n"
     ]
    }
   ],
   "source": [
    "from sklearn.tree import DecisionTreeRegressor\n",
    "dtr = [DecisionTreeRegressor()]\n",
    "models_automation(dtr, X_train, y_train)"
   ]
  },
  {
   "cell_type": "code",
   "execution_count": 99,
   "metadata": {
    "scrolled": true
   },
   "outputs": [
    {
     "name": "stdout",
     "output_type": "stream",
     "text": [
      "GradientBoostingRegressor: Train -> 0.7317223208743335, Test -> 0.6770026948491732\n",
      "RandomForestRegressor: Train -> 0.9556012396654319, Test -> 0.6851563826249478\n"
     ]
    }
   ],
   "source": [
    "from sklearn.ensemble import GradientBoostingRegressor\n",
    "from sklearn.ensemble import RandomForestRegressor\n",
    "rfr = [GradientBoostingRegressor(), RandomForestRegressor()]\n",
    "models_automation(rfr, X_train, y_train)"
   ]
  },
  {
   "cell_type": "markdown",
   "metadata": {},
   "source": [
    "# RESULTS ITERATION 2, TEST 1: \n",
    "60% prediction rate from linear regression. Pretty good, but not as good as the less cleaned data. \n",
    "All other types of analysis were also worse than in Iteration 1, Test 1, except for the MSE, which was signifcantly less. "
   ]
  },
  {
   "cell_type": "markdown",
   "metadata": {},
   "source": [
    "# ***ITERATION 2, TEST 2***:  \n",
    "Only those with a correlation of 0.45 or higher with price are kept. "
   ]
  },
  {
   "cell_type": "code",
   "execution_count": 100,
   "metadata": {},
   "outputs": [],
   "source": [
    "df2_2 = dfclean1.drop(['bedrooms','floors', 'waterfront', 'view', 'condition', 'sqft_basement', 'yr_built', 'yr_renovated', \n",
    "                 'sqft_lot15'], axis=1, inplace=False)"
   ]
  },
  {
   "cell_type": "code",
   "execution_count": 101,
   "metadata": {},
   "outputs": [
    {
     "data": {
      "text/html": [
       "<div>\n",
       "<style scoped>\n",
       "    .dataframe tbody tr th:only-of-type {\n",
       "        vertical-align: middle;\n",
       "    }\n",
       "\n",
       "    .dataframe tbody tr th {\n",
       "        vertical-align: top;\n",
       "    }\n",
       "\n",
       "    .dataframe thead th {\n",
       "        text-align: right;\n",
       "    }\n",
       "</style>\n",
       "<table border=\"1\" class=\"dataframe\">\n",
       "  <thead>\n",
       "    <tr style=\"text-align: right;\">\n",
       "      <th></th>\n",
       "      <th>bathrooms</th>\n",
       "      <th>grade</th>\n",
       "      <th>sqft_above</th>\n",
       "      <th>sqft_living15</th>\n",
       "      <th>price</th>\n",
       "    </tr>\n",
       "  </thead>\n",
       "  <tbody>\n",
       "    <tr>\n",
       "      <th>6729</th>\n",
       "      <td>1.75</td>\n",
       "      <td>8</td>\n",
       "      <td>1160</td>\n",
       "      <td>2590</td>\n",
       "      <td>647500</td>\n",
       "    </tr>\n",
       "    <tr>\n",
       "      <th>8404</th>\n",
       "      <td>1.00</td>\n",
       "      <td>7</td>\n",
       "      <td>1460</td>\n",
       "      <td>2250</td>\n",
       "      <td>400000</td>\n",
       "    </tr>\n",
       "    <tr>\n",
       "      <th>8800</th>\n",
       "      <td>1.00</td>\n",
       "      <td>6</td>\n",
       "      <td>1010</td>\n",
       "      <td>1290</td>\n",
       "      <td>235000</td>\n",
       "    </tr>\n",
       "    <tr>\n",
       "      <th>3553</th>\n",
       "      <td>2.00</td>\n",
       "      <td>7</td>\n",
       "      <td>760</td>\n",
       "      <td>1480</td>\n",
       "      <td>402500</td>\n",
       "    </tr>\n",
       "    <tr>\n",
       "      <th>18506</th>\n",
       "      <td>2.75</td>\n",
       "      <td>7</td>\n",
       "      <td>1170</td>\n",
       "      <td>1540</td>\n",
       "      <td>680000</td>\n",
       "    </tr>\n",
       "    <tr>\n",
       "      <th>...</th>\n",
       "      <td>...</td>\n",
       "      <td>...</td>\n",
       "      <td>...</td>\n",
       "      <td>...</td>\n",
       "      <td>...</td>\n",
       "    </tr>\n",
       "    <tr>\n",
       "      <th>11642</th>\n",
       "      <td>1.00</td>\n",
       "      <td>7</td>\n",
       "      <td>1310</td>\n",
       "      <td>1120</td>\n",
       "      <td>415885</td>\n",
       "    </tr>\n",
       "    <tr>\n",
       "      <th>3257</th>\n",
       "      <td>1.00</td>\n",
       "      <td>7</td>\n",
       "      <td>840</td>\n",
       "      <td>1930</td>\n",
       "      <td>380000</td>\n",
       "    </tr>\n",
       "    <tr>\n",
       "      <th>7614</th>\n",
       "      <td>1.00</td>\n",
       "      <td>7</td>\n",
       "      <td>720</td>\n",
       "      <td>1510</td>\n",
       "      <td>339000</td>\n",
       "    </tr>\n",
       "    <tr>\n",
       "      <th>20963</th>\n",
       "      <td>1.75</td>\n",
       "      <td>9</td>\n",
       "      <td>900</td>\n",
       "      <td>1440</td>\n",
       "      <td>399900</td>\n",
       "    </tr>\n",
       "    <tr>\n",
       "      <th>15937</th>\n",
       "      <td>1.00</td>\n",
       "      <td>6</td>\n",
       "      <td>880</td>\n",
       "      <td>1000</td>\n",
       "      <td>268950</td>\n",
       "    </tr>\n",
       "  </tbody>\n",
       "</table>\n",
       "<p>18045 rows × 5 columns</p>\n",
       "</div>"
      ],
      "text/plain": [
       "       bathrooms  grade  sqft_above  sqft_living15   price\n",
       "6729        1.75      8        1160           2590  647500\n",
       "8404        1.00      7        1460           2250  400000\n",
       "8800        1.00      6        1010           1290  235000\n",
       "3553        2.00      7         760           1480  402500\n",
       "18506       2.75      7        1170           1540  680000\n",
       "...          ...    ...         ...            ...     ...\n",
       "11642       1.00      7        1310           1120  415885\n",
       "3257        1.00      7         840           1930  380000\n",
       "7614        1.00      7         720           1510  339000\n",
       "20963       1.75      9         900           1440  399900\n",
       "15937       1.00      6         880           1000  268950\n",
       "\n",
       "[18045 rows x 5 columns]"
      ]
     },
     "execution_count": 101,
     "metadata": {},
     "output_type": "execute_result"
    }
   ],
   "source": [
    "df2_2"
   ]
  },
  {
   "cell_type": "code",
   "execution_count": 102,
   "metadata": {},
   "outputs": [
    {
     "data": {
      "image/png": "[encoded data removed]",
      "text/plain": [
       "<Figure size 720x576 with 2 Axes>"
      ]
     },
     "metadata": {
      "needs_background": "light"
     },
     "output_type": "display_data"
    }
   ],
   "source": [
    "mask=np.zeros_like(df2_2.corr())\n",
    "mask[np.triu_indices_from(mask)]=True\n",
    "fig, ax=plt.subplots(figsize=(10, 8))\n",
    "ax=sns.heatmap(df2_2.corr(), mask=mask, annot=True, fmt='.2g')\n",
    "plt.show()"
   ]
  },
  {
   "cell_type": "markdown",
   "metadata": {},
   "source": [
    "# NB: correlations are slightly less than in Iteration 1, Test 2"
   ]
  },
  {
   "cell_type": "code",
   "execution_count": 103,
   "metadata": {},
   "outputs": [],
   "source": [
    "X=df2_2.drop('price', axis=1)\n",
    "y=df2_2.price"
   ]
  },
  {
   "cell_type": "code",
   "execution_count": 104,
   "metadata": {},
   "outputs": [],
   "source": [
    "from sklearn.model_selection import train_test_split as tts\n",
    "\n",
    "X_train, X_test, y_train, y_test=tts(X, y, test_size=.25, random_state = 42)"
   ]
  },
  {
   "cell_type": "code",
   "execution_count": 105,
   "metadata": {},
   "outputs": [
    {
     "name": "stdout",
     "output_type": "stream",
     "text": [
      "                            OLS Regression Results                            \n",
      "==============================================================================\n",
      "Dep. Variable:                  price   R-squared:                       0.421\n",
      "Model:                            OLS   Adj. R-squared:                  0.421\n",
      "Method:                 Least Squares   F-statistic:                     2461.\n",
      "Date:                Thu, 19 Nov 2020   Prob (F-statistic):               0.00\n",
      "Time:                        14:15:22   Log-Likelihood:            -1.8488e+05\n",
      "No. Observations:               13533   AIC:                         3.698e+05\n",
      "Df Residuals:                   13528   BIC:                         3.698e+05\n",
      "Df Model:                           4                                         \n",
      "Covariance Type:            nonrobust                                         \n",
      "=================================================================================\n",
      "                    coef    std err          t      P>|t|      [0.025      0.975]\n",
      "---------------------------------------------------------------------------------\n",
      "const         -5.849e+05   1.48e+04    -39.604      0.000   -6.14e+05   -5.56e+05\n",
      "bathrooms     -1.321e+04   3798.394     -3.477      0.001   -2.07e+04   -5762.590\n",
      "grade          1.148e+05   2739.228     41.926      0.000    1.09e+05     1.2e+05\n",
      "sqft_above        6.0694      4.299      1.412      0.158      -2.358      14.497\n",
      "sqft_living15   118.2938      4.585     25.799      0.000     109.306     127.281\n",
      "==============================================================================\n",
      "Omnibus:                     8288.329   Durbin-Watson:                   2.011\n",
      "Prob(Omnibus):                  0.000   Jarque-Bera (JB):           189953.875\n",
      "Skew:                           2.533   Prob(JB):                         0.00\n",
      "Kurtosis:                      20.641   Cond. No.                     2.25e+04\n",
      "==============================================================================\n",
      "\n",
      "Notes:\n",
      "[1] Standard Errors assume that the covariance matrix of the errors is correctly specified.\n",
      "[2] The condition number is large, 2.25e+04. This might indicate that there are\n",
      "strong multicollinearity or other numerical problems.\n"
     ]
    }
   ],
   "source": [
    "import warnings\n",
    "warnings.simplefilter('ignore')\n",
    "\n",
    "import statsmodels.api as sm\n",
    "from statsmodels.formula.api import ols\n",
    "\n",
    "X_train_wi=sm.add_constant(X_train)\n",
    "model=sm.OLS(y_train,X_train_wi).fit()\n",
    "\n",
    "print(model.summary())"
   ]
  },
  {
   "cell_type": "code",
   "execution_count": 106,
   "metadata": {},
   "outputs": [],
   "source": [
    "from sklearn.linear_model import LinearRegression as LinReg\n",
    "\n",
    "linreg=LinReg()    # model\n",
    "linreg.fit(X_train, y_train)   # model train\n",
    "y_pred_linreg=linreg.predict(X_test)"
   ]
  },
  {
   "cell_type": "markdown",
   "metadata": {},
   "source": [
    "# R2"
   ]
  },
  {
   "cell_type": "code",
   "execution_count": 107,
   "metadata": {},
   "outputs": [
    {
     "name": "stdout",
     "output_type": "stream",
     "text": [
      "train R2: 0.42116127915294 -- test R2: 0.43882408105546544\n"
     ]
    }
   ],
   "source": [
    "print ('train R2: {} -- test R2: {}'.format(linreg.score(X_train, y_train),\n",
    "                                            linreg.score(X_test, y_test)))"
   ]
  },
  {
   "cell_type": "markdown",
   "metadata": {},
   "source": [
    "# MSE"
   ]
  },
  {
   "cell_type": "code",
   "execution_count": 108,
   "metadata": {},
   "outputs": [
    {
     "name": "stdout",
     "output_type": "stream",
     "text": [
      "train MSE: 43008537524.28814 -- test MSE: 42041642647.37253\n"
     ]
    }
   ],
   "source": [
    "from sklearn.metrics import mean_squared_error as mse\n",
    "\n",
    "\n",
    "train_mse=mse(linreg.predict(X_train), y_train)\n",
    "test_mse=mse(linreg.predict(X_test), y_test)\n",
    "\n",
    "print ('train MSE: {} -- test MSE: {}'.format(train_mse, test_mse))"
   ]
  },
  {
   "cell_type": "markdown",
   "metadata": {},
   "source": [
    "# OTHER MODELS "
   ]
  },
  {
   "cell_type": "code",
   "execution_count": 109,
   "metadata": {},
   "outputs": [],
   "source": [
    "# sklearn\n",
    "from sklearn.linear_model import LinearRegression, Lasso, Ridge, ElasticNet, SGDRegressor\n",
    "from sklearn.tree import DecisionTreeRegressor\n",
    "from sklearn.neighbors import KNeighborsRegressor\n",
    "from sklearn.svm import SVR\n",
    "from sklearn.neural_network import MLPRegressor\n",
    "from sklearn.ensemble import RandomForestRegressor, GradientBoostingRegressor\n",
    "from sklearn.model_selection import train_test_split\n"
   ]
  },
  {
   "cell_type": "code",
   "execution_count": 110,
   "metadata": {
    "scrolled": true
   },
   "outputs": [
    {
     "name": "stdout",
     "output_type": "stream",
     "text": [
      "LinearRegression: Train -> 0.42116127915294, Test -> 0.43882408105546544\n",
      "Lasso: Train -> 0.42116127903621114, Test -> 0.4388241649036895\n",
      "Ridge: Train -> 0.4211612766100039, Test -> 0.43882431227716334\n",
      "ElasticNet: Train -> 0.3994393678765211, Test -> 0.41660229735879706\n"
     ]
    }
   ],
   "source": [
    "def models_automation(models, X_train, y_train):\n",
    "    for model in models:\n",
    "        model.fit(X_train, y_train)\n",
    "        print(f\"{model.__class__.__name__}: Train -> {model.score(X_train, y_train)}, Test -> {model.score(X_test, y_test)}\")\n",
    "\n",
    "linear_models = [LinearRegression(), Lasso(), Ridge(), ElasticNet()]\n",
    "models_automation(linear_models, X_train, y_train)"
   ]
  },
  {
   "cell_type": "code",
   "execution_count": 111,
   "metadata": {},
   "outputs": [
    {
     "name": "stdout",
     "output_type": "stream",
     "text": [
      "SVR: Train -> -0.04495080905123161, Test -> -0.06141254702851584\n"
     ]
    }
   ],
   "source": [
    "from sklearn.svm import SVR\n",
    "svr = [SVR()]\n",
    "models_automation(svr, X_train, y_train)"
   ]
  },
  {
   "cell_type": "code",
   "execution_count": 112,
   "metadata": {
    "scrolled": true
   },
   "outputs": [
    {
     "name": "stdout",
     "output_type": "stream",
     "text": [
      "KNeighborsRegressor: Train -> 0.5327754697821226, Test -> 0.2900985932635982\n"
     ]
    }
   ],
   "source": [
    "from sklearn.neighbors import KNeighborsRegressor\n",
    "knn = [KNeighborsRegressor()]\n",
    "models_automation(knn, X_train, y_train)"
   ]
  },
  {
   "cell_type": "code",
   "execution_count": 113,
   "metadata": {
    "scrolled": false
   },
   "outputs": [
    {
     "name": "stdout",
     "output_type": "stream",
     "text": [
      "DecisionTreeRegressor: Train -> 0.9875026996304571, Test -> 0.015876823181427135\n"
     ]
    }
   ],
   "source": [
    "from sklearn.tree import DecisionTreeRegressor\n",
    "dtr = [DecisionTreeRegressor()]\n",
    "models_automation(dtr, X_train, y_train)"
   ]
  },
  {
   "cell_type": "code",
   "execution_count": 114,
   "metadata": {
    "scrolled": true
   },
   "outputs": [
    {
     "name": "stdout",
     "output_type": "stream",
     "text": [
      "GradientBoostingRegressor: Train -> 0.5508333627927489, Test -> 0.49862952088035883\n",
      "RandomForestRegressor: Train -> 0.9118773819986451, Test -> 0.42577940531068137\n"
     ]
    }
   ],
   "source": [
    "from sklearn.ensemble import GradientBoostingRegressor\n",
    "from sklearn.ensemble import RandomForestRegressor\n",
    "rfr = [GradientBoostingRegressor(), RandomForestRegressor()]\n",
    "models_automation(rfr, X_train, y_train)"
   ]
  },
  {
   "cell_type": "markdown",
   "metadata": {},
   "source": [
    "# RESULTS ITERATION 2, TEST 2: \n",
    "Removing some of the columns led to lower accuracy by about 0.05 compared to Test 1 in linear regression and more in other models. The MSE was, however better than in Iteration 1, Test 2. \n",
    "Further nuancing could be done here to find the exact ones, but time is an issue. "
   ]
  },
  {
   "cell_type": "markdown",
   "metadata": {},
   "source": [
    "# ***ITERATION 2, TEST 3***:  \n",
    "Only those with a correlation of 0.45 or higher and have less than 0.75 with other columns are kept. \n",
    "This means that ALL columns except Grade will be removed. "
   ]
  },
  {
   "cell_type": "code",
   "execution_count": 115,
   "metadata": {},
   "outputs": [],
   "source": [
    "df2_3 = df2_2.drop(['bathrooms','sqft_above', 'sqft_living15'], axis=1, inplace=False)"
   ]
  },
  {
   "cell_type": "code",
   "execution_count": 116,
   "metadata": {},
   "outputs": [
    {
     "data": {
      "text/html": [
       "<div>\n",
       "<style scoped>\n",
       "    .dataframe tbody tr th:only-of-type {\n",
       "        vertical-align: middle;\n",
       "    }\n",
       "\n",
       "    .dataframe tbody tr th {\n",
       "        vertical-align: top;\n",
       "    }\n",
       "\n",
       "    .dataframe thead th {\n",
       "        text-align: right;\n",
       "    }\n",
       "</style>\n",
       "<table border=\"1\" class=\"dataframe\">\n",
       "  <thead>\n",
       "    <tr style=\"text-align: right;\">\n",
       "      <th></th>\n",
       "      <th>grade</th>\n",
       "      <th>price</th>\n",
       "    </tr>\n",
       "  </thead>\n",
       "  <tbody>\n",
       "    <tr>\n",
       "      <th>6729</th>\n",
       "      <td>8</td>\n",
       "      <td>647500</td>\n",
       "    </tr>\n",
       "    <tr>\n",
       "      <th>8404</th>\n",
       "      <td>7</td>\n",
       "      <td>400000</td>\n",
       "    </tr>\n",
       "    <tr>\n",
       "      <th>8800</th>\n",
       "      <td>6</td>\n",
       "      <td>235000</td>\n",
       "    </tr>\n",
       "    <tr>\n",
       "      <th>3553</th>\n",
       "      <td>7</td>\n",
       "      <td>402500</td>\n",
       "    </tr>\n",
       "    <tr>\n",
       "      <th>18506</th>\n",
       "      <td>7</td>\n",
       "      <td>680000</td>\n",
       "    </tr>\n",
       "    <tr>\n",
       "      <th>...</th>\n",
       "      <td>...</td>\n",
       "      <td>...</td>\n",
       "    </tr>\n",
       "    <tr>\n",
       "      <th>11642</th>\n",
       "      <td>7</td>\n",
       "      <td>415885</td>\n",
       "    </tr>\n",
       "    <tr>\n",
       "      <th>3257</th>\n",
       "      <td>7</td>\n",
       "      <td>380000</td>\n",
       "    </tr>\n",
       "    <tr>\n",
       "      <th>7614</th>\n",
       "      <td>7</td>\n",
       "      <td>339000</td>\n",
       "    </tr>\n",
       "    <tr>\n",
       "      <th>20963</th>\n",
       "      <td>9</td>\n",
       "      <td>399900</td>\n",
       "    </tr>\n",
       "    <tr>\n",
       "      <th>15937</th>\n",
       "      <td>6</td>\n",
       "      <td>268950</td>\n",
       "    </tr>\n",
       "  </tbody>\n",
       "</table>\n",
       "<p>18045 rows × 2 columns</p>\n",
       "</div>"
      ],
      "text/plain": [
       "       grade   price\n",
       "6729       8  647500\n",
       "8404       7  400000\n",
       "8800       6  235000\n",
       "3553       7  402500\n",
       "18506      7  680000\n",
       "...      ...     ...\n",
       "11642      7  415885\n",
       "3257       7  380000\n",
       "7614       7  339000\n",
       "20963      9  399900\n",
       "15937      6  268950\n",
       "\n",
       "[18045 rows x 2 columns]"
      ]
     },
     "execution_count": 116,
     "metadata": {},
     "output_type": "execute_result"
    }
   ],
   "source": [
    "df2_3"
   ]
  },
  {
   "cell_type": "code",
   "execution_count": 117,
   "metadata": {},
   "outputs": [],
   "source": [
    "X=df2_3.drop('price', axis=1)\n",
    "y=df2_3.price"
   ]
  },
  {
   "cell_type": "code",
   "execution_count": 118,
   "metadata": {},
   "outputs": [],
   "source": [
    "from sklearn.model_selection import train_test_split as tts\n",
    "\n",
    "X_train, X_test, y_train, y_test=tts(X, y, test_size=.25, random_state = 42)"
   ]
  },
  {
   "cell_type": "code",
   "execution_count": 119,
   "metadata": {},
   "outputs": [
    {
     "name": "stdout",
     "output_type": "stream",
     "text": [
      "                            OLS Regression Results                            \n",
      "==============================================================================\n",
      "Dep. Variable:                  price   R-squared:                       0.385\n",
      "Model:                            OLS   Adj. R-squared:                  0.385\n",
      "Method:                 Least Squares   F-statistic:                     8467.\n",
      "Date:                Thu, 19 Nov 2020   Prob (F-statistic):               0.00\n",
      "Time:                        14:15:41   Log-Likelihood:            -1.8529e+05\n",
      "No. Observations:               13533   AIC:                         3.706e+05\n",
      "Df Residuals:                   13531   BIC:                         3.706e+05\n",
      "Df Model:                           1                                         \n",
      "Covariance Type:            nonrobust                                         \n",
      "==============================================================================\n",
      "                 coef    std err          t      P>|t|      [0.025      0.975]\n",
      "------------------------------------------------------------------------------\n",
      "const      -7.181e+05   1.32e+04    -54.342      0.000   -7.44e+05   -6.92e+05\n",
      "grade       1.607e+05   1746.449     92.014      0.000    1.57e+05    1.64e+05\n",
      "==============================================================================\n",
      "Omnibus:                     8438.978   Durbin-Watson:                   2.011\n",
      "Prob(Omnibus):                  0.000   Jarque-Bera (JB):           191715.864\n",
      "Skew:                           2.604   Prob(JB):                         0.00\n",
      "Kurtosis:                      20.688   Cond. No.                         55.3\n",
      "==============================================================================\n",
      "\n",
      "Notes:\n",
      "[1] Standard Errors assume that the covariance matrix of the errors is correctly specified.\n"
     ]
    }
   ],
   "source": [
    "import warnings\n",
    "warnings.simplefilter('ignore')\n",
    "\n",
    "import statsmodels.api as sm\n",
    "from statsmodels.formula.api import ols\n",
    "\n",
    "X_train_wi=sm.add_constant(X_train)\n",
    "model=sm.OLS(y_train,X_train_wi).fit()\n",
    "\n",
    "print(model.summary())"
   ]
  },
  {
   "cell_type": "code",
   "execution_count": 120,
   "metadata": {},
   "outputs": [],
   "source": [
    "from sklearn.linear_model import LinearRegression as LinReg\n",
    "\n",
    "linreg=LinReg()    # model\n",
    "linreg.fit(X_train, y_train)   # model train\n",
    "y_pred_linreg=linreg.predict(X_test)"
   ]
  },
  {
   "cell_type": "markdown",
   "metadata": {},
   "source": [
    "# R2"
   ]
  },
  {
   "cell_type": "code",
   "execution_count": 121,
   "metadata": {},
   "outputs": [
    {
     "name": "stdout",
     "output_type": "stream",
     "text": [
      "train R2: 0.38488657282308847 -- test R2: 0.3957770720988366\n"
     ]
    }
   ],
   "source": [
    "print ('train R2: {} -- test R2: {}'.format(linreg.score(X_train, y_train),\n",
    "                                            linreg.score(X_test, y_test)))"
   ]
  },
  {
   "cell_type": "markdown",
   "metadata": {},
   "source": [
    "# MSE"
   ]
  },
  {
   "cell_type": "code",
   "execution_count": 122,
   "metadata": {},
   "outputs": [
    {
     "name": "stdout",
     "output_type": "stream",
     "text": [
      "train MSE: 45703799627.844215 -- test MSE: 45266597436.94487\n"
     ]
    }
   ],
   "source": [
    "from sklearn.metrics import mean_squared_error as mse\n",
    "\n",
    "\n",
    "train_mse=mse(linreg.predict(X_train), y_train)\n",
    "test_mse=mse(linreg.predict(X_test), y_test)\n",
    "\n",
    "print ('train MSE: {} -- test MSE: {}'.format(train_mse, test_mse))"
   ]
  },
  {
   "cell_type": "markdown",
   "metadata": {},
   "source": [
    "# OTHER MODELS "
   ]
  },
  {
   "cell_type": "code",
   "execution_count": 123,
   "metadata": {},
   "outputs": [],
   "source": [
    "# sklearn\n",
    "from sklearn.linear_model import LinearRegression, Lasso, Ridge, ElasticNet, SGDRegressor\n",
    "from sklearn.tree import DecisionTreeRegressor\n",
    "from sklearn.neighbors import KNeighborsRegressor\n",
    "from sklearn.svm import SVR\n",
    "from sklearn.neural_network import MLPRegressor\n",
    "from sklearn.ensemble import RandomForestRegressor, GradientBoostingRegressor\n",
    "from sklearn.model_selection import train_test_split\n"
   ]
  },
  {
   "cell_type": "code",
   "execution_count": 124,
   "metadata": {
    "scrolled": true
   },
   "outputs": [
    {
     "name": "stdout",
     "output_type": "stream",
     "text": [
      "LinearRegression: Train -> 0.38488657282308847, Test -> 0.3957770720988366\n",
      "Lasso: Train -> 0.3848865728109352, Test -> 0.3957770910701105\n",
      "Ridge: Train -> 0.38488657110966285, Test -> 0.3957772957257045\n",
      "ElasticNet: Train -> 0.34764554097562705, Test -> 0.3580808988922177\n"
     ]
    }
   ],
   "source": [
    "def models_automation(models, X_train, y_train):\n",
    "    for model in models:\n",
    "        model.fit(X_train, y_train)\n",
    "        print(f\"{model.__class__.__name__}: Train -> {model.score(X_train, y_train)}, Test -> {model.score(X_test, y_test)}\")\n",
    "\n",
    "linear_models = [LinearRegression(), Lasso(), Ridge(), ElasticNet()]\n",
    "models_automation(linear_models, X_train, y_train)"
   ]
  },
  {
   "cell_type": "code",
   "execution_count": 125,
   "metadata": {},
   "outputs": [
    {
     "name": "stdout",
     "output_type": "stream",
     "text": [
      "SVR: Train -> -0.043455764585754286, Test -> -0.0599423616841539\n"
     ]
    }
   ],
   "source": [
    "from sklearn.svm import SVR\n",
    "svr = [SVR()]\n",
    "models_automation(svr, X_train, y_train)"
   ]
  },
  {
   "cell_type": "code",
   "execution_count": 126,
   "metadata": {
    "scrolled": true
   },
   "outputs": [
    {
     "name": "stdout",
     "output_type": "stream",
     "text": [
      "KNeighborsRegressor: Train -> 0.30383744644165167, Test -> 0.2903308658768776\n"
     ]
    }
   ],
   "source": [
    "from sklearn.neighbors import KNeighborsRegressor\n",
    "knn = [KNeighborsRegressor()]\n",
    "models_automation(knn, X_train, y_train)"
   ]
  },
  {
   "cell_type": "code",
   "execution_count": 127,
   "metadata": {
    "scrolled": false
   },
   "outputs": [
    {
     "name": "stdout",
     "output_type": "stream",
     "text": [
      "DecisionTreeRegressor: Train -> 0.4262022969031377, Test -> 0.4144772738973066\n"
     ]
    }
   ],
   "source": [
    "from sklearn.tree import DecisionTreeRegressor\n",
    "dtr = [DecisionTreeRegressor()]\n",
    "models_automation(dtr, X_train, y_train)"
   ]
  },
  {
   "cell_type": "code",
   "execution_count": 128,
   "metadata": {
    "scrolled": true
   },
   "outputs": [
    {
     "name": "stdout",
     "output_type": "stream",
     "text": [
      "GradientBoostingRegressor: Train -> 0.42620229570174617, Test -> 0.4144799675999983\n",
      "RandomForestRegressor: Train -> 0.42619445310765514, Test -> 0.41475351560028184\n"
     ]
    }
   ],
   "source": [
    "from sklearn.ensemble import GradientBoostingRegressor\n",
    "from sklearn.ensemble import RandomForestRegressor\n",
    "rfr = [GradientBoostingRegressor(), RandomForestRegressor()]\n",
    "models_automation(rfr, X_train, y_train)"
   ]
  },
  {
   "cell_type": "markdown",
   "metadata": {},
   "source": [
    "# RESULTS ITERATION 2, TEST 3: \n",
    "Considering that we are only working with 1 column, I would say that the results are not too bad, particularly when compared to the few more columns used above in Test 2. Nonetheless a reduction to less than 40% prediction probability is quite bad."
   ]
  },
  {
   "cell_type": "markdown",
   "metadata": {},
   "source": [
    "# ITERATION 3\n",
    "NORMALISATION  / STANDARDISATION"
   ]
  },
  {
   "cell_type": "markdown",
   "metadata": {},
   "source": [
    "# ***ITERATION 3, TEST 1***: \n",
    "Normalisation, but max columns. "
   ]
  },
  {
   "cell_type": "code",
   "execution_count": 129,
   "metadata": {},
   "outputs": [],
   "source": [
    "X=df.drop('price', axis=1)\n",
    "y=df.price"
   ]
  },
  {
   "cell_type": "markdown",
   "metadata": {},
   "source": [
    "#### Histograms before normalisation"
   ]
  },
  {
   "cell_type": "code",
   "execution_count": 130,
   "metadata": {},
   "outputs": [],
   "source": [
    "def df_hist(df):\n",
    "    sns.set(rc={'figure.figsize':(16,8)})\n",
    "    for i, col in enumerate(df):\n",
    "        plt.figure(i)\n",
    "        sns.distplot(df[col], color = list(BASE_COLORS.keys())[3])\n",
    "        \n",
    "    plt.show()"
   ]
  },
  {
   "cell_type": "code",
   "execution_count": 131,
   "metadata": {},
   "outputs": [
    {
     "data": {
      "image/png": "[encoded data removed]",
      "text/plain": [
       "<Figure size 1152x576 with 1 Axes>"
      ]
     },
     "metadata": {},
     "output_type": "display_data"
    },
    {
     "data": {
      "image/png": "[encoded data removed]",
      "text/plain": [
       "<Figure size 1152x576 with 1 Axes>"
      ]
     },
     "metadata": {},
     "output_type": "display_data"
    },
    {
     "data": {
      "image/png": "[encoded data removed]",
      "text/plain": [
       "<Figure size 1152x576 with 1 Axes>"
      ]
     },
     "metadata": {},
     "output_type": "display_data"
    },
    {
     "data": {
      "image/png": "[encoded data removed]",
      "text/plain": [
       "<Figure size 1152x576 with 1 Axes>"
      ]
     },
     "metadata": {},
     "output_type": "display_data"
    },
    {
     "data": {
      "image/png": "[encoded data removed]",
      "text/plain": [
       "<Figure size 1152x576 with 1 Axes>"
      ]
     },
     "metadata": {},
     "output_type": "display_data"
    },
    {
     "data": {
      "image/png": "[encoded data removed]",
      "text/plain": [
       "<Figure size 1152x576 with 1 Axes>"
      ]
     },
     "metadata": {},
     "output_type": "display_data"
    },
    {
     "data": {
      "image/png": "[encoded data removed]",
      "text/plain": [
       "<Figure size 1152x576 with 1 Axes>"
      ]
     },
     "metadata": {},
     "output_type": "display_data"
    },
    {
     "data": {
      "image/png": "[encoded data removed]",
      "text/plain": [
       "<Figure size 1152x576 with 1 Axes>"
      ]
     },
     "metadata": {},
     "output_type": "display_data"
    },
    {
     "data": {
      "image/png": "[encoded data removed]",
      "text/plain": [
       "<Figure size 1152x576 with 1 Axes>"
      ]
     },
     "metadata": {},
     "output_type": "display_data"
    },
    {
     "data": {
      "image/png": "[encoded data removed]",
      "text/plain": [
       "<Figure size 1152x576 with 1 Axes>"
      ]
     },
     "metadata": {},
     "output_type": "display_data"
    },
    {
     "data": {
      "image/png": "[encoded data removed]",
      "text/plain": [
       "<Figure size 1152x576 with 1 Axes>"
      ]
     },
     "metadata": {},
     "output_type": "display_data"
    },
    {
     "data": {
      "image/png": "[encoded data removed]",
      "text/plain": [
       "<Figure size 1152x576 with 1 Axes>"
      ]
     },
     "metadata": {},
     "output_type": "display_data"
    },
    {
     "data": {
      "image/png": "[encoded data removed]",
      "text/plain": [
       "<Figure size 1152x576 with 1 Axes>"
      ]
     },
     "metadata": {},
     "output_type": "display_data"
    }
   ],
   "source": [
    "df_hist(X)"
   ]
  },
  {
   "cell_type": "code",
   "execution_count": 132,
   "metadata": {},
   "outputs": [],
   "source": [
    "from sklearn.preprocessing import StandardScaler\n",
    "\n",
    "X=StandardScaler().fit_transform(X)\n"
   ]
  },
  {
   "cell_type": "code",
   "execution_count": 133,
   "metadata": {},
   "outputs": [
    {
     "data": {
      "text/plain": [
       "array([[ 2.90977447,  1.14683056,  0.93324277, ..., -0.21063855,\n",
       "         0.10446932, -0.19966069],\n",
       "       [ 0.69487152, -0.4792872 , -0.91837451, ..., -0.21063855,\n",
       "         0.87760385,  0.33334384],\n",
       "       [-0.41257996, -1.45495786, -0.91837451, ..., -0.21063855,\n",
       "         0.38163076,  0.26503149],\n",
       "       ...,\n",
       "       [-0.41257996, -1.45495786, -0.91837451, ..., -0.21063855,\n",
       "        -0.6978401 , -0.30125153],\n",
       "       [-1.52003144, -0.4792872 ,  0.00743413, ..., -0.21063855,\n",
       "        -0.79995221, -0.42376029],\n",
       "       [-0.41257996, -1.45495786, -0.91837451, ..., -0.21063855,\n",
       "        -1.44179974, -0.17098998]])"
      ]
     },
     "execution_count": 133,
     "metadata": {},
     "output_type": "execute_result"
    }
   ],
   "source": [
    "X"
   ]
  },
  {
   "cell_type": "code",
   "execution_count": 134,
   "metadata": {},
   "outputs": [],
   "source": [
    "from sklearn.model_selection import train_test_split as tts\n",
    "\n",
    "X_train, X_test, y_train, y_test=tts(X, y, test_size=.25, random_state = 42)"
   ]
  },
  {
   "cell_type": "code",
   "execution_count": 135,
   "metadata": {},
   "outputs": [
    {
     "name": "stdout",
     "output_type": "stream",
     "text": [
      "                            OLS Regression Results                            \n",
      "==============================================================================\n",
      "Dep. Variable:                  price   R-squared:                       0.645\n",
      "Model:                            OLS   Adj. R-squared:                  0.645\n",
      "Method:                 Least Squares   F-statistic:                     2248.\n",
      "Date:                Thu, 19 Nov 2020   Prob (F-statistic):               0.00\n",
      "Time:                        14:16:04   Log-Likelihood:            -2.2034e+05\n",
      "No. Observations:               16065   AIC:                         4.407e+05\n",
      "Df Residuals:                   16051   BIC:                         4.408e+05\n",
      "Df Model:                          13                                         \n",
      "Covariance Type:            nonrobust                                         \n",
      "==============================================================================\n",
      "                 coef    std err          t      P>|t|      [0.025      0.975]\n",
      "------------------------------------------------------------------------------\n",
      "const       5.417e+05   1728.330    313.452      0.000    5.38e+05    5.45e+05\n",
      "x1         -3.023e+04   2195.865    -13.769      0.000   -3.45e+04   -2.59e+04\n",
      "x2          4.683e+04   3137.633     14.925      0.000    4.07e+04     5.3e+04\n",
      "x3          4215.5236   2350.481      1.793      0.073    -391.682    8822.730\n",
      "x4          6.526e+04   1875.532     34.798      0.000    6.16e+04    6.89e+04\n",
      "x5          2.973e+04   1917.979     15.501      0.000     2.6e+04    3.35e+04\n",
      "x6           1.61e+04   1913.635      8.411      0.000    1.23e+04    1.98e+04\n",
      "x7          1.462e+05   3133.159     46.666      0.000     1.4e+05    1.52e+05\n",
      "x8          1.275e+05   3906.294     32.640      0.000     1.2e+05    1.35e+05\n",
      "x9          5.276e+04   2283.578     23.102      0.000    4.83e+04    5.72e+04\n",
      "x10        -1.095e+05   2463.494    -44.454      0.000   -1.14e+05   -1.05e+05\n",
      "x11         6802.7950   1841.198      3.695      0.000    3193.841    1.04e+04\n",
      "x12         2.488e+04   2875.048      8.654      0.000    1.92e+04    3.05e+04\n",
      "x13        -1.386e+04   1770.681     -7.828      0.000   -1.73e+04   -1.04e+04\n",
      "==============================================================================\n",
      "Omnibus:                    12852.256   Durbin-Watson:                   2.019\n",
      "Prob(Omnibus):                  0.000   Jarque-Bera (JB):          1135695.342\n",
      "Skew:                           3.258   Prob(JB):                         0.00\n",
      "Kurtosis:                      43.672   Cond. No.                         5.57\n",
      "==============================================================================\n",
      "\n",
      "Notes:\n",
      "[1] Standard Errors assume that the covariance matrix of the errors is correctly specified.\n"
     ]
    }
   ],
   "source": [
    "import warnings\n",
    "warnings.simplefilter('ignore')\n",
    "\n",
    "import statsmodels.api as sm\n",
    "from statsmodels.formula.api import ols\n",
    "\n",
    "X_train_wi=sm.add_constant(X_train)\n",
    "model=sm.OLS(y_train,X_train_wi).fit()\n",
    "\n",
    "print(model.summary())"
   ]
  },
  {
   "cell_type": "markdown",
   "metadata": {},
   "source": [
    "# LINEAR REGRESSION"
   ]
  },
  {
   "cell_type": "code",
   "execution_count": 136,
   "metadata": {},
   "outputs": [],
   "source": [
    "from sklearn.linear_model import LinearRegression as LinReg\n",
    "\n",
    "linreg=LinReg()    # model\n",
    "linreg.fit(X_train, y_train)   # model train\n",
    "y_pred_linreg=linreg.predict(X_test)"
   ]
  },
  {
   "cell_type": "markdown",
   "metadata": {},
   "source": [
    "# R2"
   ]
  },
  {
   "cell_type": "code",
   "execution_count": 137,
   "metadata": {},
   "outputs": [
    {
     "name": "stdout",
     "output_type": "stream",
     "text": [
      "train R2: 0.6454741333301519 -- test R2: 0.6346134977866\n"
     ]
    }
   ],
   "source": [
    "print ('train R2: {} -- test R2: {}'.format(linreg.score(X_train, y_train),\n",
    "                                            linreg.score(X_test, y_test)))"
   ]
  },
  {
   "cell_type": "markdown",
   "metadata": {},
   "source": [
    "# MSE"
   ]
  },
  {
   "cell_type": "code",
   "execution_count": 138,
   "metadata": {},
   "outputs": [
    {
     "name": "stdout",
     "output_type": "stream",
     "text": [
      "train MSE: 47927484168.759476 -- test MSE: 49254766631.12363\n"
     ]
    }
   ],
   "source": [
    "from sklearn.metrics import mean_squared_error as mse\n",
    "\n",
    "\n",
    "train_mse=mse(linreg.predict(X_train), y_train)\n",
    "test_mse=mse(linreg.predict(X_test), y_test)\n",
    "\n",
    "print ('train MSE: {} -- test MSE: {}'.format(train_mse, test_mse))"
   ]
  },
  {
   "cell_type": "markdown",
   "metadata": {},
   "source": [
    "# OTHER MODELS"
   ]
  },
  {
   "cell_type": "code",
   "execution_count": 139,
   "metadata": {},
   "outputs": [],
   "source": [
    "# sklearn\n",
    "from sklearn.linear_model import LinearRegression, Lasso, Ridge, ElasticNet, SGDRegressor\n",
    "from sklearn.tree import DecisionTreeRegressor\n",
    "from sklearn.neighbors import KNeighborsRegressor\n",
    "from sklearn.svm import SVR\n",
    "from sklearn.neural_network import MLPRegressor\n",
    "from sklearn.ensemble import RandomForestRegressor, GradientBoostingRegressor\n",
    "from sklearn.model_selection import train_test_split\n"
   ]
  },
  {
   "cell_type": "code",
   "execution_count": 140,
   "metadata": {
    "scrolled": true
   },
   "outputs": [
    {
     "name": "stdout",
     "output_type": "stream",
     "text": [
      "LinearRegression: Train -> 0.6454741333301519, Test -> 0.6346134977866\n",
      "Lasso: Train -> 0.6454741332178742, Test -> 0.6346139808940314\n",
      "Ridge: Train -> 0.6454741299908656, Test -> 0.634615584241437\n",
      "ElasticNet: Train -> 0.6008475929499371, Test -> 0.5988604033009561\n"
     ]
    }
   ],
   "source": [
    "def models_automation(models, X_train, y_train):\n",
    "    for model in models:\n",
    "        model.fit(X_train, y_train)\n",
    "        print(f\"{model.__class__.__name__}: Train -> {model.score(X_train, y_train)}, Test -> {model.score(X_test, y_test)}\")\n",
    "\n",
    "linear_models = [LinearRegression(), Lasso(), Ridge(), ElasticNet()]\n",
    "models_automation(linear_models, X_train, y_train)"
   ]
  },
  {
   "cell_type": "code",
   "execution_count": 141,
   "metadata": {},
   "outputs": [
    {
     "name": "stdout",
     "output_type": "stream",
     "text": [
      "SVR: Train -> -0.05780616002109151, Test -> -0.06051307684984719\n"
     ]
    }
   ],
   "source": [
    "from sklearn.svm import SVR\n",
    "svr = [SVR()]\n",
    "models_automation(svr, X_train, y_train)"
   ]
  },
  {
   "cell_type": "code",
   "execution_count": 142,
   "metadata": {
    "scrolled": true
   },
   "outputs": [
    {
     "name": "stdout",
     "output_type": "stream",
     "text": [
      "KNeighborsRegressor: Train -> 0.796719918304883, Test -> 0.6761397148308453\n"
     ]
    }
   ],
   "source": [
    "from sklearn.neighbors import KNeighborsRegressor\n",
    "knn = [KNeighborsRegressor()]\n",
    "models_automation(knn, X_train, y_train)"
   ]
  },
  {
   "cell_type": "code",
   "execution_count": 143,
   "metadata": {
    "scrolled": false
   },
   "outputs": [
    {
     "name": "stdout",
     "output_type": "stream",
     "text": [
      "DecisionTreeRegressor: Train -> 0.9999883194893056, Test -> 0.49474504930583063\n"
     ]
    }
   ],
   "source": [
    "from sklearn.tree import DecisionTreeRegressor\n",
    "dtr = [DecisionTreeRegressor()]\n",
    "models_automation(dtr, X_train, y_train)"
   ]
  },
  {
   "cell_type": "code",
   "execution_count": 144,
   "metadata": {
    "scrolled": true
   },
   "outputs": [
    {
     "name": "stdout",
     "output_type": "stream",
     "text": [
      "GradientBoostingRegressor: Train -> 0.7968084512599025, Test -> 0.7330470556688752\n",
      "RandomForestRegressor: Train -> 0.9631182904575367, Test -> 0.7287946823242496\n"
     ]
    }
   ],
   "source": [
    "from sklearn.ensemble import GradientBoostingRegressor\n",
    "from sklearn.ensemble import RandomForestRegressor\n",
    "rfr = [GradientBoostingRegressor(), RandomForestRegressor()]\n",
    "models_automation(rfr, X_train, y_train)"
   ]
  },
  {
   "cell_type": "markdown",
   "metadata": {},
   "source": [
    "# RESULTS ITERATION 3, TEST 1: \n",
    "Results are almost identical to iteration 1, Test 1. KNN seems a lot better (0.67 v 0.45) than in 1.1, however. Would be interesting to explore more as to why. "
   ]
  },
  {
   "cell_type": "markdown",
   "metadata": {},
   "source": [
    "# ***ITERATION 3, TEST 2***:  \n",
    "Only those with a correlation of 0.45 or higher with price are kept and then normalisation will be done. "
   ]
  },
  {
   "cell_type": "code",
   "execution_count": 145,
   "metadata": {},
   "outputs": [],
   "source": [
    "df3_2 = df.drop(['bedrooms','floors', 'waterfront', 'view', 'condition', 'sqft_basement', 'yr_built', 'yr_renovated', \n",
    "                 'sqft_lot15'], axis=1, inplace=False)"
   ]
  },
  {
   "cell_type": "code",
   "execution_count": 146,
   "metadata": {},
   "outputs": [
    {
     "data": {
      "text/html": [
       "<div>\n",
       "<style scoped>\n",
       "    .dataframe tbody tr th:only-of-type {\n",
       "        vertical-align: middle;\n",
       "    }\n",
       "\n",
       "    .dataframe tbody tr th {\n",
       "        vertical-align: top;\n",
       "    }\n",
       "\n",
       "    .dataframe thead th {\n",
       "        text-align: right;\n",
       "    }\n",
       "</style>\n",
       "<table border=\"1\" class=\"dataframe\">\n",
       "  <thead>\n",
       "    <tr style=\"text-align: right;\">\n",
       "      <th></th>\n",
       "      <th>bathrooms</th>\n",
       "      <th>grade</th>\n",
       "      <th>sqft_above</th>\n",
       "      <th>sqft_living15</th>\n",
       "      <th>price</th>\n",
       "    </tr>\n",
       "  </thead>\n",
       "  <tbody>\n",
       "    <tr>\n",
       "      <th>2495</th>\n",
       "      <td>3.00</td>\n",
       "      <td>7</td>\n",
       "      <td>2400</td>\n",
       "      <td>2060</td>\n",
       "      <td>300000</td>\n",
       "    </tr>\n",
       "    <tr>\n",
       "      <th>6729</th>\n",
       "      <td>1.75</td>\n",
       "      <td>8</td>\n",
       "      <td>1160</td>\n",
       "      <td>2590</td>\n",
       "      <td>647500</td>\n",
       "    </tr>\n",
       "    <tr>\n",
       "      <th>8404</th>\n",
       "      <td>1.00</td>\n",
       "      <td>7</td>\n",
       "      <td>1460</td>\n",
       "      <td>2250</td>\n",
       "      <td>400000</td>\n",
       "    </tr>\n",
       "    <tr>\n",
       "      <th>8800</th>\n",
       "      <td>1.00</td>\n",
       "      <td>6</td>\n",
       "      <td>1010</td>\n",
       "      <td>1290</td>\n",
       "      <td>235000</td>\n",
       "    </tr>\n",
       "    <tr>\n",
       "      <th>3553</th>\n",
       "      <td>2.00</td>\n",
       "      <td>7</td>\n",
       "      <td>760</td>\n",
       "      <td>1480</td>\n",
       "      <td>402500</td>\n",
       "    </tr>\n",
       "    <tr>\n",
       "      <th>...</th>\n",
       "      <td>...</td>\n",
       "      <td>...</td>\n",
       "      <td>...</td>\n",
       "      <td>...</td>\n",
       "      <td>...</td>\n",
       "    </tr>\n",
       "    <tr>\n",
       "      <th>16723</th>\n",
       "      <td>2.00</td>\n",
       "      <td>7</td>\n",
       "      <td>1600</td>\n",
       "      <td>1190</td>\n",
       "      <td>365000</td>\n",
       "    </tr>\n",
       "    <tr>\n",
       "      <th>3257</th>\n",
       "      <td>1.00</td>\n",
       "      <td>7</td>\n",
       "      <td>840</td>\n",
       "      <td>1930</td>\n",
       "      <td>380000</td>\n",
       "    </tr>\n",
       "    <tr>\n",
       "      <th>7614</th>\n",
       "      <td>1.00</td>\n",
       "      <td>7</td>\n",
       "      <td>720</td>\n",
       "      <td>1510</td>\n",
       "      <td>339000</td>\n",
       "    </tr>\n",
       "    <tr>\n",
       "      <th>20963</th>\n",
       "      <td>1.75</td>\n",
       "      <td>9</td>\n",
       "      <td>900</td>\n",
       "      <td>1440</td>\n",
       "      <td>399900</td>\n",
       "    </tr>\n",
       "    <tr>\n",
       "      <th>15937</th>\n",
       "      <td>1.00</td>\n",
       "      <td>6</td>\n",
       "      <td>880</td>\n",
       "      <td>1000</td>\n",
       "      <td>268950</td>\n",
       "    </tr>\n",
       "  </tbody>\n",
       "</table>\n",
       "<p>21420 rows × 5 columns</p>\n",
       "</div>"
      ],
      "text/plain": [
       "       bathrooms  grade  sqft_above  sqft_living15   price\n",
       "2495        3.00      7        2400           2060  300000\n",
       "6729        1.75      8        1160           2590  647500\n",
       "8404        1.00      7        1460           2250  400000\n",
       "8800        1.00      6        1010           1290  235000\n",
       "3553        2.00      7         760           1480  402500\n",
       "...          ...    ...         ...            ...     ...\n",
       "16723       2.00      7        1600           1190  365000\n",
       "3257        1.00      7         840           1930  380000\n",
       "7614        1.00      7         720           1510  339000\n",
       "20963       1.75      9         900           1440  399900\n",
       "15937       1.00      6         880           1000  268950\n",
       "\n",
       "[21420 rows x 5 columns]"
      ]
     },
     "execution_count": 146,
     "metadata": {},
     "output_type": "execute_result"
    }
   ],
   "source": [
    "df3_2"
   ]
  },
  {
   "cell_type": "code",
   "execution_count": 182,
   "metadata": {},
   "outputs": [
    {
     "data": {
      "image/png": "[encoded data removed]",
      "text/plain": [
       "<Figure size 720x576 with 2 Axes>"
      ]
     },
     "metadata": {},
     "output_type": "display_data"
    }
   ],
   "source": [
    "mask=np.zeros_like(df3_2.corr())\n",
    "mask[np.triu_indices_from(mask)]=True\n",
    "fig, ax=plt.subplots(figsize=(10, 8))\n",
    "ax=sns.heatmap(df3_2.corr(), mask=mask, annot=True, fmt='.2g')\n",
    "plt.show()"
   ]
  },
  {
   "cell_type": "code",
   "execution_count": 148,
   "metadata": {},
   "outputs": [],
   "source": [
    "X=df3_2.drop('price', axis=1)\n",
    "y=df3_2.price"
   ]
  },
  {
   "cell_type": "code",
   "execution_count": 149,
   "metadata": {},
   "outputs": [],
   "source": [
    "from sklearn.preprocessing import StandardScaler\n",
    "\n",
    "X=StandardScaler().fit_transform(X)\n"
   ]
  },
  {
   "cell_type": "code",
   "execution_count": 150,
   "metadata": {
    "scrolled": true
   },
   "outputs": [
    {
     "data": {
      "text/plain": [
       "array([[ 1.14683056, -0.56554914,  0.73470395,  0.10446932],\n",
       "       [-0.4792872 ,  0.28773413, -0.76166322,  0.87760385],\n",
       "       [-1.45495786, -0.56554914, -0.3996389 ,  0.38163076],\n",
       "       ...,\n",
       "       [-1.45495786, -0.56554914, -1.29263221, -0.6978401 ],\n",
       "       [-0.4792872 ,  1.14101741, -1.07541762, -0.79995221],\n",
       "       [-1.45495786, -1.41883242, -1.09955258, -1.44179974]])"
      ]
     },
     "execution_count": 150,
     "metadata": {},
     "output_type": "execute_result"
    }
   ],
   "source": [
    "X"
   ]
  },
  {
   "cell_type": "code",
   "execution_count": 151,
   "metadata": {},
   "outputs": [],
   "source": [
    "from sklearn.model_selection import train_test_split as tts\n",
    "\n",
    "X_train, X_test, y_train, y_test=tts(X, y, test_size=.25, random_state = 42)"
   ]
  },
  {
   "cell_type": "code",
   "execution_count": 152,
   "metadata": {},
   "outputs": [
    {
     "name": "stdout",
     "output_type": "stream",
     "text": [
      "                            OLS Regression Results                            \n",
      "==============================================================================\n",
      "Dep. Variable:                  price   R-squared:                       0.480\n",
      "Model:                            OLS   Adj. R-squared:                  0.479\n",
      "Method:                 Least Squares   F-statistic:                     3699.\n",
      "Date:                Thu, 19 Nov 2020   Prob (F-statistic):               0.00\n",
      "Time:                        14:16:44   Log-Likelihood:            -2.2342e+05\n",
      "No. Observations:               16065   AIC:                         4.469e+05\n",
      "Df Residuals:                   16060   BIC:                         4.469e+05\n",
      "Df Model:                           4                                         \n",
      "Covariance Type:            nonrobust                                         \n",
      "==============================================================================\n",
      "                 coef    std err          t      P>|t|      [0.025      0.975]\n",
      "------------------------------------------------------------------------------\n",
      "const       5.406e+05   2093.216    258.242      0.000    5.36e+05    5.45e+05\n",
      "x1          2.523e+04   3016.691      8.363      0.000    1.93e+04    3.11e+04\n",
      "x2          1.499e+05   3584.371     41.813      0.000    1.43e+05    1.57e+05\n",
      "x3          5.002e+04   3753.540     13.325      0.000    4.27e+04    5.74e+04\n",
      "x4          5.592e+04   3288.079     17.008      0.000    4.95e+04    6.24e+04\n",
      "==============================================================================\n",
      "Omnibus:                    14610.763   Durbin-Watson:                   1.988\n",
      "Prob(Omnibus):                  0.000   Jarque-Bera (JB):          1464751.640\n",
      "Skew:                           4.001   Prob(JB):                         0.00\n",
      "Kurtosis:                      49.089   Cond. No.                         3.64\n",
      "==============================================================================\n",
      "\n",
      "Notes:\n",
      "[1] Standard Errors assume that the covariance matrix of the errors is correctly specified.\n"
     ]
    }
   ],
   "source": [
    "import warnings\n",
    "warnings.simplefilter('ignore')\n",
    "\n",
    "import statsmodels.api as sm\n",
    "from statsmodels.formula.api import ols\n",
    "\n",
    "X_train_wi=sm.add_constant(X_train)\n",
    "model=sm.OLS(y_train,X_train_wi).fit()\n",
    "\n",
    "print(model.summary())"
   ]
  },
  {
   "cell_type": "code",
   "execution_count": 153,
   "metadata": {},
   "outputs": [],
   "source": [
    "from sklearn.linear_model import LinearRegression as LinReg\n",
    "\n",
    "linreg=LinReg()    # model\n",
    "linreg.fit(X_train, y_train)   # model train\n",
    "y_pred_linreg=linreg.predict(X_test)"
   ]
  },
  {
   "cell_type": "markdown",
   "metadata": {},
   "source": [
    "# R2"
   ]
  },
  {
   "cell_type": "code",
   "execution_count": 154,
   "metadata": {},
   "outputs": [
    {
     "name": "stdout",
     "output_type": "stream",
     "text": [
      "train R2: 0.479514329513412 -- test R2: 0.48430659958681777\n"
     ]
    }
   ],
   "source": [
    "print ('train R2: {} -- test R2: {}'.format(linreg.score(X_train, y_train),\n",
    "                                            linreg.score(X_test, y_test)))"
   ]
  },
  {
   "cell_type": "markdown",
   "metadata": {},
   "source": [
    "# MSE"
   ]
  },
  {
   "cell_type": "code",
   "execution_count": 155,
   "metadata": {},
   "outputs": [
    {
     "name": "stdout",
     "output_type": "stream",
     "text": [
      "train MSE: 70363183839.39711 -- test MSE: 69516410531.57208\n"
     ]
    }
   ],
   "source": [
    "from sklearn.metrics import mean_squared_error as mse\n",
    "\n",
    "\n",
    "train_mse=mse(linreg.predict(X_train), y_train)\n",
    "test_mse=mse(linreg.predict(X_test), y_test)\n",
    "\n",
    "print ('train MSE: {} -- test MSE: {}'.format(train_mse, test_mse))"
   ]
  },
  {
   "cell_type": "markdown",
   "metadata": {},
   "source": [
    "# OTHER MODELS "
   ]
  },
  {
   "cell_type": "code",
   "execution_count": 156,
   "metadata": {},
   "outputs": [],
   "source": [
    "# sklearn\n",
    "from sklearn.linear_model import LinearRegression, Lasso, Ridge, ElasticNet, SGDRegressor\n",
    "from sklearn.tree import DecisionTreeRegressor\n",
    "from sklearn.neighbors import KNeighborsRegressor\n",
    "from sklearn.svm import SVR\n",
    "from sklearn.neural_network import MLPRegressor\n",
    "from sklearn.ensemble import RandomForestRegressor, GradientBoostingRegressor\n",
    "from sklearn.model_selection import train_test_split\n"
   ]
  },
  {
   "cell_type": "code",
   "execution_count": 157,
   "metadata": {
    "scrolled": true
   },
   "outputs": [
    {
     "name": "stdout",
     "output_type": "stream",
     "text": [
      "LinearRegression: Train -> 0.479514329513412, Test -> 0.48430659958681777\n",
      "Lasso: Train -> 0.47951432946495365, Test -> 0.4843064704372504\n",
      "Ridge: Train -> 0.4795143284285244, Test -> 0.48430675683462443\n",
      "ElasticNet: Train -> 0.46340220501661367, Test -> 0.46751751585171253\n"
     ]
    }
   ],
   "source": [
    "def models_automation(models, X_train, y_train):\n",
    "    for model in models:\n",
    "        model.fit(X_train, y_train)\n",
    "        print(f\"{model.__class__.__name__}: Train -> {model.score(X_train, y_train)}, Test -> {model.score(X_test, y_test)}\")\n",
    "\n",
    "linear_models = [LinearRegression(), Lasso(), Ridge(), ElasticNet()]\n",
    "models_automation(linear_models, X_train, y_train)"
   ]
  },
  {
   "cell_type": "code",
   "execution_count": 158,
   "metadata": {},
   "outputs": [
    {
     "name": "stdout",
     "output_type": "stream",
     "text": [
      "SVR: Train -> -0.056051490421093364, Test -> -0.058725572351489896\n"
     ]
    }
   ],
   "source": [
    "from sklearn.svm import SVR\n",
    "svr = [SVR()]\n",
    "models_automation(svr, X_train, y_train)"
   ]
  },
  {
   "cell_type": "code",
   "execution_count": 159,
   "metadata": {
    "scrolled": true
   },
   "outputs": [
    {
     "name": "stdout",
     "output_type": "stream",
     "text": [
      "KNeighborsRegressor: Train -> 0.6843702275612713, Test -> 0.5488847050928519\n"
     ]
    }
   ],
   "source": [
    "from sklearn.neighbors import KNeighborsRegressor\n",
    "knn = [KNeighborsRegressor()]\n",
    "models_automation(knn, X_train, y_train)"
   ]
  },
  {
   "cell_type": "code",
   "execution_count": 160,
   "metadata": {
    "scrolled": false
   },
   "outputs": [
    {
     "name": "stdout",
     "output_type": "stream",
     "text": [
      "DecisionTreeRegressor: Train -> 0.9934607822723929, Test -> 0.2651754088979259\n"
     ]
    }
   ],
   "source": [
    "from sklearn.tree import DecisionTreeRegressor\n",
    "dtr = [DecisionTreeRegressor()]\n",
    "models_automation(dtr, X_train, y_train)"
   ]
  },
  {
   "cell_type": "code",
   "execution_count": 161,
   "metadata": {
    "scrolled": true
   },
   "outputs": [
    {
     "name": "stdout",
     "output_type": "stream",
     "text": [
      "GradientBoostingRegressor: Train -> 0.6528442423263516, Test -> 0.5940232653672846\n",
      "RandomForestRegressor: Train -> 0.9291944018913889, Test -> 0.5479817360270831\n"
     ]
    }
   ],
   "source": [
    "from sklearn.ensemble import GradientBoostingRegressor\n",
    "from sklearn.ensemble import RandomForestRegressor\n",
    "rfr = [GradientBoostingRegressor(), RandomForestRegressor()]\n",
    "models_automation(rfr, X_train, y_train)"
   ]
  },
  {
   "cell_type": "markdown",
   "metadata": {},
   "source": [
    "# RESULTS ITERATION 3, TEST 2: \n",
    "Similar to 3.2, identical in almost every way to 1.2, except again for the KNN. \n",
    "Much much better at 0.55 v 0.29. "
   ]
  },
  {
   "cell_type": "markdown",
   "metadata": {},
   "source": [
    "# ***ITERATION 3, TEST 3***:  \n",
    "Only those with a correlation of 0.45 or higher and have less than 0.75 with other columns are kept then normalisation will be done. \n",
    "This means that ALL columns except Grade will be removed. "
   ]
  },
  {
   "cell_type": "code",
   "execution_count": 162,
   "metadata": {},
   "outputs": [],
   "source": [
    "df3_3 = df3_2.drop(['bathrooms','sqft_above', 'sqft_living15'], axis=1, inplace=False)"
   ]
  },
  {
   "cell_type": "code",
   "execution_count": 163,
   "metadata": {},
   "outputs": [
    {
     "data": {
      "text/html": [
       "<div>\n",
       "<style scoped>\n",
       "    .dataframe tbody tr th:only-of-type {\n",
       "        vertical-align: middle;\n",
       "    }\n",
       "\n",
       "    .dataframe tbody tr th {\n",
       "        vertical-align: top;\n",
       "    }\n",
       "\n",
       "    .dataframe thead th {\n",
       "        text-align: right;\n",
       "    }\n",
       "</style>\n",
       "<table border=\"1\" class=\"dataframe\">\n",
       "  <thead>\n",
       "    <tr style=\"text-align: right;\">\n",
       "      <th></th>\n",
       "      <th>grade</th>\n",
       "      <th>price</th>\n",
       "    </tr>\n",
       "  </thead>\n",
       "  <tbody>\n",
       "    <tr>\n",
       "      <th>2495</th>\n",
       "      <td>7</td>\n",
       "      <td>300000</td>\n",
       "    </tr>\n",
       "    <tr>\n",
       "      <th>6729</th>\n",
       "      <td>8</td>\n",
       "      <td>647500</td>\n",
       "    </tr>\n",
       "    <tr>\n",
       "      <th>8404</th>\n",
       "      <td>7</td>\n",
       "      <td>400000</td>\n",
       "    </tr>\n",
       "    <tr>\n",
       "      <th>8800</th>\n",
       "      <td>6</td>\n",
       "      <td>235000</td>\n",
       "    </tr>\n",
       "    <tr>\n",
       "      <th>3553</th>\n",
       "      <td>7</td>\n",
       "      <td>402500</td>\n",
       "    </tr>\n",
       "    <tr>\n",
       "      <th>...</th>\n",
       "      <td>...</td>\n",
       "      <td>...</td>\n",
       "    </tr>\n",
       "    <tr>\n",
       "      <th>16723</th>\n",
       "      <td>7</td>\n",
       "      <td>365000</td>\n",
       "    </tr>\n",
       "    <tr>\n",
       "      <th>3257</th>\n",
       "      <td>7</td>\n",
       "      <td>380000</td>\n",
       "    </tr>\n",
       "    <tr>\n",
       "      <th>7614</th>\n",
       "      <td>7</td>\n",
       "      <td>339000</td>\n",
       "    </tr>\n",
       "    <tr>\n",
       "      <th>20963</th>\n",
       "      <td>9</td>\n",
       "      <td>399900</td>\n",
       "    </tr>\n",
       "    <tr>\n",
       "      <th>15937</th>\n",
       "      <td>6</td>\n",
       "      <td>268950</td>\n",
       "    </tr>\n",
       "  </tbody>\n",
       "</table>\n",
       "<p>21420 rows × 2 columns</p>\n",
       "</div>"
      ],
      "text/plain": [
       "       grade   price\n",
       "2495       7  300000\n",
       "6729       8  647500\n",
       "8404       7  400000\n",
       "8800       6  235000\n",
       "3553       7  402500\n",
       "...      ...     ...\n",
       "16723      7  365000\n",
       "3257       7  380000\n",
       "7614       7  339000\n",
       "20963      9  399900\n",
       "15937      6  268950\n",
       "\n",
       "[21420 rows x 2 columns]"
      ]
     },
     "execution_count": 163,
     "metadata": {},
     "output_type": "execute_result"
    }
   ],
   "source": [
    "df3_3"
   ]
  },
  {
   "cell_type": "code",
   "execution_count": 164,
   "metadata": {},
   "outputs": [],
   "source": [
    "X=df3_3.drop('price', axis=1)\n",
    "y=df3_3.price"
   ]
  },
  {
   "cell_type": "code",
   "execution_count": 165,
   "metadata": {},
   "outputs": [],
   "source": [
    "from sklearn.preprocessing import StandardScaler\n",
    "\n",
    "X=StandardScaler().fit_transform(X)\n"
   ]
  },
  {
   "cell_type": "code",
   "execution_count": 166,
   "metadata": {
    "scrolled": true
   },
   "outputs": [
    {
     "data": {
      "text/plain": [
       "array([[-0.56554914],\n",
       "       [ 0.28773413],\n",
       "       [-0.56554914],\n",
       "       ...,\n",
       "       [-0.56554914],\n",
       "       [ 1.14101741],\n",
       "       [-1.41883242]])"
      ]
     },
     "execution_count": 166,
     "metadata": {},
     "output_type": "execute_result"
    }
   ],
   "source": [
    "X"
   ]
  },
  {
   "cell_type": "code",
   "execution_count": 167,
   "metadata": {},
   "outputs": [],
   "source": [
    "from sklearn.model_selection import train_test_split as tts\n",
    "\n",
    "X_train, X_test, y_train, y_test=tts(X, y, test_size=.25, random_state = 42)"
   ]
  },
  {
   "cell_type": "code",
   "execution_count": 168,
   "metadata": {},
   "outputs": [
    {
     "name": "stdout",
     "output_type": "stream",
     "text": [
      "                            OLS Regression Results                            \n",
      "==============================================================================\n",
      "Dep. Variable:                  price   R-squared:                       0.444\n",
      "Model:                            OLS   Adj. R-squared:                  0.444\n",
      "Method:                 Least Squares   F-statistic:                 1.284e+04\n",
      "Date:                Thu, 19 Nov 2020   Prob (F-statistic):               0.00\n",
      "Time:                        14:17:10   Log-Likelihood:            -2.2395e+05\n",
      "No. Observations:               16065   AIC:                         4.479e+05\n",
      "Df Residuals:                   16063   BIC:                         4.479e+05\n",
      "Df Model:                           1                                         \n",
      "Covariance Type:            nonrobust                                         \n",
      "==============================================================================\n",
      "                 coef    std err          t      P>|t|      [0.025      0.975]\n",
      "------------------------------------------------------------------------------\n",
      "const       5.409e+05   2162.545    250.141      0.000    5.37e+05    5.45e+05\n",
      "x1          2.448e+05   2160.449    113.333      0.000    2.41e+05    2.49e+05\n",
      "==============================================================================\n",
      "Omnibus:                    15106.681   Durbin-Watson:                   1.989\n",
      "Prob(Omnibus):                  0.000   Jarque-Bera (JB):          1674771.032\n",
      "Skew:                           4.201   Prob(JB):                         0.00\n",
      "Kurtosis:                      52.309   Cond. No.                         1.00\n",
      "==============================================================================\n",
      "\n",
      "Notes:\n",
      "[1] Standard Errors assume that the covariance matrix of the errors is correctly specified.\n"
     ]
    }
   ],
   "source": [
    "import warnings\n",
    "warnings.simplefilter('ignore')\n",
    "\n",
    "import statsmodels.api as sm\n",
    "from statsmodels.formula.api import ols\n",
    "\n",
    "X_train_wi=sm.add_constant(X_train)\n",
    "model=sm.OLS(y_train,X_train_wi).fit()\n",
    "\n",
    "print(model.summary())"
   ]
  },
  {
   "cell_type": "code",
   "execution_count": 169,
   "metadata": {},
   "outputs": [],
   "source": [
    "from sklearn.linear_model import LinearRegression as LinReg\n",
    "\n",
    "linreg=LinReg()    # model\n",
    "linreg.fit(X_train, y_train)   # model train\n",
    "y_pred_linreg=linreg.predict(X_test)"
   ]
  },
  {
   "cell_type": "markdown",
   "metadata": {},
   "source": [
    "# R2"
   ]
  },
  {
   "cell_type": "code",
   "execution_count": 170,
   "metadata": {},
   "outputs": [
    {
     "name": "stdout",
     "output_type": "stream",
     "text": [
      "train R2: 0.4443273635440379 -- test R2: 0.4456582629115996\n"
     ]
    }
   ],
   "source": [
    "print ('train R2: {} -- test R2: {}'.format(linreg.score(X_train, y_train),\n",
    "                                            linreg.score(X_test, y_test)))"
   ]
  },
  {
   "cell_type": "markdown",
   "metadata": {},
   "source": [
    "# MSE"
   ]
  },
  {
   "cell_type": "code",
   "execution_count": 171,
   "metadata": {},
   "outputs": [
    {
     "name": "stdout",
     "output_type": "stream",
     "text": [
      "train MSE: 75120023644.30289 -- test MSE: 74726276774.8171\n"
     ]
    }
   ],
   "source": [
    "from sklearn.metrics import mean_squared_error as mse\n",
    "\n",
    "\n",
    "train_mse=mse(linreg.predict(X_train), y_train)\n",
    "test_mse=mse(linreg.predict(X_test), y_test)\n",
    "\n",
    "print ('train MSE: {} -- test MSE: {}'.format(train_mse, test_mse))"
   ]
  },
  {
   "cell_type": "markdown",
   "metadata": {},
   "source": [
    "# OTHER MODELS "
   ]
  },
  {
   "cell_type": "code",
   "execution_count": 172,
   "metadata": {},
   "outputs": [],
   "source": [
    "# sklearn\n",
    "from sklearn.linear_model import LinearRegression, Lasso, Ridge, ElasticNet, SGDRegressor\n",
    "from sklearn.tree import DecisionTreeRegressor\n",
    "from sklearn.neighbors import KNeighborsRegressor\n",
    "from sklearn.svm import SVR\n",
    "from sklearn.neural_network import MLPRegressor\n",
    "from sklearn.ensemble import RandomForestRegressor, GradientBoostingRegressor\n",
    "from sklearn.model_selection import train_test_split\n"
   ]
  },
  {
   "cell_type": "code",
   "execution_count": 173,
   "metadata": {
    "scrolled": true
   },
   "outputs": [
    {
     "name": "stdout",
     "output_type": "stream",
     "text": [
      "LinearRegression: Train -> 0.4443273635440379, Test -> 0.4456582629115996\n",
      "Lasso: Train -> 0.44432736353665503, Test -> 0.44565824851881364\n",
      "Ridge: Train -> 0.4443273618292699, Test -> 0.44565804196776604\n",
      "ElasticNet: Train -> 0.39508462253270615, Test -> 0.3954813244579607\n"
     ]
    }
   ],
   "source": [
    "def models_automation(models, X_train, y_train):\n",
    "    for model in models:\n",
    "        model.fit(X_train, y_train)\n",
    "        print(f\"{model.__class__.__name__}: Train -> {model.score(X_train, y_train)}, Test -> {model.score(X_test, y_test)}\")\n",
    "\n",
    "linear_models = [LinearRegression(), Lasso(), Ridge(), ElasticNet()]\n",
    "models_automation(linear_models, X_train, y_train)"
   ]
  },
  {
   "cell_type": "code",
   "execution_count": 174,
   "metadata": {},
   "outputs": [
    {
     "name": "stdout",
     "output_type": "stream",
     "text": [
      "SVR: Train -> -0.05460750766305278, Test -> -0.05733297415928207\n"
     ]
    }
   ],
   "source": [
    "from sklearn.svm import SVR\n",
    "svr = [SVR()]\n",
    "models_automation(svr, X_train, y_train)"
   ]
  },
  {
   "cell_type": "code",
   "execution_count": 175,
   "metadata": {
    "scrolled": true
   },
   "outputs": [
    {
     "name": "stdout",
     "output_type": "stream",
     "text": [
      "KNeighborsRegressor: Train -> 0.27395818498780966, Test -> 0.3065024278762103\n"
     ]
    }
   ],
   "source": [
    "from sklearn.neighbors import KNeighborsRegressor\n",
    "knn = [KNeighborsRegressor()]\n",
    "models_automation(knn, X_train, y_train)"
   ]
  },
  {
   "cell_type": "code",
   "execution_count": 176,
   "metadata": {
    "scrolled": false
   },
   "outputs": [
    {
     "name": "stdout",
     "output_type": "stream",
     "text": [
      "DecisionTreeRegressor: Train -> 0.5174115307191618, Test -> 0.5239908684484536\n"
     ]
    }
   ],
   "source": [
    "from sklearn.tree import DecisionTreeRegressor\n",
    "dtr = [DecisionTreeRegressor()]\n",
    "models_automation(dtr, X_train, y_train)"
   ]
  },
  {
   "cell_type": "code",
   "execution_count": 177,
   "metadata": {
    "scrolled": true
   },
   "outputs": [
    {
     "name": "stdout",
     "output_type": "stream",
     "text": [
      "GradientBoostingRegressor: Train -> 0.5174115286143539, Test -> 0.523988822976615\n",
      "RandomForestRegressor: Train -> 0.5173708694888377, Test -> 0.5233513499155212\n"
     ]
    }
   ],
   "source": [
    "from sklearn.ensemble import GradientBoostingRegressor\n",
    "from sklearn.ensemble import RandomForestRegressor\n",
    "rfr = [GradientBoostingRegressor(), RandomForestRegressor()]\n",
    "models_automation(rfr, X_train, y_train)"
   ]
  },
  {
   "cell_type": "markdown",
   "metadata": {},
   "source": [
    "# RESULTS ITERATION 3, TEST 3: \n",
    "Exactly the same conclusion as the previous 2 tests: pretty much identical to iteration 1, test 3.\n",
    "I think scaling was useful to standardise certain things, but in terms of the end result there was little impact. \n",
    "Unlike 3.1 and 3.2, however, the KNN was only marginally better than in 1.3, at 0.3 v 0.29 "
   ]
  },
  {
   "cell_type": "markdown",
   "metadata": {},
   "source": [
    "# CONCLUSIONS"
   ]
  },
  {
   "cell_type": "markdown",
   "metadata": {},
   "source": [
    "1. MORE DATA IS BETTER\n",
    "2. CLEANING by eliminating data doesn't seem to be helpful, at least for this dataset. \n",
    "3. SCALING cleaned up the organisation of the data, but didn't seem to affect the end results in a substanial way. \n",
    "4. Although it only achieved 0.44, Grade is clearly the most influential column in determining the price of a house \n"
   ]
  },
  {
   "cell_type": "markdown",
   "metadata": {},
   "source": [
    "# Trying to check which factors are  responsible for higher price values, i.e. of 650k and above. "
   ]
  },
  {
   "cell_type": "markdown",
   "metadata": {},
   "source": [
    "### GOALS\n",
    "\n",
    "##### List which factors are responsible for higher property values of $650K and above.\n",
    "\n"
   ]
  },
  {
   "cell_type": "markdown",
   "metadata": {},
   "source": [
    "First we need to create a subset of the original dataframe, whee only properties greater than or equal to 650k are included\n"
   ]
  },
  {
   "cell_type": "code",
   "execution_count": 178,
   "metadata": {},
   "outputs": [],
   "source": [
    "df650 = df[df.price >= 650000]"
   ]
  },
  {
   "cell_type": "code",
   "execution_count": 179,
   "metadata": {},
   "outputs": [
    {
     "data": {
      "text/html": [
       "<div>\n",
       "<style scoped>\n",
       "    .dataframe tbody tr th:only-of-type {\n",
       "        vertical-align: middle;\n",
       "    }\n",
       "\n",
       "    .dataframe tbody tr th {\n",
       "        vertical-align: top;\n",
       "    }\n",
       "\n",
       "    .dataframe thead th {\n",
       "        text-align: right;\n",
       "    }\n",
       "</style>\n",
       "<table border=\"1\" class=\"dataframe\">\n",
       "  <thead>\n",
       "    <tr style=\"text-align: right;\">\n",
       "      <th></th>\n",
       "      <th>bedrooms</th>\n",
       "      <th>bathrooms</th>\n",
       "      <th>floors</th>\n",
       "      <th>waterfront</th>\n",
       "      <th>view</th>\n",
       "      <th>condition</th>\n",
       "      <th>grade</th>\n",
       "      <th>sqft_above</th>\n",
       "      <th>sqft_basement</th>\n",
       "      <th>yr_built</th>\n",
       "      <th>yr_renovated</th>\n",
       "      <th>sqft_living15</th>\n",
       "      <th>sqft_lot15</th>\n",
       "      <th>price</th>\n",
       "    </tr>\n",
       "  </thead>\n",
       "  <tbody>\n",
       "    <tr>\n",
       "      <th>18506</th>\n",
       "      <td>4</td>\n",
       "      <td>2.75</td>\n",
       "      <td>1.0</td>\n",
       "      <td>0</td>\n",
       "      <td>0</td>\n",
       "      <td>5</td>\n",
       "      <td>7</td>\n",
       "      <td>1170</td>\n",
       "      <td>1</td>\n",
       "      <td>1951</td>\n",
       "      <td>0</td>\n",
       "      <td>1540</td>\n",
       "      <td>4200</td>\n",
       "      <td>680000</td>\n",
       "    </tr>\n",
       "    <tr>\n",
       "      <th>11937</th>\n",
       "      <td>3</td>\n",
       "      <td>2.50</td>\n",
       "      <td>2.0</td>\n",
       "      <td>0</td>\n",
       "      <td>0</td>\n",
       "      <td>3</td>\n",
       "      <td>10</td>\n",
       "      <td>2870</td>\n",
       "      <td>0</td>\n",
       "      <td>1991</td>\n",
       "      <td>0</td>\n",
       "      <td>2840</td>\n",
       "      <td>8472</td>\n",
       "      <td>872750</td>\n",
       "    </tr>\n",
       "    <tr>\n",
       "      <th>437</th>\n",
       "      <td>3</td>\n",
       "      <td>2.50</td>\n",
       "      <td>2.0</td>\n",
       "      <td>0</td>\n",
       "      <td>0</td>\n",
       "      <td>3</td>\n",
       "      <td>10</td>\n",
       "      <td>3130</td>\n",
       "      <td>0</td>\n",
       "      <td>1991</td>\n",
       "      <td>0</td>\n",
       "      <td>2860</td>\n",
       "      <td>9003</td>\n",
       "      <td>843000</td>\n",
       "    </tr>\n",
       "    <tr>\n",
       "      <th>1089</th>\n",
       "      <td>5</td>\n",
       "      <td>2.75</td>\n",
       "      <td>2.0</td>\n",
       "      <td>0</td>\n",
       "      <td>0</td>\n",
       "      <td>3</td>\n",
       "      <td>10</td>\n",
       "      <td>3010</td>\n",
       "      <td>0</td>\n",
       "      <td>1994</td>\n",
       "      <td>0</td>\n",
       "      <td>2890</td>\n",
       "      <td>9456</td>\n",
       "      <td>837700</td>\n",
       "    </tr>\n",
       "    <tr>\n",
       "      <th>6875</th>\n",
       "      <td>3</td>\n",
       "      <td>3.25</td>\n",
       "      <td>2.0</td>\n",
       "      <td>0</td>\n",
       "      <td>0</td>\n",
       "      <td>3</td>\n",
       "      <td>10</td>\n",
       "      <td>2460</td>\n",
       "      <td>1</td>\n",
       "      <td>1994</td>\n",
       "      <td>0</td>\n",
       "      <td>2990</td>\n",
       "      <td>9598</td>\n",
       "      <td>715000</td>\n",
       "    </tr>\n",
       "    <tr>\n",
       "      <th>...</th>\n",
       "      <td>...</td>\n",
       "      <td>...</td>\n",
       "      <td>...</td>\n",
       "      <td>...</td>\n",
       "      <td>...</td>\n",
       "      <td>...</td>\n",
       "      <td>...</td>\n",
       "      <td>...</td>\n",
       "      <td>...</td>\n",
       "      <td>...</td>\n",
       "      <td>...</td>\n",
       "      <td>...</td>\n",
       "      <td>...</td>\n",
       "      <td>...</td>\n",
       "    </tr>\n",
       "    <tr>\n",
       "      <th>14236</th>\n",
       "      <td>4</td>\n",
       "      <td>2.25</td>\n",
       "      <td>2.0</td>\n",
       "      <td>0</td>\n",
       "      <td>0</td>\n",
       "      <td>3</td>\n",
       "      <td>7</td>\n",
       "      <td>1920</td>\n",
       "      <td>1</td>\n",
       "      <td>1980</td>\n",
       "      <td>0</td>\n",
       "      <td>1890</td>\n",
       "      <td>4400</td>\n",
       "      <td>655000</td>\n",
       "    </tr>\n",
       "    <tr>\n",
       "      <th>1714</th>\n",
       "      <td>3</td>\n",
       "      <td>1.00</td>\n",
       "      <td>1.5</td>\n",
       "      <td>0</td>\n",
       "      <td>0</td>\n",
       "      <td>4</td>\n",
       "      <td>8</td>\n",
       "      <td>1700</td>\n",
       "      <td>0</td>\n",
       "      <td>1906</td>\n",
       "      <td>0</td>\n",
       "      <td>1610</td>\n",
       "      <td>4180</td>\n",
       "      <td>800000</td>\n",
       "    </tr>\n",
       "    <tr>\n",
       "      <th>4675</th>\n",
       "      <td>3</td>\n",
       "      <td>1.50</td>\n",
       "      <td>1.5</td>\n",
       "      <td>0</td>\n",
       "      <td>0</td>\n",
       "      <td>4</td>\n",
       "      <td>7</td>\n",
       "      <td>1490</td>\n",
       "      <td>0</td>\n",
       "      <td>1906</td>\n",
       "      <td>0</td>\n",
       "      <td>1560</td>\n",
       "      <td>4400</td>\n",
       "      <td>670000</td>\n",
       "    </tr>\n",
       "    <tr>\n",
       "      <th>4817</th>\n",
       "      <td>3</td>\n",
       "      <td>1.75</td>\n",
       "      <td>1.5</td>\n",
       "      <td>0</td>\n",
       "      <td>0</td>\n",
       "      <td>3</td>\n",
       "      <td>8</td>\n",
       "      <td>1740</td>\n",
       "      <td>0</td>\n",
       "      <td>1903</td>\n",
       "      <td>0</td>\n",
       "      <td>1740</td>\n",
       "      <td>4400</td>\n",
       "      <td>650500</td>\n",
       "    </tr>\n",
       "    <tr>\n",
       "      <th>13015</th>\n",
       "      <td>2</td>\n",
       "      <td>1.00</td>\n",
       "      <td>1.5</td>\n",
       "      <td>0</td>\n",
       "      <td>0</td>\n",
       "      <td>4</td>\n",
       "      <td>8</td>\n",
       "      <td>1570</td>\n",
       "      <td>0</td>\n",
       "      <td>1914</td>\n",
       "      <td>0</td>\n",
       "      <td>1850</td>\n",
       "      <td>4400</td>\n",
       "      <td>998500</td>\n",
       "    </tr>\n",
       "  </tbody>\n",
       "</table>\n",
       "<p>5305 rows × 14 columns</p>\n",
       "</div>"
      ],
      "text/plain": [
       "       bedrooms  bathrooms  floors  waterfront  view  condition  grade  \\\n",
       "18506         4       2.75     1.0           0     0          5      7   \n",
       "11937         3       2.50     2.0           0     0          3     10   \n",
       "437           3       2.50     2.0           0     0          3     10   \n",
       "1089          5       2.75     2.0           0     0          3     10   \n",
       "6875          3       3.25     2.0           0     0          3     10   \n",
       "...         ...        ...     ...         ...   ...        ...    ...   \n",
       "14236         4       2.25     2.0           0     0          3      7   \n",
       "1714          3       1.00     1.5           0     0          4      8   \n",
       "4675          3       1.50     1.5           0     0          4      7   \n",
       "4817          3       1.75     1.5           0     0          3      8   \n",
       "13015         2       1.00     1.5           0     0          4      8   \n",
       "\n",
       "       sqft_above  sqft_basement  yr_built  yr_renovated  sqft_living15  \\\n",
       "18506        1170              1      1951             0           1540   \n",
       "11937        2870              0      1991             0           2840   \n",
       "437          3130              0      1991             0           2860   \n",
       "1089         3010              0      1994             0           2890   \n",
       "6875         2460              1      1994             0           2990   \n",
       "...           ...            ...       ...           ...            ...   \n",
       "14236        1920              1      1980             0           1890   \n",
       "1714         1700              0      1906             0           1610   \n",
       "4675         1490              0      1906             0           1560   \n",
       "4817         1740              0      1903             0           1740   \n",
       "13015        1570              0      1914             0           1850   \n",
       "\n",
       "       sqft_lot15   price  \n",
       "18506        4200  680000  \n",
       "11937        8472  872750  \n",
       "437          9003  843000  \n",
       "1089         9456  837700  \n",
       "6875         9598  715000  \n",
       "...           ...     ...  \n",
       "14236        4400  655000  \n",
       "1714         4180  800000  \n",
       "4675         4400  670000  \n",
       "4817         4400  650500  \n",
       "13015        4400  998500  \n",
       "\n",
       "[5305 rows x 14 columns]"
      ]
     },
     "execution_count": 179,
     "metadata": {},
     "output_type": "execute_result"
    }
   ],
   "source": [
    "df650"
   ]
  },
  {
   "cell_type": "markdown",
   "metadata": {},
   "source": [
    "Seems to have worked, we have reduced the amount of entries by over 16,000 or approx 75% of our dataset. \n",
    "This implies that only 25% of houses were above $650k. "
   ]
  },
  {
   "cell_type": "code",
   "execution_count": 180,
   "metadata": {},
   "outputs": [
    {
     "data": {
      "text/html": [
       "<div>\n",
       "<style scoped>\n",
       "    .dataframe tbody tr th:only-of-type {\n",
       "        vertical-align: middle;\n",
       "    }\n",
       "\n",
       "    .dataframe tbody tr th {\n",
       "        vertical-align: top;\n",
       "    }\n",
       "\n",
       "    .dataframe thead th {\n",
       "        text-align: right;\n",
       "    }\n",
       "</style>\n",
       "<table border=\"1\" class=\"dataframe\">\n",
       "  <thead>\n",
       "    <tr style=\"text-align: right;\">\n",
       "      <th></th>\n",
       "      <th>bedrooms</th>\n",
       "      <th>bathrooms</th>\n",
       "      <th>floors</th>\n",
       "      <th>waterfront</th>\n",
       "      <th>view</th>\n",
       "      <th>condition</th>\n",
       "      <th>grade</th>\n",
       "      <th>sqft_above</th>\n",
       "      <th>sqft_basement</th>\n",
       "      <th>yr_built</th>\n",
       "      <th>yr_renovated</th>\n",
       "      <th>sqft_living15</th>\n",
       "      <th>sqft_lot15</th>\n",
       "      <th>price</th>\n",
       "    </tr>\n",
       "  </thead>\n",
       "  <tbody>\n",
       "    <tr>\n",
       "      <th>bedrooms</th>\n",
       "      <td>1.000000</td>\n",
       "      <td>0.439651</td>\n",
       "      <td>0.152674</td>\n",
       "      <td>-0.057318</td>\n",
       "      <td>-0.020849</td>\n",
       "      <td>-0.021707</td>\n",
       "      <td>0.204242</td>\n",
       "      <td>0.349928</td>\n",
       "      <td>0.087611</td>\n",
       "      <td>0.089422</td>\n",
       "      <td>-0.016596</td>\n",
       "      <td>0.224648</td>\n",
       "      <td>-0.003272</td>\n",
       "      <td>0.202591</td>\n",
       "    </tr>\n",
       "    <tr>\n",
       "      <th>bathrooms</th>\n",
       "      <td>0.439651</td>\n",
       "      <td>1.000000</td>\n",
       "      <td>0.360837</td>\n",
       "      <td>0.050470</td>\n",
       "      <td>0.104271</td>\n",
       "      <td>-0.192619</td>\n",
       "      <td>0.583825</td>\n",
       "      <td>0.636927</td>\n",
       "      <td>0.091093</td>\n",
       "      <td>0.416975</td>\n",
       "      <td>0.044628</td>\n",
       "      <td>0.401366</td>\n",
       "      <td>0.131655</td>\n",
       "      <td>0.466098</td>\n",
       "    </tr>\n",
       "    <tr>\n",
       "      <th>floors</th>\n",
       "      <td>0.152674</td>\n",
       "      <td>0.360837</td>\n",
       "      <td>1.000000</td>\n",
       "      <td>0.001139</td>\n",
       "      <td>-0.091422</td>\n",
       "      <td>-0.289511</td>\n",
       "      <td>0.393365</td>\n",
       "      <td>0.517176</td>\n",
       "      <td>-0.332830</td>\n",
       "      <td>0.348225</td>\n",
       "      <td>-0.007813</td>\n",
       "      <td>0.158748</td>\n",
       "      <td>0.031804</td>\n",
       "      <td>0.127331</td>\n",
       "    </tr>\n",
       "    <tr>\n",
       "      <th>waterfront</th>\n",
       "      <td>-0.057318</td>\n",
       "      <td>0.050470</td>\n",
       "      <td>0.001139</td>\n",
       "      <td>1.000000</td>\n",
       "      <td>0.280975</td>\n",
       "      <td>0.003565</td>\n",
       "      <td>0.044663</td>\n",
       "      <td>0.027223</td>\n",
       "      <td>0.046774</td>\n",
       "      <td>-0.028946</td>\n",
       "      <td>0.098965</td>\n",
       "      <td>0.051310</td>\n",
       "      <td>0.013494</td>\n",
       "      <td>0.311508</td>\n",
       "    </tr>\n",
       "    <tr>\n",
       "      <th>view</th>\n",
       "      <td>-0.020849</td>\n",
       "      <td>0.104271</td>\n",
       "      <td>-0.091422</td>\n",
       "      <td>0.280975</td>\n",
       "      <td>1.000000</td>\n",
       "      <td>0.053934</td>\n",
       "      <td>0.110605</td>\n",
       "      <td>-0.018000</td>\n",
       "      <td>0.277136</td>\n",
       "      <td>-0.097762</td>\n",
       "      <td>0.110455</td>\n",
       "      <td>0.156515</td>\n",
       "      <td>0.002546</td>\n",
       "      <td>0.287157</td>\n",
       "    </tr>\n",
       "    <tr>\n",
       "      <th>condition</th>\n",
       "      <td>-0.021707</td>\n",
       "      <td>-0.192619</td>\n",
       "      <td>-0.289511</td>\n",
       "      <td>0.003565</td>\n",
       "      <td>0.053934</td>\n",
       "      <td>1.000000</td>\n",
       "      <td>-0.290030</td>\n",
       "      <td>-0.312809</td>\n",
       "      <td>0.243093</td>\n",
       "      <td>-0.480095</td>\n",
       "      <td>-0.105924</td>\n",
       "      <td>-0.168423</td>\n",
       "      <td>-0.068886</td>\n",
       "      <td>0.002770</td>\n",
       "    </tr>\n",
       "    <tr>\n",
       "      <th>grade</th>\n",
       "      <td>0.204242</td>\n",
       "      <td>0.583825</td>\n",
       "      <td>0.393365</td>\n",
       "      <td>0.044663</td>\n",
       "      <td>0.110605</td>\n",
       "      <td>-0.290030</td>\n",
       "      <td>1.000000</td>\n",
       "      <td>0.726372</td>\n",
       "      <td>-0.145773</td>\n",
       "      <td>0.500721</td>\n",
       "      <td>-0.065355</td>\n",
       "      <td>0.618956</td>\n",
       "      <td>0.175391</td>\n",
       "      <td>0.508272</td>\n",
       "    </tr>\n",
       "    <tr>\n",
       "      <th>sqft_above</th>\n",
       "      <td>0.349928</td>\n",
       "      <td>0.636927</td>\n",
       "      <td>0.517176</td>\n",
       "      <td>0.027223</td>\n",
       "      <td>-0.018000</td>\n",
       "      <td>-0.312809</td>\n",
       "      <td>0.726372</td>\n",
       "      <td>1.000000</td>\n",
       "      <td>-0.387407</td>\n",
       "      <td>0.503879</td>\n",
       "      <td>-0.070717</td>\n",
       "      <td>0.599761</td>\n",
       "      <td>0.242159</td>\n",
       "      <td>0.466629</td>\n",
       "    </tr>\n",
       "    <tr>\n",
       "      <th>sqft_basement</th>\n",
       "      <td>0.087611</td>\n",
       "      <td>0.091093</td>\n",
       "      <td>-0.332830</td>\n",
       "      <td>0.046774</td>\n",
       "      <td>0.277136</td>\n",
       "      <td>0.243093</td>\n",
       "      <td>-0.145773</td>\n",
       "      <td>-0.387407</td>\n",
       "      <td>1.000000</td>\n",
       "      <td>-0.318021</td>\n",
       "      <td>0.111308</td>\n",
       "      <td>-0.120404</td>\n",
       "      <td>-0.109194</td>\n",
       "      <td>0.139528</td>\n",
       "    </tr>\n",
       "    <tr>\n",
       "      <th>yr_built</th>\n",
       "      <td>0.089422</td>\n",
       "      <td>0.416975</td>\n",
       "      <td>0.348225</td>\n",
       "      <td>-0.028946</td>\n",
       "      <td>-0.097762</td>\n",
       "      <td>-0.480095</td>\n",
       "      <td>0.500721</td>\n",
       "      <td>0.503879</td>\n",
       "      <td>-0.318021</td>\n",
       "      <td>1.000000</td>\n",
       "      <td>-0.295408</td>\n",
       "      <td>0.368859</td>\n",
       "      <td>0.152570</td>\n",
       "      <td>0.031385</td>\n",
       "    </tr>\n",
       "    <tr>\n",
       "      <th>yr_renovated</th>\n",
       "      <td>-0.016596</td>\n",
       "      <td>0.044628</td>\n",
       "      <td>-0.007813</td>\n",
       "      <td>0.098965</td>\n",
       "      <td>0.110455</td>\n",
       "      <td>-0.105924</td>\n",
       "      <td>-0.065355</td>\n",
       "      <td>-0.070717</td>\n",
       "      <td>0.111308</td>\n",
       "      <td>-0.295408</td>\n",
       "      <td>1.000000</td>\n",
       "      <td>-0.097193</td>\n",
       "      <td>-0.034127</td>\n",
       "      <td>0.107506</td>\n",
       "    </tr>\n",
       "    <tr>\n",
       "      <th>sqft_living15</th>\n",
       "      <td>0.224648</td>\n",
       "      <td>0.401366</td>\n",
       "      <td>0.158748</td>\n",
       "      <td>0.051310</td>\n",
       "      <td>0.156515</td>\n",
       "      <td>-0.168423</td>\n",
       "      <td>0.618956</td>\n",
       "      <td>0.599761</td>\n",
       "      <td>-0.120404</td>\n",
       "      <td>0.368859</td>\n",
       "      <td>-0.097193</td>\n",
       "      <td>1.000000</td>\n",
       "      <td>0.162649</td>\n",
       "      <td>0.372911</td>\n",
       "    </tr>\n",
       "    <tr>\n",
       "      <th>sqft_lot15</th>\n",
       "      <td>-0.003272</td>\n",
       "      <td>0.131655</td>\n",
       "      <td>0.031804</td>\n",
       "      <td>0.013494</td>\n",
       "      <td>0.002546</td>\n",
       "      <td>-0.068886</td>\n",
       "      <td>0.175391</td>\n",
       "      <td>0.242159</td>\n",
       "      <td>-0.109194</td>\n",
       "      <td>0.152570</td>\n",
       "      <td>-0.034127</td>\n",
       "      <td>0.162649</td>\n",
       "      <td>1.000000</td>\n",
       "      <td>0.038188</td>\n",
       "    </tr>\n",
       "    <tr>\n",
       "      <th>price</th>\n",
       "      <td>0.202591</td>\n",
       "      <td>0.466098</td>\n",
       "      <td>0.127331</td>\n",
       "      <td>0.311508</td>\n",
       "      <td>0.287157</td>\n",
       "      <td>0.002770</td>\n",
       "      <td>0.508272</td>\n",
       "      <td>0.466629</td>\n",
       "      <td>0.139528</td>\n",
       "      <td>0.031385</td>\n",
       "      <td>0.107506</td>\n",
       "      <td>0.372911</td>\n",
       "      <td>0.038188</td>\n",
       "      <td>1.000000</td>\n",
       "    </tr>\n",
       "  </tbody>\n",
       "</table>\n",
       "</div>"
      ],
      "text/plain": [
       "               bedrooms  bathrooms    floors  waterfront      view  condition  \\\n",
       "bedrooms       1.000000   0.439651  0.152674   -0.057318 -0.020849  -0.021707   \n",
       "bathrooms      0.439651   1.000000  0.360837    0.050470  0.104271  -0.192619   \n",
       "floors         0.152674   0.360837  1.000000    0.001139 -0.091422  -0.289511   \n",
       "waterfront    -0.057318   0.050470  0.001139    1.000000  0.280975   0.003565   \n",
       "view          -0.020849   0.104271 -0.091422    0.280975  1.000000   0.053934   \n",
       "condition     -0.021707  -0.192619 -0.289511    0.003565  0.053934   1.000000   \n",
       "grade          0.204242   0.583825  0.393365    0.044663  0.110605  -0.290030   \n",
       "sqft_above     0.349928   0.636927  0.517176    0.027223 -0.018000  -0.312809   \n",
       "sqft_basement  0.087611   0.091093 -0.332830    0.046774  0.277136   0.243093   \n",
       "yr_built       0.089422   0.416975  0.348225   -0.028946 -0.097762  -0.480095   \n",
       "yr_renovated  -0.016596   0.044628 -0.007813    0.098965  0.110455  -0.105924   \n",
       "sqft_living15  0.224648   0.401366  0.158748    0.051310  0.156515  -0.168423   \n",
       "sqft_lot15    -0.003272   0.131655  0.031804    0.013494  0.002546  -0.068886   \n",
       "price          0.202591   0.466098  0.127331    0.311508  0.287157   0.002770   \n",
       "\n",
       "                  grade  sqft_above  sqft_basement  yr_built  yr_renovated  \\\n",
       "bedrooms       0.204242    0.349928       0.087611  0.089422     -0.016596   \n",
       "bathrooms      0.583825    0.636927       0.091093  0.416975      0.044628   \n",
       "floors         0.393365    0.517176      -0.332830  0.348225     -0.007813   \n",
       "waterfront     0.044663    0.027223       0.046774 -0.028946      0.098965   \n",
       "view           0.110605   -0.018000       0.277136 -0.097762      0.110455   \n",
       "condition     -0.290030   -0.312809       0.243093 -0.480095     -0.105924   \n",
       "grade          1.000000    0.726372      -0.145773  0.500721     -0.065355   \n",
       "sqft_above     0.726372    1.000000      -0.387407  0.503879     -0.070717   \n",
       "sqft_basement -0.145773   -0.387407       1.000000 -0.318021      0.111308   \n",
       "yr_built       0.500721    0.503879      -0.318021  1.000000     -0.295408   \n",
       "yr_renovated  -0.065355   -0.070717       0.111308 -0.295408      1.000000   \n",
       "sqft_living15  0.618956    0.599761      -0.120404  0.368859     -0.097193   \n",
       "sqft_lot15     0.175391    0.242159      -0.109194  0.152570     -0.034127   \n",
       "price          0.508272    0.466629       0.139528  0.031385      0.107506   \n",
       "\n",
       "               sqft_living15  sqft_lot15     price  \n",
       "bedrooms            0.224648   -0.003272  0.202591  \n",
       "bathrooms           0.401366    0.131655  0.466098  \n",
       "floors              0.158748    0.031804  0.127331  \n",
       "waterfront          0.051310    0.013494  0.311508  \n",
       "view                0.156515    0.002546  0.287157  \n",
       "condition          -0.168423   -0.068886  0.002770  \n",
       "grade               0.618956    0.175391  0.508272  \n",
       "sqft_above          0.599761    0.242159  0.466629  \n",
       "sqft_basement      -0.120404   -0.109194  0.139528  \n",
       "yr_built            0.368859    0.152570  0.031385  \n",
       "yr_renovated       -0.097193   -0.034127  0.107506  \n",
       "sqft_living15       1.000000    0.162649  0.372911  \n",
       "sqft_lot15          0.162649    1.000000  0.038188  \n",
       "price               0.372911    0.038188  1.000000  "
      ]
     },
     "execution_count": 180,
     "metadata": {},
     "output_type": "execute_result"
    }
   ],
   "source": [
    "df650.corr()"
   ]
  },
  {
   "cell_type": "code",
   "execution_count": 181,
   "metadata": {},
   "outputs": [
    {
     "data": {
      "image/png": "[encoded data removed]",
      "text/plain": [
       "<Figure size 720x576 with 2 Axes>"
      ]
     },
     "metadata": {},
     "output_type": "display_data"
    }
   ],
   "source": [
    "mask=np.zeros_like(df650.corr())\n",
    "mask[np.triu_indices_from(mask)]=True\n",
    "fig, ax=plt.subplots(figsize=(10, 8))\n",
    "ax=sns.heatmap(df650.corr(), mask=mask, annot=True, fmt='.2g')\n",
    "plt.show()"
   ]
  },
  {
   "cell_type": "markdown",
   "metadata": {},
   "source": [
    "#### First things noticed"
   ]
  },
  {
   "cell_type": "markdown",
   "metadata": {},
   "source": [
    "The correlations here are quite a bit less than in the original less filtered data. \n",
    "Therefore it would probably be more useful to look at this in Tableau"
   ]
  },
  {
   "cell_type": "markdown",
   "metadata": {},
   "source": [
    "# THANK YOU FOR MAKING IT TO THE END OF MY FIRST PROPER PROJECT IN JUPYTER NOTEBOOK!!!\n",
    "# IT IS EPICALLY LONG! CHEERS!"
   ]
  },
  {
   "cell_type": "code",
   "execution_count": null,
   "metadata": {},
   "outputs": [],
   "source": []
  }
 ],
 "metadata": {
  "kernelspec": {
   "display_name": "Python 3",
   "language": "python",
   "name": "python3"
  },
  "language_info": {
   "codemirror_mode": {
    "name": "ipython",
    "version": 3
   },
   "file_extension": ".py",
   "mimetype": "text/x-python",
   "name": "python",
   "nbconvert_exporter": "python",
   "pygments_lexer": "ipython3",
   "version": "3.7.6"
  }
 },
 "nbformat": 4,
 "nbformat_minor": 4
}
